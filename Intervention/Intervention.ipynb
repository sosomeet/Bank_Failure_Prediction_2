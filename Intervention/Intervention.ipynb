{
 "cells": [
  {
   "cell_type": "code",
   "execution_count": 1,
   "id": "ddddf8eb",
   "metadata": {},
   "outputs": [
    {
     "name": "stdout",
     "output_type": "stream",
     "text": [
      "   Unnamed: 0  leverage_ratio  asset_liabilities       roe  asset_turnover  \\\n",
      "0           1        0.147313           0.324765  0.030303           0.081   \n",
      "1           2        0.145350           0.337108  0.033135           0.085   \n",
      "2           3        0.150875           0.330739  0.038799           0.085   \n",
      "3           4        0.134676           0.328582  0.047295           0.097   \n",
      "4           5        0.132092           0.334915  0.042764           0.106   \n",
      "\n",
      "   debt_ratio  debt_ratio2    roa  capitalization_ratio  longtermdebt_invcap  \\\n",
      "0       0.937        0.043  0.018                 0.244             0.079921   \n",
      "1       0.936        0.041  0.020                 0.230             0.075336   \n",
      "2       0.939        0.049  0.021                 0.317             0.103832   \n",
      "3       0.932        0.070  0.025                 0.272             0.097609   \n",
      "4       0.930        0.071  0.023                 0.244             0.086472   \n",
      "\n",
      "   totaldebt_invcap  cash_debt  debt_ebitda  rect_turn  label  \n",
      "0          0.094772     -0.020     0.006004   0.008668      0  \n",
      "1          0.092001     -0.006     0.005197   0.008950      0  \n",
      "2          0.100129      0.036     0.006270   0.008556      0  \n",
      "3          0.151302     -0.020     0.007343   0.009175      0  \n",
      "4          0.154074      0.063     0.007871   0.010469      0  \n"
     ]
    }
   ],
   "source": [
    "import pandas as pd\n",
    "import numpy as np\n",
    "\n",
    "# 데이터 불러오기\n",
    "DATA_PATH = \"./training_data.csv\"\n",
    "df = pd.read_csv(DATA_PATH)\n",
    "\n",
    "# 섞을 컬럼 지정\n",
    "target_col = \"asset_liabilities\"\n",
    "\n",
    "# 컬럼 값 섞기\n",
    "df[target_col] = np.random.permutation(df[target_col].values)\n",
    "\n",
    "# 확인\n",
    "print(df.head())\n",
    "\n",
    "# 저장 (선택)\n",
    "df.to_csv(\"./training_data_asset_liabilities_shuffled.csv\", index=False)\n"
   ]
  },
  {
   "cell_type": "code",
   "execution_count": null,
   "id": "32eb508b",
   "metadata": {},
   "outputs": [],
   "source": []
  }
 ],
 "metadata": {
  "kernelspec": {
   "display_name": "Python 3",
   "language": "python",
   "name": "python3"
  },
  "language_info": {
   "codemirror_mode": {
    "name": "ipython",
    "version": 3
   },
   "file_extension": ".py",
   "mimetype": "text/x-python",
   "name": "python",
   "nbconvert_exporter": "python",
   "pygments_lexer": "ipython3",
   "version": "3.9.1"
  }
 },
 "nbformat": 4,
 "nbformat_minor": 5
}
