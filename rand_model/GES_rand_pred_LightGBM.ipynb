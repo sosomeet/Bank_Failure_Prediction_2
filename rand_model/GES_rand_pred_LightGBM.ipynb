{
 "cells": [
  {
   "cell_type": "code",
   "execution_count": 1,
   "id": "8c222efa",
   "metadata": {},
   "outputs": [],
   "source": [
    "# %pip install -q causal-learn"
   ]
  },
  {
   "cell_type": "code",
   "execution_count": null,
   "id": "44ebb88b",
   "metadata": {},
   "outputs": [],
   "source": [
    "import numpy as np\n",
    "import pandas as pd\n",
    "from pathlib import Path\n",
    "\n",
    "from sklearn.preprocessing import StandardScaler\n",
    "import networkx as nx\n",
    "import matplotlib.pyplot as plt\n",
    "import matplotlib\n",
    "\n",
    "# causal-learn: 정확한 GES 구현\n",
    "from causallearn.search.ScoreBased.GES import ges   # 기본 점수는 BIC\n",
    "# from causallearn.score.LocalScoreFunction import local_score_BIC\n",
    "\n",
    "# 한글 폰트/마이너스 설정(선택)\n",
    "plt.rcParams['font.family'] = 'Malgun Gothic'\n",
    "matplotlib.rcParams['axes.unicode_minus'] = False\n",
    "\n",
    "# 0) 데이터 로드 (기존과 동일)\n",
    "df = pd.read_csv(\"training_data.csv\")\n",
    "feature_cols = df.drop(columns=[\"Unnamed: 0\", \"label\"]).columns\n",
    "X_base = df[feature_cols].copy()\n",
    "y = df[\"label\"].astype(int)\n",
    "cols_for_w = list(feature_cols)\n",
    "cols = cols_for_w  # 시각화 라벨 호환\n",
    "\n",
    "# 1) 정확한 GES 실행 (기본 BIC 점수 사용)\n",
    "X_np = X_base.values.astype(float)\n",
    "Record = ges(X_np)  # 또는 Record = ges(X_np, score_func='local_score_BIC')\n",
    "Gmat = Record['G'].graph  # orientation 행렬 (numpy.ndarray)\n",
    "# 문서: G.graph[j,i]=1 & G.graph[i,j]=-1 이면 i -> j (i가 부모, j가 자식)\n",
    "\n",
    "# 2) 방향성 인접행렬 A (i <- j 형태로 저장하기 위해 A[child, parent]=1)\n",
    "p = len(cols_for_w)\n",
    "A = np.zeros((p, p), dtype=float)\n",
    "for i in range(p):\n",
    "    for j in range(p):\n",
    "        if i == j:\n",
    "            continue\n",
    "        # i -> j ?\n",
    "        if (Gmat[j, i] == 1) and (Gmat[i, j] == -1):\n",
    "            A[j, i] = 1.0  # child=j, parent=i\n",
    "\n",
    "# 3) 표준화 OLS로 엣지 가중치 행렬 W (i <- j)\n",
    "Z = StandardScaler().fit_transform(X_np)\n",
    "W = np.zeros_like(A, dtype=float)\n",
    "for child in range(p):\n",
    "    parents = np.where(A[child, :] == 1.0)[0]\n",
    "    if parents.size == 0:\n",
    "        continue\n",
    "    y_child = Z[:, child]\n",
    "    X_par = Z[:, parents]\n",
    "    coef, *_ = np.linalg.lstsq(X_par, y_child, rcond=None)  # 절편 없음(표준화)\n",
    "    W[child, parents] = coef.astype(float)\n",
    "\n",
    "# ============ 여기부터 시각화 개선(음수 가중치 지원) ============\n",
    "\n",
    "# 시각화 임계 설정\n",
    "USE_QUANTILE = False      # 분위수 임계 사용 여부\n",
    "W_THRESHOLD = 0.01        # 고정 임계(|W|>0.01)\n",
    "W_ABS_QUANTILE = 0.90     # 상위 10%만 (USE_QUANTILE=True일 때 사용)\n",
    "\n",
    "TOP_K_EDGES = None        # 상위 |w| 간선만 표시하고 싶으면 정수(예: 100)로 설정\n",
    "\n",
    "def get_threshold(W, fixed=W_THRESHOLD, use_q=USE_QUANTILE, q=W_ABS_QUANTILE):\n",
    "    if not use_q:\n",
    "        return fixed\n",
    "    aw = np.abs(W).ravel()\n",
    "    aw = aw[aw > 0]\n",
    "    return float(np.quantile(aw, q)) if aw.size else fixed\n",
    "\n",
    "thr = get_threshold(W)\n",
    "\n",
    "# 4) 임계 적용 + (선택) 상위 K개 필터 → DiGraph 구성\n",
    "edges_all = []\n",
    "for i in range(p):\n",
    "    for j in range(p):\n",
    "        if i == j:\n",
    "            continue\n",
    "        w = float(W[i, j])\n",
    "        if abs(w) > thr:\n",
    "            edges_all.append((cols[j], cols[i], w))  # parent -> child, weight=w\n",
    "\n",
    "# 상위 K개만 표시(선택)\n",
    "if TOP_K_EDGES is not None and TOP_K_EDGES > 0 and len(edges_all) > TOP_K_EDGES:\n",
    "    edges_all = sorted(edges_all, key=lambda t: abs(t[2]), reverse=True)[:TOP_K_EDGES]\n",
    "\n",
    "G = nx.DiGraph()\n",
    "for u, v, w in edges_all:\n",
    "    G.add_edge(u, v, weight=round(w, 3))\n",
    "\n",
    "# ---- 배치: 음수 가중치 문제 해결 (거리=1/(|w|+ε)로 양의 거리 그래프 H 구성)\n",
    "eps = 1e-6\n",
    "H = nx.Graph()  # 레이아웃 전용 보조 그래프(무향 + 양의 거리)\n",
    "for u, v, d in G.edges(data=True):\n",
    "    w = d.get(\"weight\", 0.0)\n",
    "    dist = 1.0 / (abs(w) + eps)   # |w| 클수록 더 가까워지도록\n",
    "    H.add_edge(u, v, weight=dist)\n",
    "\n",
    "pos = nx.kamada_kawai_layout(H, weight='weight')  # 안정적 배치\n",
    "\n",
    "# ---- 스타일: 부호/크기 시각화\n",
    "max_abs = max((abs(d[\"weight\"]) for _, _, d in G.edges(data=True)), default=1.0)\n",
    "pos_edges = [(u, v) for u, v, d in G.edges(data=True) if d[\"weight\"] >= 0]\n",
    "neg_edges = [(u, v) for u, v, d in G.edges(data=True) if d[\"weight\"] < 0]\n",
    "pos_widths = [1.0 + 3.0 * abs(G[u][v][\"weight\"]) / max_abs for u, v in pos_edges]\n",
    "neg_widths = [1.0 + 3.0 * abs(G[u][v][\"weight\"]) / max_abs for u, v in neg_edges]\n",
    "\n",
    "plt.figure(figsize=(10, 8))\n",
    "nx.draw_networkx_nodes(G, pos, node_size=2000, node_color=\"white\", edgecolors=\"black\")\n",
    "nx.draw_networkx_labels(G, pos, font_size=10)\n",
    "\n",
    "# 양수: 파란 실선 / 음수: 빨간 점선\n",
    "nx.draw_networkx_edges(G, pos, edgelist=pos_edges, edge_color=\"tab:blue\", width=pos_widths, arrows=True)\n",
    "nx.draw_networkx_edges(G, pos, edgelist=neg_edges, edge_color=\"tab:red\",  width=neg_widths, style=\"dashed\", arrows=True)\n",
    "\n",
    "# 원래 가중치 라벨(부호 유지)\n",
    "nx.draw_networkx_edge_labels(G, pos, edge_labels=nx.get_edge_attributes(G, 'weight'), font_size=8)\n",
    "plt.title(\"정확한 GES 기반 인과 그래프 (배치=|w| 거리, 색/스타일=부호, 굵기=|w|)\")\n",
    "plt.axis(\"off\")\n",
    "plt.show()\n"
   ]
  },
  {
   "cell_type": "markdown",
   "id": "5fed852d",
   "metadata": {},
   "source": [
    "가중치 무작위"
   ]
  },
  {
   "cell_type": "code",
   "execution_count": null,
   "id": "0162ec77",
   "metadata": {},
   "outputs": [
    {
     "name": "stdout",
     "output_type": "stream",
     "text": [
      "[O(original)] fold 1/10 ...\n",
      "[LightGBM] [Info] Number of positive: 285, number of negative: 12588\n",
      "[LightGBM] [Info] Auto-choosing row-wise multi-threading, the overhead of testing was 0.000822 seconds.\n",
      "You can set `force_row_wise=true` to remove the overhead.\n",
      "And if memory is not enough, you can set `force_col_wise=true`.\n",
      "[LightGBM] [Info] Total Bins 3030\n",
      "[LightGBM] [Info] Number of data points in the train set: 12873, number of used features: 13\n",
      "[LightGBM] [Info] [binary:BoostFromScore]: pavg=0.500000 -> initscore=0.000000\n",
      "[LightGBM] [Info] Start training from score 0.000000\n",
      "Training until validation scores don't improve for 50 rounds\n",
      "Early stopping, best iteration is:\n",
      "[22]\tvalid_0's auc: 0.928258\tvalid_0's binary_logloss: 0.286746\n",
      "[O(original)] fold 2/10 ...\n",
      "[LightGBM] [Info] Number of positive: 286, number of negative: 12588\n",
      "[LightGBM] [Info] Auto-choosing col-wise multi-threading, the overhead of testing was 0.000356 seconds.\n",
      "You can set `force_col_wise=true` to remove the overhead.\n",
      "[LightGBM] [Info] Total Bins 3026\n",
      "[LightGBM] [Info] Number of data points in the train set: 12874, number of used features: 13\n",
      "[LightGBM] [Info] [binary:BoostFromScore]: pavg=0.500000 -> initscore=-0.000000\n",
      "[LightGBM] [Info] Start training from score -0.000000\n",
      "Training until validation scores don't improve for 50 rounds\n"
     ]
    },
    {
     "name": "stderr",
     "output_type": "stream",
     "text": [
      "c:\\Users\\User\\AppData\\Local\\Programs\\Python\\Python39\\lib\\site-packages\\sklearn\\utils\\validation.py:2739: UserWarning: X does not have valid feature names, but LGBMClassifier was fitted with feature names\n",
      "  warnings.warn(\n"
     ]
    },
    {
     "name": "stdout",
     "output_type": "stream",
     "text": [
      "Early stopping, best iteration is:\n",
      "[106]\tvalid_0's auc: 0.920933\tvalid_0's binary_logloss: 0.0914904\n",
      "[O(original)] fold 3/10 ...\n",
      "[LightGBM] [Info] Number of positive: 286, number of negative: 12588\n",
      "[LightGBM] [Info] Auto-choosing col-wise multi-threading, the overhead of testing was 0.000384 seconds.\n",
      "You can set `force_col_wise=true` to remove the overhead.\n",
      "[LightGBM] [Info] Total Bins 3025\n",
      "[LightGBM] [Info] Number of data points in the train set: 12874, number of used features: 13\n",
      "[LightGBM] [Info] [binary:BoostFromScore]: pavg=0.500000 -> initscore=-0.000000\n",
      "[LightGBM] [Info] Start training from score -0.000000\n",
      "Training until validation scores don't improve for 50 rounds\n"
     ]
    },
    {
     "name": "stderr",
     "output_type": "stream",
     "text": [
      "c:\\Users\\User\\AppData\\Local\\Programs\\Python\\Python39\\lib\\site-packages\\sklearn\\utils\\validation.py:2739: UserWarning: X does not have valid feature names, but LGBMClassifier was fitted with feature names\n",
      "  warnings.warn(\n"
     ]
    },
    {
     "name": "stdout",
     "output_type": "stream",
     "text": [
      "Early stopping, best iteration is:\n",
      "[82]\tvalid_0's auc: 0.953858\tvalid_0's binary_logloss: 0.105681\n",
      "[O(original)] fold 4/10 ...\n",
      "[LightGBM] [Info] Number of positive: 286, number of negative: 12588\n",
      "[LightGBM] [Info] Auto-choosing col-wise multi-threading, the overhead of testing was 0.000528 seconds.\n",
      "You can set `force_col_wise=true` to remove the overhead.\n",
      "[LightGBM] [Info] Total Bins 3034\n",
      "[LightGBM] [Info] Number of data points in the train set: 12874, number of used features: 13\n",
      "[LightGBM] [Info] [binary:BoostFromScore]: pavg=0.500000 -> initscore=-0.000000\n",
      "[LightGBM] [Info] Start training from score -0.000000\n",
      "Training until validation scores don't improve for 50 rounds\n"
     ]
    },
    {
     "name": "stderr",
     "output_type": "stream",
     "text": [
      "c:\\Users\\User\\AppData\\Local\\Programs\\Python\\Python39\\lib\\site-packages\\sklearn\\utils\\validation.py:2739: UserWarning: X does not have valid feature names, but LGBMClassifier was fitted with feature names\n",
      "  warnings.warn(\n"
     ]
    },
    {
     "name": "stdout",
     "output_type": "stream",
     "text": [
      "Early stopping, best iteration is:\n",
      "[70]\tvalid_0's auc: 0.928164\tvalid_0's binary_logloss: 0.121308\n",
      "[O(original)] fold 5/10 ...\n",
      "[LightGBM] [Info] Number of positive: 286, number of negative: 12588\n",
      "[LightGBM] [Info] Auto-choosing col-wise multi-threading, the overhead of testing was 0.000546 seconds.\n",
      "You can set `force_col_wise=true` to remove the overhead.\n",
      "[LightGBM] [Info] Total Bins 3032\n",
      "[LightGBM] [Info] Number of data points in the train set: 12874, number of used features: 13\n",
      "[LightGBM] [Info] [binary:BoostFromScore]: pavg=0.500000 -> initscore=-0.000000\n",
      "[LightGBM] [Info] Start training from score -0.000000\n",
      "Training until validation scores don't improve for 50 rounds\n"
     ]
    },
    {
     "name": "stderr",
     "output_type": "stream",
     "text": [
      "c:\\Users\\User\\AppData\\Local\\Programs\\Python\\Python39\\lib\\site-packages\\sklearn\\utils\\validation.py:2739: UserWarning: X does not have valid feature names, but LGBMClassifier was fitted with feature names\n",
      "  warnings.warn(\n"
     ]
    },
    {
     "name": "stdout",
     "output_type": "stream",
     "text": [
      "Early stopping, best iteration is:\n",
      "[130]\tvalid_0's auc: 0.939224\tvalid_0's binary_logloss: 0.0781649\n",
      "[O(original)] fold 6/10 ...\n",
      "[LightGBM] [Info] Number of positive: 285, number of negative: 12589\n",
      "[LightGBM] [Info] Auto-choosing col-wise multi-threading, the overhead of testing was 0.000348 seconds.\n",
      "You can set `force_col_wise=true` to remove the overhead.\n",
      "[LightGBM] [Info] Total Bins 3026\n",
      "[LightGBM] [Info] Number of data points in the train set: 12874, number of used features: 13\n",
      "[LightGBM] [Info] [binary:BoostFromScore]: pavg=0.500000 -> initscore=-0.000000\n",
      "[LightGBM] [Info] Start training from score -0.000000\n",
      "Training until validation scores don't improve for 50 rounds\n"
     ]
    },
    {
     "name": "stderr",
     "output_type": "stream",
     "text": [
      "c:\\Users\\User\\AppData\\Local\\Programs\\Python\\Python39\\lib\\site-packages\\sklearn\\utils\\validation.py:2739: UserWarning: X does not have valid feature names, but LGBMClassifier was fitted with feature names\n",
      "  warnings.warn(\n"
     ]
    },
    {
     "name": "stdout",
     "output_type": "stream",
     "text": [
      "Early stopping, best iteration is:\n",
      "[12]\tvalid_0's auc: 0.934356\tvalid_0's binary_logloss: 0.404145\n",
      "[O(original)] fold 7/10 ...\n",
      "[LightGBM] [Info] Number of positive: 285, number of negative: 12589\n",
      "[LightGBM] [Info] Auto-choosing col-wise multi-threading, the overhead of testing was 0.000355 seconds.\n",
      "You can set `force_col_wise=true` to remove the overhead.\n",
      "[LightGBM] [Info] Total Bins 3033\n",
      "[LightGBM] [Info] Number of data points in the train set: 12874, number of used features: 13\n",
      "[LightGBM] [Info] [binary:BoostFromScore]: pavg=0.500000 -> initscore=-0.000000\n",
      "[LightGBM] [Info] Start training from score -0.000000\n",
      "Training until validation scores don't improve for 50 rounds\n"
     ]
    },
    {
     "name": "stderr",
     "output_type": "stream",
     "text": [
      "c:\\Users\\User\\AppData\\Local\\Programs\\Python\\Python39\\lib\\site-packages\\sklearn\\utils\\validation.py:2739: UserWarning: X does not have valid feature names, but LGBMClassifier was fitted with feature names\n",
      "  warnings.warn(\n"
     ]
    },
    {
     "name": "stdout",
     "output_type": "stream",
     "text": [
      "Early stopping, best iteration is:\n",
      "[92]\tvalid_0's auc: 0.948507\tvalid_0's binary_logloss: 0.0898579\n",
      "[O(original)] fold 8/10 ...\n",
      "[LightGBM] [Info] Number of positive: 285, number of negative: 12589\n",
      "[LightGBM] [Info] Auto-choosing col-wise multi-threading, the overhead of testing was 0.000375 seconds.\n",
      "You can set `force_col_wise=true` to remove the overhead.\n",
      "[LightGBM] [Info] Total Bins 3029\n",
      "[LightGBM] [Info] Number of data points in the train set: 12874, number of used features: 13\n",
      "[LightGBM] [Info] [binary:BoostFromScore]: pavg=0.500000 -> initscore=-0.000000\n",
      "[LightGBM] [Info] Start training from score -0.000000\n",
      "Training until validation scores don't improve for 50 rounds\n"
     ]
    },
    {
     "name": "stderr",
     "output_type": "stream",
     "text": [
      "c:\\Users\\User\\AppData\\Local\\Programs\\Python\\Python39\\lib\\site-packages\\sklearn\\utils\\validation.py:2739: UserWarning: X does not have valid feature names, but LGBMClassifier was fitted with feature names\n",
      "  warnings.warn(\n"
     ]
    },
    {
     "name": "stdout",
     "output_type": "stream",
     "text": [
      "Early stopping, best iteration is:\n",
      "[39]\tvalid_0's auc: 0.925967\tvalid_0's binary_logloss: 0.198154\n",
      "[O(original)] fold 9/10 ...\n",
      "[LightGBM] [Info] Number of positive: 285, number of negative: 12589\n",
      "[LightGBM] [Info] Auto-choosing col-wise multi-threading, the overhead of testing was 0.000359 seconds.\n",
      "You can set `force_col_wise=true` to remove the overhead.\n",
      "[LightGBM] [Info] Total Bins 3025\n",
      "[LightGBM] [Info] Number of data points in the train set: 12874, number of used features: 13\n",
      "[LightGBM] [Info] [binary:BoostFromScore]: pavg=0.500000 -> initscore=-0.000000\n",
      "[LightGBM] [Info] Start training from score -0.000000\n",
      "Training until validation scores don't improve for 50 rounds\n"
     ]
    },
    {
     "name": "stderr",
     "output_type": "stream",
     "text": [
      "c:\\Users\\User\\AppData\\Local\\Programs\\Python\\Python39\\lib\\site-packages\\sklearn\\utils\\validation.py:2739: UserWarning: X does not have valid feature names, but LGBMClassifier was fitted with feature names\n",
      "  warnings.warn(\n"
     ]
    },
    {
     "name": "stdout",
     "output_type": "stream",
     "text": [
      "Early stopping, best iteration is:\n",
      "[148]\tvalid_0's auc: 0.924012\tvalid_0's binary_logloss: 0.080701\n",
      "[O(original)] fold 10/10 ...\n",
      "[LightGBM] [Info] Number of positive: 285, number of negative: 12589\n",
      "[LightGBM] [Info] Auto-choosing col-wise multi-threading, the overhead of testing was 0.000476 seconds.\n",
      "You can set `force_col_wise=true` to remove the overhead.\n",
      "[LightGBM] [Info] Total Bins 3033\n",
      "[LightGBM] [Info] Number of data points in the train set: 12874, number of used features: 13\n",
      "[LightGBM] [Info] [binary:BoostFromScore]: pavg=0.500000 -> initscore=-0.000000\n",
      "[LightGBM] [Info] Start training from score -0.000000\n",
      "Training until validation scores don't improve for 50 rounds\n"
     ]
    },
    {
     "name": "stderr",
     "output_type": "stream",
     "text": [
      "c:\\Users\\User\\AppData\\Local\\Programs\\Python\\Python39\\lib\\site-packages\\sklearn\\utils\\validation.py:2739: UserWarning: X does not have valid feature names, but LGBMClassifier was fitted with feature names\n",
      "  warnings.warn(\n"
     ]
    },
    {
     "name": "stdout",
     "output_type": "stream",
     "text": [
      "Early stopping, best iteration is:\n",
      "[64]\tvalid_0's auc: 0.927801\tvalid_0's binary_logloss: 0.132482\n",
      "[F(m)] fold 1/10 ...\n",
      "[LightGBM] [Info] Number of positive: 285, number of negative: 12588\n",
      "[LightGBM] [Info] Auto-choosing col-wise multi-threading, the overhead of testing was 0.000781 seconds.\n",
      "You can set `force_col_wise=true` to remove the overhead.\n",
      "[LightGBM] [Info] Total Bins 3825\n",
      "[LightGBM] [Info] Number of data points in the train set: 12873, number of used features: 15\n",
      "[LightGBM] [Info] [binary:BoostFromScore]: pavg=0.500000 -> initscore=0.000000\n",
      "[LightGBM] [Info] Start training from score 0.000000\n",
      "Training until validation scores don't improve for 50 rounds\n"
     ]
    },
    {
     "name": "stderr",
     "output_type": "stream",
     "text": [
      "c:\\Users\\User\\AppData\\Local\\Programs\\Python\\Python39\\lib\\site-packages\\sklearn\\utils\\validation.py:2739: UserWarning: X does not have valid feature names, but LGBMClassifier was fitted with feature names\n",
      "  warnings.warn(\n"
     ]
    },
    {
     "name": "stdout",
     "output_type": "stream",
     "text": [
      "Early stopping, best iteration is:\n",
      "[58]\tvalid_0's auc: 0.936673\tvalid_0's binary_logloss: 0.125028\n",
      "[F(m)] fold 2/10 ...\n",
      "[LightGBM] [Info] Number of positive: 286, number of negative: 12588\n",
      "[LightGBM] [Info] Auto-choosing col-wise multi-threading, the overhead of testing was 0.000410 seconds.\n",
      "You can set `force_col_wise=true` to remove the overhead.\n",
      "[LightGBM] [Info] Total Bins 3825\n",
      "[LightGBM] [Info] Number of data points in the train set: 12874, number of used features: 15\n",
      "[LightGBM] [Info] [binary:BoostFromScore]: pavg=0.500000 -> initscore=-0.000000\n",
      "[LightGBM] [Info] Start training from score -0.000000\n",
      "Training until validation scores don't improve for 50 rounds\n"
     ]
    },
    {
     "name": "stderr",
     "output_type": "stream",
     "text": [
      "c:\\Users\\User\\AppData\\Local\\Programs\\Python\\Python39\\lib\\site-packages\\sklearn\\utils\\validation.py:2739: UserWarning: X does not have valid feature names, but LGBMClassifier was fitted with feature names\n",
      "  warnings.warn(\n"
     ]
    },
    {
     "name": "stdout",
     "output_type": "stream",
     "text": [
      "Early stopping, best iteration is:\n",
      "[67]\tvalid_0's auc: 0.935539\tvalid_0's binary_logloss: 0.113185\n",
      "[F(m)] fold 3/10 ...\n"
     ]
    },
    {
     "name": "stderr",
     "output_type": "stream",
     "text": [
      "c:\\Users\\User\\AppData\\Local\\Programs\\Python\\Python39\\lib\\site-packages\\sklearn\\utils\\validation.py:2739: UserWarning: X does not have valid feature names, but LGBMClassifier was fitted with feature names\n",
      "  warnings.warn(\n"
     ]
    },
    {
     "name": "stdout",
     "output_type": "stream",
     "text": [
      "[LightGBM] [Info] Number of positive: 286, number of negative: 12588\n",
      "[LightGBM] [Info] Auto-choosing col-wise multi-threading, the overhead of testing was 0.000515 seconds.\n",
      "You can set `force_col_wise=true` to remove the overhead.\n",
      "[LightGBM] [Info] Total Bins 3825\n",
      "[LightGBM] [Info] Number of data points in the train set: 12874, number of used features: 15\n",
      "[LightGBM] [Info] [binary:BoostFromScore]: pavg=0.500000 -> initscore=-0.000000\n",
      "[LightGBM] [Info] Start training from score -0.000000\n",
      "Training until validation scores don't improve for 50 rounds\n",
      "Early stopping, best iteration is:\n",
      "[26]\tvalid_0's auc: 0.941438\tvalid_0's binary_logloss: 0.253969\n",
      "[F(m)] fold 4/10 ...\n",
      "[LightGBM] [Info] Number of positive: 286, number of negative: 12588\n",
      "[LightGBM] [Info] Auto-choosing col-wise multi-threading, the overhead of testing was 0.000902 seconds.\n",
      "You can set `force_col_wise=true` to remove the overhead.\n",
      "[LightGBM] [Info] Total Bins 3825\n",
      "[LightGBM] [Info] Number of data points in the train set: 12874, number of used features: 15\n",
      "[LightGBM] [Info] [binary:BoostFromScore]: pavg=0.500000 -> initscore=-0.000000\n",
      "[LightGBM] [Info] Start training from score -0.000000\n",
      "Training until validation scores don't improve for 50 rounds\n"
     ]
    },
    {
     "name": "stderr",
     "output_type": "stream",
     "text": [
      "c:\\Users\\User\\AppData\\Local\\Programs\\Python\\Python39\\lib\\site-packages\\sklearn\\utils\\validation.py:2739: UserWarning: X does not have valid feature names, but LGBMClassifier was fitted with feature names\n",
      "  warnings.warn(\n"
     ]
    },
    {
     "name": "stdout",
     "output_type": "stream",
     "text": [
      "Early stopping, best iteration is:\n",
      "[72]\tvalid_0's auc: 0.933394\tvalid_0's binary_logloss: 0.115423\n",
      "[F(m)] fold 5/10 ...\n",
      "[LightGBM] [Info] Number of positive: 286, number of negative: 12588\n",
      "[LightGBM] [Info] Auto-choosing col-wise multi-threading, the overhead of testing was 0.000430 seconds.\n",
      "You can set `force_col_wise=true` to remove the overhead.\n",
      "[LightGBM] [Info] Total Bins 3825\n",
      "[LightGBM] [Info] Number of data points in the train set: 12874, number of used features: 15\n",
      "[LightGBM] [Info] [binary:BoostFromScore]: pavg=0.500000 -> initscore=-0.000000\n",
      "[LightGBM] [Info] Start training from score -0.000000\n",
      "Training until validation scores don't improve for 50 rounds\n"
     ]
    },
    {
     "name": "stderr",
     "output_type": "stream",
     "text": [
      "c:\\Users\\User\\AppData\\Local\\Programs\\Python\\Python39\\lib\\site-packages\\sklearn\\utils\\validation.py:2739: UserWarning: X does not have valid feature names, but LGBMClassifier was fitted with feature names\n",
      "  warnings.warn(\n"
     ]
    },
    {
     "name": "stdout",
     "output_type": "stream",
     "text": [
      "Early stopping, best iteration is:\n",
      "[97]\tvalid_0's auc: 0.933488\tvalid_0's binary_logloss: 0.0933314\n",
      "[F(m)] fold 6/10 ...\n",
      "[LightGBM] [Info] Number of positive: 285, number of negative: 12589\n",
      "[LightGBM] [Info] Auto-choosing col-wise multi-threading, the overhead of testing was 0.000659 seconds.\n",
      "You can set `force_col_wise=true` to remove the overhead.\n",
      "[LightGBM] [Info] Total Bins 3825\n",
      "[LightGBM] [Info] Number of data points in the train set: 12874, number of used features: 15\n",
      "[LightGBM] [Info] [binary:BoostFromScore]: pavg=0.500000 -> initscore=-0.000000\n",
      "[LightGBM] [Info] Start training from score -0.000000\n",
      "Training until validation scores don't improve for 50 rounds\n"
     ]
    },
    {
     "name": "stderr",
     "output_type": "stream",
     "text": [
      "c:\\Users\\User\\AppData\\Local\\Programs\\Python\\Python39\\lib\\site-packages\\sklearn\\utils\\validation.py:2739: UserWarning: X does not have valid feature names, but LGBMClassifier was fitted with feature names\n",
      "  warnings.warn(\n"
     ]
    },
    {
     "name": "stdout",
     "output_type": "stream",
     "text": [
      "Early stopping, best iteration is:\n",
      "[74]\tvalid_0's auc: 0.933152\tvalid_0's binary_logloss: 0.104439\n",
      "[F(m)] fold 7/10 ...\n",
      "[LightGBM] [Info] Number of positive: 285, number of negative: 12589\n",
      "[LightGBM] [Info] Auto-choosing col-wise multi-threading, the overhead of testing was 0.000393 seconds.\n",
      "You can set `force_col_wise=true` to remove the overhead.\n",
      "[LightGBM] [Info] Total Bins 3825\n",
      "[LightGBM] [Info] Number of data points in the train set: 12874, number of used features: 15\n",
      "[LightGBM] [Info] [binary:BoostFromScore]: pavg=0.500000 -> initscore=-0.000000\n",
      "[LightGBM] [Info] Start training from score -0.000000\n",
      "Training until validation scores don't improve for 50 rounds\n"
     ]
    },
    {
     "name": "stderr",
     "output_type": "stream",
     "text": [
      "c:\\Users\\User\\AppData\\Local\\Programs\\Python\\Python39\\lib\\site-packages\\sklearn\\utils\\validation.py:2739: UserWarning: X does not have valid feature names, but LGBMClassifier was fitted with feature names\n",
      "  warnings.warn(\n"
     ]
    },
    {
     "name": "stdout",
     "output_type": "stream",
     "text": [
      "Early stopping, best iteration is:\n",
      "[131]\tvalid_0's auc: 0.951984\tvalid_0's binary_logloss: 0.0687397\n",
      "[F(m)] fold 8/10 ...\n",
      "[LightGBM] [Info] Number of positive: 285, number of negative: 12589\n",
      "[LightGBM] [Info] Auto-choosing col-wise multi-threading, the overhead of testing was 0.000818 seconds.\n",
      "You can set `force_col_wise=true` to remove the overhead.\n",
      "[LightGBM] [Info] Total Bins 3825\n",
      "[LightGBM] [Info] Number of data points in the train set: 12874, number of used features: 15\n",
      "[LightGBM] [Info] [binary:BoostFromScore]: pavg=0.500000 -> initscore=-0.000000\n",
      "[LightGBM] [Info] Start training from score -0.000000\n",
      "Training until validation scores don't improve for 50 rounds\n"
     ]
    },
    {
     "name": "stderr",
     "output_type": "stream",
     "text": [
      "c:\\Users\\User\\AppData\\Local\\Programs\\Python\\Python39\\lib\\site-packages\\sklearn\\utils\\validation.py:2739: UserWarning: X does not have valid feature names, but LGBMClassifier was fitted with feature names\n",
      "  warnings.warn(\n"
     ]
    },
    {
     "name": "stdout",
     "output_type": "stream",
     "text": [
      "Early stopping, best iteration is:\n",
      "[90]\tvalid_0's auc: 0.930186\tvalid_0's binary_logloss: 0.0942486\n",
      "[F(m)] fold 9/10 ...\n",
      "[LightGBM] [Info] Number of positive: 285, number of negative: 12589\n",
      "[LightGBM] [Info] Auto-choosing col-wise multi-threading, the overhead of testing was 0.000510 seconds.\n",
      "You can set `force_col_wise=true` to remove the overhead.\n",
      "[LightGBM] [Info] Total Bins 3825\n",
      "[LightGBM] [Info] Number of data points in the train set: 12874, number of used features: 15\n",
      "[LightGBM] [Info] [binary:BoostFromScore]: pavg=0.500000 -> initscore=-0.000000\n",
      "[LightGBM] [Info] Start training from score -0.000000\n",
      "Training until validation scores don't improve for 50 rounds\n"
     ]
    },
    {
     "name": "stderr",
     "output_type": "stream",
     "text": [
      "c:\\Users\\User\\AppData\\Local\\Programs\\Python\\Python39\\lib\\site-packages\\sklearn\\utils\\validation.py:2739: UserWarning: X does not have valid feature names, but LGBMClassifier was fitted with feature names\n",
      "  warnings.warn(\n"
     ]
    },
    {
     "name": "stdout",
     "output_type": "stream",
     "text": [
      "Early stopping, best iteration is:\n",
      "[157]\tvalid_0's auc: 0.928088\tvalid_0's binary_logloss: 0.073729\n",
      "[F(m)] fold 10/10 ...\n",
      "[LightGBM] [Info] Number of positive: 285, number of negative: 12589\n",
      "[LightGBM] [Info] Auto-choosing col-wise multi-threading, the overhead of testing was 0.000529 seconds.\n",
      "You can set `force_col_wise=true` to remove the overhead.\n",
      "[LightGBM] [Info] Total Bins 3825\n",
      "[LightGBM] [Info] Number of data points in the train set: 12874, number of used features: 15\n",
      "[LightGBM] [Info] [binary:BoostFromScore]: pavg=0.500000 -> initscore=-0.000000\n",
      "[LightGBM] [Info] Start training from score -0.000000\n",
      "Training until validation scores don't improve for 50 rounds\n"
     ]
    },
    {
     "name": "stderr",
     "output_type": "stream",
     "text": [
      "c:\\Users\\User\\AppData\\Local\\Programs\\Python\\Python39\\lib\\site-packages\\sklearn\\utils\\validation.py:2739: UserWarning: X does not have valid feature names, but LGBMClassifier was fitted with feature names\n",
      "  warnings.warn(\n"
     ]
    },
    {
     "name": "stdout",
     "output_type": "stream",
     "text": [
      "Early stopping, best iteration is:\n",
      "[96]\tvalid_0's auc: 0.927063\tvalid_0's binary_logloss: 0.10058\n",
      "[OF(m)] fold 1/10 ...\n",
      "[LightGBM] [Info] Number of positive: 285, number of negative: 12588\n",
      "[LightGBM] [Info] Auto-choosing col-wise multi-threading, the overhead of testing was 0.001421 seconds.\n",
      "You can set `force_col_wise=true` to remove the overhead.\n",
      "[LightGBM] [Info] Total Bins 6855\n",
      "[LightGBM] [Info] Number of data points in the train set: 12873, number of used features: 28\n",
      "[LightGBM] [Info] [binary:BoostFromScore]: pavg=0.500000 -> initscore=0.000000\n",
      "[LightGBM] [Info] Start training from score 0.000000\n",
      "Training until validation scores don't improve for 50 rounds\n"
     ]
    },
    {
     "name": "stderr",
     "output_type": "stream",
     "text": [
      "c:\\Users\\User\\AppData\\Local\\Programs\\Python\\Python39\\lib\\site-packages\\sklearn\\utils\\validation.py:2739: UserWarning: X does not have valid feature names, but LGBMClassifier was fitted with feature names\n",
      "  warnings.warn(\n"
     ]
    },
    {
     "name": "stdout",
     "output_type": "stream",
     "text": [
      "Early stopping, best iteration is:\n",
      "[66]\tvalid_0's auc: 0.932899\tvalid_0's binary_logloss: 0.108991\n",
      "[OF(m)] fold 2/10 ...\n",
      "[LightGBM] [Info] Number of positive: 286, number of negative: 12588\n",
      "[LightGBM] [Info] Auto-choosing col-wise multi-threading, the overhead of testing was 0.001391 seconds.\n",
      "You can set `force_col_wise=true` to remove the overhead.\n",
      "[LightGBM] [Info] Total Bins 6851\n",
      "[LightGBM] [Info] Number of data points in the train set: 12874, number of used features: 28\n",
      "[LightGBM] [Info] [binary:BoostFromScore]: pavg=0.500000 -> initscore=-0.000000\n",
      "[LightGBM] [Info] Start training from score -0.000000\n",
      "Training until validation scores don't improve for 50 rounds\n"
     ]
    },
    {
     "name": "stderr",
     "output_type": "stream",
     "text": [
      "c:\\Users\\User\\AppData\\Local\\Programs\\Python\\Python39\\lib\\site-packages\\sklearn\\utils\\validation.py:2739: UserWarning: X does not have valid feature names, but LGBMClassifier was fitted with feature names\n",
      "  warnings.warn(\n"
     ]
    },
    {
     "name": "stdout",
     "output_type": "stream",
     "text": [
      "Early stopping, best iteration is:\n",
      "[178]\tvalid_0's auc: 0.92756\tvalid_0's binary_logloss: 0.0713768\n",
      "[OF(m)] fold 3/10 ...\n",
      "[LightGBM] [Info] Number of positive: 286, number of negative: 12588\n",
      "[LightGBM] [Info] Auto-choosing col-wise multi-threading, the overhead of testing was 0.001468 seconds.\n",
      "You can set `force_col_wise=true` to remove the overhead.\n",
      "[LightGBM] [Info] Total Bins 6850\n",
      "[LightGBM] [Info] Number of data points in the train set: 12874, number of used features: 28\n",
      "[LightGBM] [Info] [binary:BoostFromScore]: pavg=0.500000 -> initscore=-0.000000\n",
      "[LightGBM] [Info] Start training from score -0.000000\n",
      "Training until validation scores don't improve for 50 rounds\n"
     ]
    },
    {
     "name": "stderr",
     "output_type": "stream",
     "text": [
      "c:\\Users\\User\\AppData\\Local\\Programs\\Python\\Python39\\lib\\site-packages\\sklearn\\utils\\validation.py:2739: UserWarning: X does not have valid feature names, but LGBMClassifier was fitted with feature names\n",
      "  warnings.warn(\n"
     ]
    },
    {
     "name": "stdout",
     "output_type": "stream",
     "text": [
      "Early stopping, best iteration is:\n",
      "[18]\tvalid_0's auc: 0.949633\tvalid_0's binary_logloss: 0.317487\n",
      "[OF(m)] fold 4/10 ...\n",
      "[LightGBM] [Info] Number of positive: 286, number of negative: 12588\n",
      "[LightGBM] [Info] Auto-choosing col-wise multi-threading, the overhead of testing was 0.001477 seconds.\n",
      "You can set `force_col_wise=true` to remove the overhead.\n",
      "[LightGBM] [Info] Total Bins 6859\n",
      "[LightGBM] [Info] Number of data points in the train set: 12874, number of used features: 28\n",
      "[LightGBM] [Info] [binary:BoostFromScore]: pavg=0.500000 -> initscore=-0.000000\n",
      "[LightGBM] [Info] Start training from score -0.000000\n",
      "Training until validation scores don't improve for 50 rounds\n"
     ]
    },
    {
     "name": "stderr",
     "output_type": "stream",
     "text": [
      "c:\\Users\\User\\AppData\\Local\\Programs\\Python\\Python39\\lib\\site-packages\\sklearn\\utils\\validation.py:2739: UserWarning: X does not have valid feature names, but LGBMClassifier was fitted with feature names\n",
      "  warnings.warn(\n"
     ]
    },
    {
     "name": "stdout",
     "output_type": "stream",
     "text": [
      "Early stopping, best iteration is:\n",
      "[107]\tvalid_0's auc: 0.930821\tvalid_0's binary_logloss: 0.0778961\n",
      "[OF(m)] fold 5/10 ...\n",
      "[LightGBM] [Info] Number of positive: 286, number of negative: 12588\n",
      "[LightGBM] [Info] Auto-choosing col-wise multi-threading, the overhead of testing was 0.001544 seconds.\n",
      "You can set `force_col_wise=true` to remove the overhead.\n",
      "[LightGBM] [Info] Total Bins 6857\n",
      "[LightGBM] [Info] Number of data points in the train set: 12874, number of used features: 28\n",
      "[LightGBM] [Info] [binary:BoostFromScore]: pavg=0.500000 -> initscore=-0.000000\n",
      "[LightGBM] [Info] Start training from score -0.000000\n",
      "Training until validation scores don't improve for 50 rounds\n"
     ]
    },
    {
     "name": "stderr",
     "output_type": "stream",
     "text": [
      "c:\\Users\\User\\AppData\\Local\\Programs\\Python\\Python39\\lib\\site-packages\\sklearn\\utils\\validation.py:2739: UserWarning: X does not have valid feature names, but LGBMClassifier was fitted with feature names\n",
      "  warnings.warn(\n"
     ]
    },
    {
     "name": "stdout",
     "output_type": "stream",
     "text": [
      "Early stopping, best iteration is:\n",
      "[188]\tvalid_0's auc: 0.941233\tvalid_0's binary_logloss: 0.0696335\n",
      "[OF(m)] fold 6/10 ...\n",
      "[LightGBM] [Info] Number of positive: 285, number of negative: 12589\n",
      "[LightGBM] [Info] Auto-choosing col-wise multi-threading, the overhead of testing was 0.001341 seconds.\n",
      "You can set `force_col_wise=true` to remove the overhead.\n",
      "[LightGBM] [Info] Total Bins 6851\n",
      "[LightGBM] [Info] Number of data points in the train set: 12874, number of used features: 28\n",
      "[LightGBM] [Info] [binary:BoostFromScore]: pavg=0.500000 -> initscore=-0.000000\n",
      "[LightGBM] [Info] Start training from score -0.000000\n",
      "Training until validation scores don't improve for 50 rounds\n"
     ]
    },
    {
     "name": "stderr",
     "output_type": "stream",
     "text": [
      "c:\\Users\\User\\AppData\\Local\\Programs\\Python\\Python39\\lib\\site-packages\\sklearn\\utils\\validation.py:2739: UserWarning: X does not have valid feature names, but LGBMClassifier was fitted with feature names\n",
      "  warnings.warn(\n"
     ]
    },
    {
     "name": "stdout",
     "output_type": "stream",
     "text": [
      "Early stopping, best iteration is:\n",
      "[122]\tvalid_0's auc: 0.938127\tvalid_0's binary_logloss: 0.0684038\n",
      "[OF(m)] fold 7/10 ...\n",
      "[LightGBM] [Info] Number of positive: 285, number of negative: 12589\n",
      "[LightGBM] [Info] Auto-choosing col-wise multi-threading, the overhead of testing was 0.001427 seconds.\n",
      "You can set `force_col_wise=true` to remove the overhead.\n",
      "[LightGBM] [Info] Total Bins 6858\n",
      "[LightGBM] [Info] Number of data points in the train set: 12874, number of used features: 28\n",
      "[LightGBM] [Info] [binary:BoostFromScore]: pavg=0.500000 -> initscore=-0.000000\n",
      "[LightGBM] [Info] Start training from score -0.000000\n",
      "Training until validation scores don't improve for 50 rounds\n"
     ]
    },
    {
     "name": "stderr",
     "output_type": "stream",
     "text": [
      "c:\\Users\\User\\AppData\\Local\\Programs\\Python\\Python39\\lib\\site-packages\\sklearn\\utils\\validation.py:2739: UserWarning: X does not have valid feature names, but LGBMClassifier was fitted with feature names\n",
      "  warnings.warn(\n"
     ]
    },
    {
     "name": "stdout",
     "output_type": "stream",
     "text": [
      "Early stopping, best iteration is:\n",
      "[78]\tvalid_0's auc: 0.945152\tvalid_0's binary_logloss: 0.0899865\n",
      "[OF(m)] fold 8/10 ...\n",
      "[LightGBM] [Info] Number of positive: 285, number of negative: 12589\n",
      "[LightGBM] [Info] Auto-choosing col-wise multi-threading, the overhead of testing was 0.001310 seconds.\n",
      "You can set `force_col_wise=true` to remove the overhead.\n",
      "[LightGBM] [Info] Total Bins 6854\n",
      "[LightGBM] [Info] Number of data points in the train set: 12874, number of used features: 28\n",
      "[LightGBM] [Info] [binary:BoostFromScore]: pavg=0.500000 -> initscore=-0.000000\n",
      "[LightGBM] [Info] Start training from score -0.000000\n",
      "Training until validation scores don't improve for 50 rounds\n"
     ]
    },
    {
     "name": "stderr",
     "output_type": "stream",
     "text": [
      "c:\\Users\\User\\AppData\\Local\\Programs\\Python\\Python39\\lib\\site-packages\\sklearn\\utils\\validation.py:2739: UserWarning: X does not have valid feature names, but LGBMClassifier was fitted with feature names\n",
      "  warnings.warn(\n"
     ]
    },
    {
     "name": "stdout",
     "output_type": "stream",
     "text": [
      "Early stopping, best iteration is:\n",
      "[47]\tvalid_0's auc: 0.933906\tvalid_0's binary_logloss: 0.147288\n",
      "[OF(m)] fold 9/10 ...\n",
      "[LightGBM] [Info] Number of positive: 285, number of negative: 12589\n",
      "[LightGBM] [Info] Auto-choosing col-wise multi-threading, the overhead of testing was 0.001413 seconds.\n",
      "You can set `force_col_wise=true` to remove the overhead.\n",
      "[LightGBM] [Info] Total Bins 6850\n",
      "[LightGBM] [Info] Number of data points in the train set: 12874, number of used features: 28\n",
      "[LightGBM] [Info] [binary:BoostFromScore]: pavg=0.500000 -> initscore=-0.000000\n",
      "[LightGBM] [Info] Start training from score -0.000000\n",
      "Training until validation scores don't improve for 50 rounds\n"
     ]
    },
    {
     "name": "stderr",
     "output_type": "stream",
     "text": [
      "c:\\Users\\User\\AppData\\Local\\Programs\\Python\\Python39\\lib\\site-packages\\sklearn\\utils\\validation.py:2739: UserWarning: X does not have valid feature names, but LGBMClassifier was fitted with feature names\n",
      "  warnings.warn(\n"
     ]
    },
    {
     "name": "stdout",
     "output_type": "stream",
     "text": [
      "Early stopping, best iteration is:\n",
      "[108]\tvalid_0's auc: 0.940794\tvalid_0's binary_logloss: 0.0751301\n",
      "[OF(m)] fold 10/10 ...\n",
      "[LightGBM] [Info] Number of positive: 285, number of negative: 12589\n",
      "[LightGBM] [Info] Auto-choosing col-wise multi-threading, the overhead of testing was 0.001241 seconds.\n",
      "You can set `force_col_wise=true` to remove the overhead.\n",
      "[LightGBM] [Info] Total Bins 6858\n",
      "[LightGBM] [Info] Number of data points in the train set: 12874, number of used features: 28\n",
      "[LightGBM] [Info] [binary:BoostFromScore]: pavg=0.500000 -> initscore=-0.000000\n",
      "[LightGBM] [Info] Start training from score -0.000000\n",
      "Training until validation scores don't improve for 50 rounds\n"
     ]
    },
    {
     "name": "stderr",
     "output_type": "stream",
     "text": [
      "c:\\Users\\User\\AppData\\Local\\Programs\\Python\\Python39\\lib\\site-packages\\sklearn\\utils\\validation.py:2739: UserWarning: X does not have valid feature names, but LGBMClassifier was fitted with feature names\n",
      "  warnings.warn(\n"
     ]
    },
    {
     "name": "stdout",
     "output_type": "stream",
     "text": [
      "Early stopping, best iteration is:\n",
      "[89]\tvalid_0's auc: 0.930387\tvalid_0's binary_logloss: 0.0919764\n",
      "[F(mw)] fold 1/10 ...\n",
      "[LightGBM] [Info] Number of positive: 285, number of negative: 12588\n",
      "[LightGBM] [Info] Auto-choosing col-wise multi-threading, the overhead of testing was 0.000758 seconds.\n",
      "You can set `force_col_wise=true` to remove the overhead.\n",
      "[LightGBM] [Info] Total Bins 3825\n",
      "[LightGBM] [Info] Number of data points in the train set: 12873, number of used features: 15\n",
      "[LightGBM] [Info] [binary:BoostFromScore]: pavg=0.500000 -> initscore=0.000000\n",
      "[LightGBM] [Info] Start training from score 0.000000\n",
      "Training until validation scores don't improve for 50 rounds\n"
     ]
    },
    {
     "name": "stderr",
     "output_type": "stream",
     "text": [
      "c:\\Users\\User\\AppData\\Local\\Programs\\Python\\Python39\\lib\\site-packages\\sklearn\\utils\\validation.py:2739: UserWarning: X does not have valid feature names, but LGBMClassifier was fitted with feature names\n",
      "  warnings.warn(\n"
     ]
    },
    {
     "name": "stdout",
     "output_type": "stream",
     "text": [
      "Early stopping, best iteration is:\n",
      "[55]\tvalid_0's auc: 0.928211\tvalid_0's binary_logloss: 0.133564\n",
      "[F(mw)] fold 2/10 ...\n",
      "[LightGBM] [Info] Number of positive: 286, number of negative: 12588\n",
      "[LightGBM] [Info] Auto-choosing col-wise multi-threading, the overhead of testing was 0.000856 seconds.\n",
      "You can set `force_col_wise=true` to remove the overhead.\n",
      "[LightGBM] [Info] Total Bins 3825\n",
      "[LightGBM] [Info] Number of data points in the train set: 12874, number of used features: 15\n",
      "[LightGBM] [Info] [binary:BoostFromScore]: pavg=0.500000 -> initscore=-0.000000\n",
      "[LightGBM] [Info] Start training from score -0.000000\n",
      "Training until validation scores don't improve for 50 rounds\n"
     ]
    },
    {
     "name": "stderr",
     "output_type": "stream",
     "text": [
      "c:\\Users\\User\\AppData\\Local\\Programs\\Python\\Python39\\lib\\site-packages\\sklearn\\utils\\validation.py:2739: UserWarning: X does not have valid feature names, but LGBMClassifier was fitted with feature names\n",
      "  warnings.warn(\n"
     ]
    },
    {
     "name": "stdout",
     "output_type": "stream",
     "text": [
      "Early stopping, best iteration is:\n",
      "[108]\tvalid_0's auc: 0.934284\tvalid_0's binary_logloss: 0.0813644\n",
      "[F(mw)] fold 3/10 ...\n",
      "[LightGBM] [Info] Number of positive: 286, number of negative: 12588\n",
      "[LightGBM] [Info] Auto-choosing col-wise multi-threading, the overhead of testing was 0.000428 seconds.\n",
      "You can set `force_col_wise=true` to remove the overhead.\n",
      "[LightGBM] [Info] Total Bins 3825\n",
      "[LightGBM] [Info] Number of data points in the train set: 12874, number of used features: 15\n",
      "[LightGBM] [Info] [binary:BoostFromScore]: pavg=0.500000 -> initscore=-0.000000\n",
      "[LightGBM] [Info] Start training from score -0.000000\n",
      "Training until validation scores don't improve for 50 rounds\n"
     ]
    },
    {
     "name": "stderr",
     "output_type": "stream",
     "text": [
      "c:\\Users\\User\\AppData\\Local\\Programs\\Python\\Python39\\lib\\site-packages\\sklearn\\utils\\validation.py:2739: UserWarning: X does not have valid feature names, but LGBMClassifier was fitted with feature names\n",
      "  warnings.warn(\n"
     ]
    },
    {
     "name": "stdout",
     "output_type": "stream",
     "text": [
      "Early stopping, best iteration is:\n",
      "[192]\tvalid_0's auc: 0.948217\tvalid_0's binary_logloss: 0.0594286\n",
      "[F(mw)] fold 4/10 ...\n",
      "[LightGBM] [Info] Number of positive: 286, number of negative: 12588\n",
      "[LightGBM] [Info] Auto-choosing col-wise multi-threading, the overhead of testing was 0.000707 seconds.\n",
      "You can set `force_col_wise=true` to remove the overhead.\n",
      "[LightGBM] [Info] Total Bins 3825\n",
      "[LightGBM] [Info] Number of data points in the train set: 12874, number of used features: 15\n",
      "[LightGBM] [Info] [binary:BoostFromScore]: pavg=0.500000 -> initscore=-0.000000\n",
      "[LightGBM] [Info] Start training from score -0.000000\n",
      "Training until validation scores don't improve for 50 rounds\n"
     ]
    },
    {
     "name": "stderr",
     "output_type": "stream",
     "text": [
      "c:\\Users\\User\\AppData\\Local\\Programs\\Python\\Python39\\lib\\site-packages\\sklearn\\utils\\validation.py:2739: UserWarning: X does not have valid feature names, but LGBMClassifier was fitted with feature names\n",
      "  warnings.warn(\n"
     ]
    },
    {
     "name": "stdout",
     "output_type": "stream",
     "text": [
      "Early stopping, best iteration is:\n",
      "[100]\tvalid_0's auc: 0.933049\tvalid_0's binary_logloss: 0.0909166\n",
      "[F(mw)] fold 5/10 ...\n",
      "[LightGBM] [Info] Number of positive: 286, number of negative: 12588\n",
      "[LightGBM] [Info] Auto-choosing col-wise multi-threading, the overhead of testing was 0.000608 seconds.\n",
      "You can set `force_col_wise=true` to remove the overhead.\n",
      "[LightGBM] [Info] Total Bins 3825\n",
      "[LightGBM] [Info] Number of data points in the train set: 12874, number of used features: 15\n",
      "[LightGBM] [Info] [binary:BoostFromScore]: pavg=0.500000 -> initscore=-0.000000\n",
      "[LightGBM] [Info] Start training from score -0.000000\n",
      "Training until validation scores don't improve for 50 rounds\n"
     ]
    },
    {
     "name": "stderr",
     "output_type": "stream",
     "text": [
      "c:\\Users\\User\\AppData\\Local\\Programs\\Python\\Python39\\lib\\site-packages\\sklearn\\utils\\validation.py:2739: UserWarning: X does not have valid feature names, but LGBMClassifier was fitted with feature names\n",
      "  warnings.warn(\n"
     ]
    },
    {
     "name": "stdout",
     "output_type": "stream",
     "text": [
      "Early stopping, best iteration is:\n",
      "[83]\tvalid_0's auc: 0.939121\tvalid_0's binary_logloss: 0.0994698\n",
      "[F(mw)] fold 6/10 ...\n",
      "[LightGBM] [Info] Number of positive: 285, number of negative: 12589\n",
      "[LightGBM] [Info] Auto-choosing col-wise multi-threading, the overhead of testing was 0.000404 seconds.\n",
      "You can set `force_col_wise=true` to remove the overhead.\n",
      "[LightGBM] [Info] Total Bins 3825\n",
      "[LightGBM] [Info] Number of data points in the train set: 12874, number of used features: 15\n",
      "[LightGBM] [Info] [binary:BoostFromScore]: pavg=0.500000 -> initscore=-0.000000\n",
      "[LightGBM] [Info] Start training from score -0.000000\n",
      "Training until validation scores don't improve for 50 rounds\n"
     ]
    },
    {
     "name": "stderr",
     "output_type": "stream",
     "text": [
      "c:\\Users\\User\\AppData\\Local\\Programs\\Python\\Python39\\lib\\site-packages\\sklearn\\utils\\validation.py:2739: UserWarning: X does not have valid feature names, but LGBMClassifier was fitted with feature names\n",
      "  warnings.warn(\n"
     ]
    },
    {
     "name": "stdout",
     "output_type": "stream",
     "text": [
      "Early stopping, best iteration is:\n",
      "[173]\tvalid_0's auc: 0.928924\tvalid_0's binary_logloss: 0.0667347\n",
      "[F(mw)] fold 7/10 ...\n",
      "[LightGBM] [Info] Number of positive: 285, number of negative: 12589\n",
      "[LightGBM] [Info] Auto-choosing col-wise multi-threading, the overhead of testing was 0.000734 seconds.\n",
      "You can set `force_col_wise=true` to remove the overhead.\n",
      "[LightGBM] [Info] Total Bins 3825\n",
      "[LightGBM] [Info] Number of data points in the train set: 12874, number of used features: 15\n",
      "[LightGBM] [Info] [binary:BoostFromScore]: pavg=0.500000 -> initscore=-0.000000\n",
      "[LightGBM] [Info] Start training from score -0.000000\n",
      "Training until validation scores don't improve for 50 rounds\n"
     ]
    },
    {
     "name": "stderr",
     "output_type": "stream",
     "text": [
      "c:\\Users\\User\\AppData\\Local\\Programs\\Python\\Python39\\lib\\site-packages\\sklearn\\utils\\validation.py:2739: UserWarning: X does not have valid feature names, but LGBMClassifier was fitted with feature names\n",
      "  warnings.warn(\n"
     ]
    },
    {
     "name": "stdout",
     "output_type": "stream",
     "text": [
      "Early stopping, best iteration is:\n",
      "[151]\tvalid_0's auc: 0.949765\tvalid_0's binary_logloss: 0.0679417\n",
      "[F(mw)] fold 8/10 ...\n",
      "[LightGBM] [Info] Number of positive: 285, number of negative: 12589\n",
      "[LightGBM] [Info] Auto-choosing col-wise multi-threading, the overhead of testing was 0.000669 seconds.\n",
      "You can set `force_col_wise=true` to remove the overhead.\n",
      "[LightGBM] [Info] Total Bins 3825\n",
      "[LightGBM] [Info] Number of data points in the train set: 12874, number of used features: 15\n",
      "[LightGBM] [Info] [binary:BoostFromScore]: pavg=0.500000 -> initscore=-0.000000\n",
      "[LightGBM] [Info] Start training from score -0.000000\n",
      "Training until validation scores don't improve for 50 rounds\n"
     ]
    },
    {
     "name": "stderr",
     "output_type": "stream",
     "text": [
      "c:\\Users\\User\\AppData\\Local\\Programs\\Python\\Python39\\lib\\site-packages\\sklearn\\utils\\validation.py:2739: UserWarning: X does not have valid feature names, but LGBMClassifier was fitted with feature names\n",
      "  warnings.warn(\n"
     ]
    },
    {
     "name": "stdout",
     "output_type": "stream",
     "text": [
      "Early stopping, best iteration is:\n",
      "[78]\tvalid_0's auc: 0.929551\tvalid_0's binary_logloss: 0.103858\n",
      "[F(mw)] fold 9/10 ...\n",
      "[LightGBM] [Info] Number of positive: 285, number of negative: 12589\n",
      "[LightGBM] [Info] Auto-choosing col-wise multi-threading, the overhead of testing was 0.000487 seconds.\n",
      "You can set `force_col_wise=true` to remove the overhead.\n",
      "[LightGBM] [Info] Total Bins 3825\n",
      "[LightGBM] [Info] Number of data points in the train set: 12874, number of used features: 15\n",
      "[LightGBM] [Info] [binary:BoostFromScore]: pavg=0.500000 -> initscore=-0.000000\n",
      "[LightGBM] [Info] Start training from score -0.000000\n",
      "Training until validation scores don't improve for 50 rounds\n"
     ]
    },
    {
     "name": "stderr",
     "output_type": "stream",
     "text": [
      "c:\\Users\\User\\AppData\\Local\\Programs\\Python\\Python39\\lib\\site-packages\\sklearn\\utils\\validation.py:2739: UserWarning: X does not have valid feature names, but LGBMClassifier was fitted with feature names\n",
      "  warnings.warn(\n"
     ]
    },
    {
     "name": "stdout",
     "output_type": "stream",
     "text": [
      "Early stopping, best iteration is:\n",
      "[129]\tvalid_0's auc: 0.93045\tvalid_0's binary_logloss: 0.0750071\n",
      "[F(mw)] fold 10/10 ...\n",
      "[LightGBM] [Info] Number of positive: 285, number of negative: 12589\n",
      "[LightGBM] [Info] Auto-choosing col-wise multi-threading, the overhead of testing was 0.000446 seconds.\n",
      "You can set `force_col_wise=true` to remove the overhead.\n",
      "[LightGBM] [Info] Total Bins 3825\n",
      "[LightGBM] [Info] Number of data points in the train set: 12874, number of used features: 15\n",
      "[LightGBM] [Info] [binary:BoostFromScore]: pavg=0.500000 -> initscore=-0.000000\n",
      "[LightGBM] [Info] Start training from score -0.000000\n",
      "Training until validation scores don't improve for 50 rounds\n"
     ]
    },
    {
     "name": "stderr",
     "output_type": "stream",
     "text": [
      "c:\\Users\\User\\AppData\\Local\\Programs\\Python\\Python39\\lib\\site-packages\\sklearn\\utils\\validation.py:2739: UserWarning: X does not have valid feature names, but LGBMClassifier was fitted with feature names\n",
      "  warnings.warn(\n"
     ]
    },
    {
     "name": "stdout",
     "output_type": "stream",
     "text": [
      "Early stopping, best iteration is:\n",
      "[153]\tvalid_0's auc: 0.929926\tvalid_0's binary_logloss: 0.0778423\n",
      "[OF(mw)] fold 1/10 ...\n",
      "[LightGBM] [Info] Number of positive: 285, number of negative: 12588\n",
      "[LightGBM] [Info] Auto-choosing col-wise multi-threading, the overhead of testing was 0.001327 seconds.\n",
      "You can set `force_col_wise=true` to remove the overhead.\n",
      "[LightGBM] [Info] Total Bins 6855\n",
      "[LightGBM] [Info] Number of data points in the train set: 12873, number of used features: 28\n",
      "[LightGBM] [Info] [binary:BoostFromScore]: pavg=0.500000 -> initscore=0.000000\n",
      "[LightGBM] [Info] Start training from score 0.000000\n",
      "Training until validation scores don't improve for 50 rounds\n"
     ]
    },
    {
     "name": "stderr",
     "output_type": "stream",
     "text": [
      "c:\\Users\\User\\AppData\\Local\\Programs\\Python\\Python39\\lib\\site-packages\\sklearn\\utils\\validation.py:2739: UserWarning: X does not have valid feature names, but LGBMClassifier was fitted with feature names\n",
      "  warnings.warn(\n"
     ]
    },
    {
     "name": "stdout",
     "output_type": "stream",
     "text": [
      "Early stopping, best iteration is:\n",
      "[117]\tvalid_0's auc: 0.933009\tvalid_0's binary_logloss: 0.0744263\n",
      "[OF(mw)] fold 2/10 ...\n",
      "[LightGBM] [Info] Number of positive: 286, number of negative: 12588\n",
      "[LightGBM] [Info] Auto-choosing col-wise multi-threading, the overhead of testing was 0.001496 seconds.\n",
      "You can set `force_col_wise=true` to remove the overhead.\n",
      "[LightGBM] [Info] Total Bins 6851\n",
      "[LightGBM] [Info] Number of data points in the train set: 12874, number of used features: 28\n",
      "[LightGBM] [Info] [binary:BoostFromScore]: pavg=0.500000 -> initscore=-0.000000\n",
      "[LightGBM] [Info] Start training from score -0.000000\n",
      "Training until validation scores don't improve for 50 rounds\n"
     ]
    },
    {
     "name": "stderr",
     "output_type": "stream",
     "text": [
      "c:\\Users\\User\\AppData\\Local\\Programs\\Python\\Python39\\lib\\site-packages\\sklearn\\utils\\validation.py:2739: UserWarning: X does not have valid feature names, but LGBMClassifier was fitted with feature names\n",
      "  warnings.warn(\n"
     ]
    },
    {
     "name": "stdout",
     "output_type": "stream",
     "text": [
      "Early stopping, best iteration is:\n",
      "[150]\tvalid_0's auc: 0.930454\tvalid_0's binary_logloss: 0.0707846\n",
      "[OF(mw)] fold 3/10 ...\n",
      "[LightGBM] [Info] Number of positive: 286, number of negative: 12588\n",
      "[LightGBM] [Info] Auto-choosing col-wise multi-threading, the overhead of testing was 0.000949 seconds.\n",
      "You can set `force_col_wise=true` to remove the overhead.\n",
      "[LightGBM] [Info] Total Bins 6850\n",
      "[LightGBM] [Info] Number of data points in the train set: 12874, number of used features: 28\n",
      "[LightGBM] [Info] [binary:BoostFromScore]: pavg=0.500000 -> initscore=-0.000000\n",
      "[LightGBM] [Info] Start training from score -0.000000\n",
      "Training until validation scores don't improve for 50 rounds\n"
     ]
    },
    {
     "name": "stderr",
     "output_type": "stream",
     "text": [
      "c:\\Users\\User\\AppData\\Local\\Programs\\Python\\Python39\\lib\\site-packages\\sklearn\\utils\\validation.py:2739: UserWarning: X does not have valid feature names, but LGBMClassifier was fitted with feature names\n",
      "  warnings.warn(\n"
     ]
    },
    {
     "name": "stdout",
     "output_type": "stream",
     "text": [
      "Early stopping, best iteration is:\n",
      "[18]\tvalid_0's auc: 0.955503\tvalid_0's binary_logloss: 0.315874\n",
      "[OF(mw)] fold 4/10 ...\n",
      "[LightGBM] [Info] Number of positive: 286, number of negative: 12588\n",
      "[LightGBM] [Info] Auto-choosing col-wise multi-threading, the overhead of testing was 0.001013 seconds.\n",
      "You can set `force_col_wise=true` to remove the overhead.\n",
      "[LightGBM] [Info] Total Bins 6859\n",
      "[LightGBM] [Info] Number of data points in the train set: 12874, number of used features: 28\n",
      "[LightGBM] [Info] [binary:BoostFromScore]: pavg=0.500000 -> initscore=-0.000000\n",
      "[LightGBM] [Info] Start training from score -0.000000\n",
      "Training until validation scores don't improve for 50 rounds\n"
     ]
    },
    {
     "name": "stderr",
     "output_type": "stream",
     "text": [
      "c:\\Users\\User\\AppData\\Local\\Programs\\Python\\Python39\\lib\\site-packages\\sklearn\\utils\\validation.py:2739: UserWarning: X does not have valid feature names, but LGBMClassifier was fitted with feature names\n",
      "  warnings.warn(\n"
     ]
    },
    {
     "name": "stdout",
     "output_type": "stream",
     "text": [
      "Early stopping, best iteration is:\n",
      "[119]\tvalid_0's auc: 0.931806\tvalid_0's binary_logloss: 0.0740849\n",
      "[OF(mw)] fold 5/10 ...\n",
      "[LightGBM] [Info] Number of positive: 286, number of negative: 12588\n",
      "[LightGBM] [Info] Auto-choosing col-wise multi-threading, the overhead of testing was 0.001241 seconds.\n",
      "You can set `force_col_wise=true` to remove the overhead.\n",
      "[LightGBM] [Info] Total Bins 6857\n",
      "[LightGBM] [Info] Number of data points in the train set: 12874, number of used features: 28\n",
      "[LightGBM] [Info] [binary:BoostFromScore]: pavg=0.500000 -> initscore=-0.000000\n",
      "[LightGBM] [Info] Start training from score -0.000000\n",
      "Training until validation scores don't improve for 50 rounds\n"
     ]
    },
    {
     "name": "stderr",
     "output_type": "stream",
     "text": [
      "c:\\Users\\User\\AppData\\Local\\Programs\\Python\\Python39\\lib\\site-packages\\sklearn\\utils\\validation.py:2739: UserWarning: X does not have valid feature names, but LGBMClassifier was fitted with feature names\n",
      "  warnings.warn(\n"
     ]
    },
    {
     "name": "stdout",
     "output_type": "stream",
     "text": [
      "Early stopping, best iteration is:\n",
      "[122]\tvalid_0's auc: 0.941738\tvalid_0's binary_logloss: 0.0749581\n",
      "[OF(mw)] fold 6/10 ...\n",
      "[LightGBM] [Info] Number of positive: 285, number of negative: 12589\n",
      "[LightGBM] [Info] Auto-choosing col-wise multi-threading, the overhead of testing was 0.001418 seconds.\n",
      "You can set `force_col_wise=true` to remove the overhead.\n",
      "[LightGBM] [Info] Total Bins 6851\n",
      "[LightGBM] [Info] Number of data points in the train set: 12874, number of used features: 28\n",
      "[LightGBM] [Info] [binary:BoostFromScore]: pavg=0.500000 -> initscore=-0.000000\n",
      "[LightGBM] [Info] Start training from score -0.000000\n",
      "Training until validation scores don't improve for 50 rounds\n"
     ]
    },
    {
     "name": "stderr",
     "output_type": "stream",
     "text": [
      "c:\\Users\\User\\AppData\\Local\\Programs\\Python\\Python39\\lib\\site-packages\\sklearn\\utils\\validation.py:2739: UserWarning: X does not have valid feature names, but LGBMClassifier was fitted with feature names\n",
      "  warnings.warn(\n"
     ]
    },
    {
     "name": "stdout",
     "output_type": "stream",
     "text": [
      "Early stopping, best iteration is:\n",
      "[146]\tvalid_0's auc: 0.934163\tvalid_0's binary_logloss: 0.0668652\n",
      "[OF(mw)] fold 7/10 ...\n",
      "[LightGBM] [Info] Number of positive: 285, number of negative: 12589\n",
      "[LightGBM] [Info] Auto-choosing col-wise multi-threading, the overhead of testing was 0.001328 seconds.\n",
      "You can set `force_col_wise=true` to remove the overhead.\n",
      "[LightGBM] [Info] Total Bins 6858\n",
      "[LightGBM] [Info] Number of data points in the train set: 12874, number of used features: 28\n",
      "[LightGBM] [Info] [binary:BoostFromScore]: pavg=0.500000 -> initscore=-0.000000\n",
      "[LightGBM] [Info] Start training from score -0.000000\n",
      "Training until validation scores don't improve for 50 rounds\n"
     ]
    },
    {
     "name": "stderr",
     "output_type": "stream",
     "text": [
      "c:\\Users\\User\\AppData\\Local\\Programs\\Python\\Python39\\lib\\site-packages\\sklearn\\utils\\validation.py:2739: UserWarning: X does not have valid feature names, but LGBMClassifier was fitted with feature names\n",
      "  warnings.warn(\n"
     ]
    },
    {
     "name": "stdout",
     "output_type": "stream",
     "text": [
      "Early stopping, best iteration is:\n",
      "[78]\tvalid_0's auc: 0.946575\tvalid_0's binary_logloss: 0.0888054\n",
      "[OF(mw)] fold 8/10 ...\n",
      "[LightGBM] [Info] Number of positive: 285, number of negative: 12589\n",
      "[LightGBM] [Info] Auto-choosing col-wise multi-threading, the overhead of testing was 0.001533 seconds.\n",
      "You can set `force_col_wise=true` to remove the overhead.\n",
      "[LightGBM] [Info] Total Bins 6854\n",
      "[LightGBM] [Info] Number of data points in the train set: 12874, number of used features: 28\n",
      "[LightGBM] [Info] [binary:BoostFromScore]: pavg=0.500000 -> initscore=-0.000000\n",
      "[LightGBM] [Info] Start training from score -0.000000\n",
      "Training until validation scores don't improve for 50 rounds\n"
     ]
    },
    {
     "name": "stderr",
     "output_type": "stream",
     "text": [
      "c:\\Users\\User\\AppData\\Local\\Programs\\Python\\Python39\\lib\\site-packages\\sklearn\\utils\\validation.py:2739: UserWarning: X does not have valid feature names, but LGBMClassifier was fitted with feature names\n",
      "  warnings.warn(\n"
     ]
    },
    {
     "name": "stdout",
     "output_type": "stream",
     "text": [
      "Early stopping, best iteration is:\n",
      "[32]\tvalid_0's auc: 0.933714\tvalid_0's binary_logloss: 0.206164\n",
      "[OF(mw)] fold 9/10 ...\n",
      "[LightGBM] [Info] Number of positive: 285, number of negative: 12589\n",
      "[LightGBM] [Info] Auto-choosing col-wise multi-threading, the overhead of testing was 0.000956 seconds.\n",
      "You can set `force_col_wise=true` to remove the overhead.\n",
      "[LightGBM] [Info] Total Bins 6850\n",
      "[LightGBM] [Info] Number of data points in the train set: 12874, number of used features: 28\n",
      "[LightGBM] [Info] [binary:BoostFromScore]: pavg=0.500000 -> initscore=-0.000000\n",
      "[LightGBM] [Info] Start training from score -0.000000\n",
      "Training until validation scores don't improve for 50 rounds\n"
     ]
    },
    {
     "name": "stderr",
     "output_type": "stream",
     "text": [
      "c:\\Users\\User\\AppData\\Local\\Programs\\Python\\Python39\\lib\\site-packages\\sklearn\\utils\\validation.py:2739: UserWarning: X does not have valid feature names, but LGBMClassifier was fitted with feature names\n",
      "  warnings.warn(\n"
     ]
    },
    {
     "name": "stdout",
     "output_type": "stream",
     "text": [
      "Early stopping, best iteration is:\n",
      "[109]\tvalid_0's auc: 0.94364\tvalid_0's binary_logloss: 0.0744384\n",
      "[OF(mw)] fold 10/10 ...\n",
      "[LightGBM] [Info] Number of positive: 285, number of negative: 12589\n",
      "[LightGBM] [Info] Auto-choosing col-wise multi-threading, the overhead of testing was 0.001383 seconds.\n",
      "You can set `force_col_wise=true` to remove the overhead.\n",
      "[LightGBM] [Info] Total Bins 6858\n",
      "[LightGBM] [Info] Number of data points in the train set: 12874, number of used features: 28\n",
      "[LightGBM] [Info] [binary:BoostFromScore]: pavg=0.500000 -> initscore=-0.000000\n",
      "[LightGBM] [Info] Start training from score -0.000000\n",
      "Training until validation scores don't improve for 50 rounds\n"
     ]
    },
    {
     "name": "stderr",
     "output_type": "stream",
     "text": [
      "c:\\Users\\User\\AppData\\Local\\Programs\\Python\\Python39\\lib\\site-packages\\sklearn\\utils\\validation.py:2739: UserWarning: X does not have valid feature names, but LGBMClassifier was fitted with feature names\n",
      "  warnings.warn(\n"
     ]
    },
    {
     "name": "stdout",
     "output_type": "stream",
     "text": [
      "Early stopping, best iteration is:\n",
      "[25]\tvalid_0's auc: 0.928933\tvalid_0's binary_logloss: 0.248803\n",
      "[F(m+mw)] fold 1/10 ...\n",
      "[LightGBM] [Info] Number of positive: 285, number of negative: 12588\n",
      "[LightGBM] [Info] Auto-choosing col-wise multi-threading, the overhead of testing was 0.001510 seconds.\n",
      "You can set `force_col_wise=true` to remove the overhead.\n",
      "[LightGBM] [Info] Total Bins 7650\n",
      "[LightGBM] [Info] Number of data points in the train set: 12873, number of used features: 30\n",
      "[LightGBM] [Info] [binary:BoostFromScore]: pavg=0.500000 -> initscore=0.000000\n",
      "[LightGBM] [Info] Start training from score 0.000000\n",
      "Training until validation scores don't improve for 50 rounds\n"
     ]
    },
    {
     "name": "stderr",
     "output_type": "stream",
     "text": [
      "c:\\Users\\User\\AppData\\Local\\Programs\\Python\\Python39\\lib\\site-packages\\sklearn\\utils\\validation.py:2739: UserWarning: X does not have valid feature names, but LGBMClassifier was fitted with feature names\n",
      "  warnings.warn(\n"
     ]
    },
    {
     "name": "stdout",
     "output_type": "stream",
     "text": [
      "Early stopping, best iteration is:\n",
      "[103]\tvalid_0's auc: 0.926669\tvalid_0's binary_logloss: 0.0808287\n",
      "[F(m+mw)] fold 2/10 ...\n",
      "[LightGBM] [Info] Number of positive: 286, number of negative: 12588\n",
      "[LightGBM] [Info] Auto-choosing col-wise multi-threading, the overhead of testing was 0.001491 seconds.\n",
      "You can set `force_col_wise=true` to remove the overhead.\n",
      "[LightGBM] [Info] Total Bins 7650\n",
      "[LightGBM] [Info] Number of data points in the train set: 12874, number of used features: 30\n",
      "[LightGBM] [Info] [binary:BoostFromScore]: pavg=0.500000 -> initscore=-0.000000\n",
      "[LightGBM] [Info] Start training from score -0.000000\n",
      "Training until validation scores don't improve for 50 rounds\n"
     ]
    },
    {
     "name": "stderr",
     "output_type": "stream",
     "text": [
      "c:\\Users\\User\\AppData\\Local\\Programs\\Python\\Python39\\lib\\site-packages\\sklearn\\utils\\validation.py:2739: UserWarning: X does not have valid feature names, but LGBMClassifier was fitted with feature names\n",
      "  warnings.warn(\n"
     ]
    },
    {
     "name": "stdout",
     "output_type": "stream",
     "text": [
      "Early stopping, best iteration is:\n",
      "[87]\tvalid_0's auc: 0.93772\tvalid_0's binary_logloss: 0.0920246\n",
      "[F(m+mw)] fold 3/10 ...\n",
      "[LightGBM] [Info] Number of positive: 286, number of negative: 12588\n",
      "[LightGBM] [Info] Auto-choosing col-wise multi-threading, the overhead of testing was 0.001058 seconds.\n",
      "You can set `force_col_wise=true` to remove the overhead.\n",
      "[LightGBM] [Info] Total Bins 7650\n",
      "[LightGBM] [Info] Number of data points in the train set: 12874, number of used features: 30\n",
      "[LightGBM] [Info] [binary:BoostFromScore]: pavg=0.500000 -> initscore=-0.000000\n",
      "[LightGBM] [Info] Start training from score -0.000000\n",
      "Training until validation scores don't improve for 50 rounds\n"
     ]
    },
    {
     "name": "stderr",
     "output_type": "stream",
     "text": [
      "c:\\Users\\User\\AppData\\Local\\Programs\\Python\\Python39\\lib\\site-packages\\sklearn\\utils\\validation.py:2739: UserWarning: X does not have valid feature names, but LGBMClassifier was fitted with feature names\n",
      "  warnings.warn(\n"
     ]
    },
    {
     "name": "stdout",
     "output_type": "stream",
     "text": [
      "Early stopping, best iteration is:\n",
      "[185]\tvalid_0's auc: 0.943528\tvalid_0's binary_logloss: 0.0622568\n",
      "[F(m+mw)] fold 4/10 ...\n",
      "[LightGBM] [Info] Number of positive: 286, number of negative: 12588\n",
      "[LightGBM] [Info] Auto-choosing col-wise multi-threading, the overhead of testing was 0.001457 seconds.\n",
      "You can set `force_col_wise=true` to remove the overhead.\n",
      "[LightGBM] [Info] Total Bins 7650\n",
      "[LightGBM] [Info] Number of data points in the train set: 12874, number of used features: 30\n",
      "[LightGBM] [Info] [binary:BoostFromScore]: pavg=0.500000 -> initscore=-0.000000\n",
      "[LightGBM] [Info] Start training from score -0.000000\n",
      "Training until validation scores don't improve for 50 rounds\n"
     ]
    },
    {
     "name": "stderr",
     "output_type": "stream",
     "text": [
      "c:\\Users\\User\\AppData\\Local\\Programs\\Python\\Python39\\lib\\site-packages\\sklearn\\utils\\validation.py:2739: UserWarning: X does not have valid feature names, but LGBMClassifier was fitted with feature names\n",
      "  warnings.warn(\n"
     ]
    },
    {
     "name": "stdout",
     "output_type": "stream",
     "text": [
      "Early stopping, best iteration is:\n",
      "[84]\tvalid_0's auc: 0.933054\tvalid_0's binary_logloss: 0.102283\n",
      "[F(m+mw)] fold 5/10 ...\n",
      "[LightGBM] [Info] Number of positive: 286, number of negative: 12588\n",
      "[LightGBM] [Info] Auto-choosing col-wise multi-threading, the overhead of testing was 0.001486 seconds.\n",
      "You can set `force_col_wise=true` to remove the overhead.\n",
      "[LightGBM] [Info] Total Bins 7650\n",
      "[LightGBM] [Info] Number of data points in the train set: 12874, number of used features: 30\n",
      "[LightGBM] [Info] [binary:BoostFromScore]: pavg=0.500000 -> initscore=-0.000000\n",
      "[LightGBM] [Info] Start training from score -0.000000\n",
      "Training until validation scores don't improve for 50 rounds\n"
     ]
    },
    {
     "name": "stderr",
     "output_type": "stream",
     "text": [
      "c:\\Users\\User\\AppData\\Local\\Programs\\Python\\Python39\\lib\\site-packages\\sklearn\\utils\\validation.py:2739: UserWarning: X does not have valid feature names, but LGBMClassifier was fitted with feature names\n",
      "  warnings.warn(\n"
     ]
    },
    {
     "name": "stdout",
     "output_type": "stream",
     "text": [
      "Early stopping, best iteration is:\n",
      "[83]\tvalid_0's auc: 0.931546\tvalid_0's binary_logloss: 0.103333\n",
      "[F(m+mw)] fold 6/10 ...\n",
      "[LightGBM] [Info] Number of positive: 285, number of negative: 12589\n",
      "[LightGBM] [Info] Auto-choosing col-wise multi-threading, the overhead of testing was 0.001339 seconds.\n",
      "You can set `force_col_wise=true` to remove the overhead.\n",
      "[LightGBM] [Info] Total Bins 7650\n",
      "[LightGBM] [Info] Number of data points in the train set: 12874, number of used features: 30\n",
      "[LightGBM] [Info] [binary:BoostFromScore]: pavg=0.500000 -> initscore=-0.000000\n",
      "[LightGBM] [Info] Start training from score -0.000000\n",
      "Training until validation scores don't improve for 50 rounds\n"
     ]
    },
    {
     "name": "stderr",
     "output_type": "stream",
     "text": [
      "c:\\Users\\User\\AppData\\Local\\Programs\\Python\\Python39\\lib\\site-packages\\sklearn\\utils\\validation.py:2739: UserWarning: X does not have valid feature names, but LGBMClassifier was fitted with feature names\n",
      "  warnings.warn(\n"
     ]
    },
    {
     "name": "stdout",
     "output_type": "stream",
     "text": [
      "Early stopping, best iteration is:\n",
      "[190]\tvalid_0's auc: 0.933398\tvalid_0's binary_logloss: 0.0682945\n",
      "[F(m+mw)] fold 7/10 ...\n",
      "[LightGBM] [Info] Number of positive: 285, number of negative: 12589\n",
      "[LightGBM] [Info] Auto-choosing col-wise multi-threading, the overhead of testing was 0.001073 seconds.\n",
      "You can set `force_col_wise=true` to remove the overhead.\n",
      "[LightGBM] [Info] Total Bins 7650\n",
      "[LightGBM] [Info] Number of data points in the train set: 12874, number of used features: 30\n",
      "[LightGBM] [Info] [binary:BoostFromScore]: pavg=0.500000 -> initscore=-0.000000\n",
      "[LightGBM] [Info] Start training from score -0.000000\n",
      "Training until validation scores don't improve for 50 rounds\n"
     ]
    },
    {
     "name": "stderr",
     "output_type": "stream",
     "text": [
      "c:\\Users\\User\\AppData\\Local\\Programs\\Python\\Python39\\lib\\site-packages\\sklearn\\utils\\validation.py:2739: UserWarning: X does not have valid feature names, but LGBMClassifier was fitted with feature names\n",
      "  warnings.warn(\n"
     ]
    },
    {
     "name": "stdout",
     "output_type": "stream",
     "text": [
      "Early stopping, best iteration is:\n",
      "[112]\tvalid_0's auc: 0.94525\tvalid_0's binary_logloss: 0.0780741\n",
      "[F(m+mw)] fold 8/10 ...\n",
      "[LightGBM] [Info] Number of positive: 285, number of negative: 12589\n",
      "[LightGBM] [Info] Auto-choosing col-wise multi-threading, the overhead of testing was 0.001439 seconds.\n",
      "You can set `force_col_wise=true` to remove the overhead.\n",
      "[LightGBM] [Info] Total Bins 7650\n",
      "[LightGBM] [Info] Number of data points in the train set: 12874, number of used features: 30\n",
      "[LightGBM] [Info] [binary:BoostFromScore]: pavg=0.500000 -> initscore=-0.000000\n",
      "[LightGBM] [Info] Start training from score -0.000000\n",
      "Training until validation scores don't improve for 50 rounds\n"
     ]
    },
    {
     "name": "stderr",
     "output_type": "stream",
     "text": [
      "c:\\Users\\User\\AppData\\Local\\Programs\\Python\\Python39\\lib\\site-packages\\sklearn\\utils\\validation.py:2739: UserWarning: X does not have valid feature names, but LGBMClassifier was fitted with feature names\n",
      "  warnings.warn(\n"
     ]
    },
    {
     "name": "stdout",
     "output_type": "stream",
     "text": [
      "Early stopping, best iteration is:\n",
      "[103]\tvalid_0's auc: 0.92249\tvalid_0's binary_logloss: 0.0895934\n",
      "[F(m+mw)] fold 9/10 ...\n",
      "[LightGBM] [Info] Number of positive: 285, number of negative: 12589\n",
      "[LightGBM] [Info] Auto-choosing col-wise multi-threading, the overhead of testing was 0.001703 seconds.\n",
      "You can set `force_col_wise=true` to remove the overhead.\n",
      "[LightGBM] [Info] Total Bins 7650\n",
      "[LightGBM] [Info] Number of data points in the train set: 12874, number of used features: 30\n",
      "[LightGBM] [Info] [binary:BoostFromScore]: pavg=0.500000 -> initscore=-0.000000\n",
      "[LightGBM] [Info] Start training from score -0.000000\n",
      "Training until validation scores don't improve for 50 rounds\n"
     ]
    },
    {
     "name": "stderr",
     "output_type": "stream",
     "text": [
      "c:\\Users\\User\\AppData\\Local\\Programs\\Python\\Python39\\lib\\site-packages\\sklearn\\utils\\validation.py:2739: UserWarning: X does not have valid feature names, but LGBMClassifier was fitted with feature names\n",
      "  warnings.warn(\n"
     ]
    },
    {
     "name": "stdout",
     "output_type": "stream",
     "text": [
      "Early stopping, best iteration is:\n",
      "[119]\tvalid_0's auc: 0.928454\tvalid_0's binary_logloss: 0.0803709\n",
      "[F(m+mw)] fold 10/10 ...\n",
      "[LightGBM] [Info] Number of positive: 285, number of negative: 12589\n",
      "[LightGBM] [Info] Auto-choosing col-wise multi-threading, the overhead of testing was 0.001056 seconds.\n",
      "You can set `force_col_wise=true` to remove the overhead.\n",
      "[LightGBM] [Info] Total Bins 7650\n",
      "[LightGBM] [Info] Number of data points in the train set: 12874, number of used features: 30\n",
      "[LightGBM] [Info] [binary:BoostFromScore]: pavg=0.500000 -> initscore=-0.000000\n",
      "[LightGBM] [Info] Start training from score -0.000000\n",
      "Training until validation scores don't improve for 50 rounds\n"
     ]
    },
    {
     "name": "stderr",
     "output_type": "stream",
     "text": [
      "c:\\Users\\User\\AppData\\Local\\Programs\\Python\\Python39\\lib\\site-packages\\sklearn\\utils\\validation.py:2739: UserWarning: X does not have valid feature names, but LGBMClassifier was fitted with feature names\n",
      "  warnings.warn(\n"
     ]
    },
    {
     "name": "stdout",
     "output_type": "stream",
     "text": [
      "Early stopping, best iteration is:\n",
      "[73]\tvalid_0's auc: 0.92288\tvalid_0's binary_logloss: 0.120345\n",
      "[OF(m+mw)] fold 1/10 ...\n",
      "[LightGBM] [Info] Number of positive: 285, number of negative: 12588\n",
      "[LightGBM] [Info] Auto-choosing col-wise multi-threading, the overhead of testing was 0.001808 seconds.\n",
      "You can set `force_col_wise=true` to remove the overhead.\n",
      "[LightGBM] [Info] Total Bins 10680\n",
      "[LightGBM] [Info] Number of data points in the train set: 12873, number of used features: 43\n",
      "[LightGBM] [Info] [binary:BoostFromScore]: pavg=0.500000 -> initscore=0.000000\n",
      "[LightGBM] [Info] Start training from score 0.000000\n",
      "Training until validation scores don't improve for 50 rounds\n"
     ]
    },
    {
     "name": "stderr",
     "output_type": "stream",
     "text": [
      "c:\\Users\\User\\AppData\\Local\\Programs\\Python\\Python39\\lib\\site-packages\\sklearn\\utils\\validation.py:2739: UserWarning: X does not have valid feature names, but LGBMClassifier was fitted with feature names\n",
      "  warnings.warn(\n"
     ]
    },
    {
     "name": "stdout",
     "output_type": "stream",
     "text": [
      "Early stopping, best iteration is:\n",
      "[75]\tvalid_0's auc: 0.933349\tvalid_0's binary_logloss: 0.0954145\n",
      "[OF(m+mw)] fold 2/10 ...\n",
      "[LightGBM] [Info] Number of positive: 286, number of negative: 12588\n",
      "[LightGBM] [Info] Auto-choosing col-wise multi-threading, the overhead of testing was 0.001722 seconds.\n",
      "You can set `force_col_wise=true` to remove the overhead.\n",
      "[LightGBM] [Info] Total Bins 10676\n",
      "[LightGBM] [Info] Number of data points in the train set: 12874, number of used features: 43\n",
      "[LightGBM] [Info] [binary:BoostFromScore]: pavg=0.500000 -> initscore=-0.000000\n",
      "[LightGBM] [Info] Start training from score -0.000000\n",
      "Training until validation scores don't improve for 50 rounds\n"
     ]
    },
    {
     "name": "stderr",
     "output_type": "stream",
     "text": [
      "c:\\Users\\User\\AppData\\Local\\Programs\\Python\\Python39\\lib\\site-packages\\sklearn\\utils\\validation.py:2739: UserWarning: X does not have valid feature names, but LGBMClassifier was fitted with feature names\n",
      "  warnings.warn(\n"
     ]
    },
    {
     "name": "stdout",
     "output_type": "stream",
     "text": [
      "Early stopping, best iteration is:\n",
      "[176]\tvalid_0's auc: 0.924419\tvalid_0's binary_logloss: 0.0723604\n",
      "[OF(m+mw)] fold 3/10 ...\n",
      "[LightGBM] [Info] Number of positive: 286, number of negative: 12588\n",
      "[LightGBM] [Info] Auto-choosing col-wise multi-threading, the overhead of testing was 0.001478 seconds.\n",
      "You can set `force_col_wise=true` to remove the overhead.\n",
      "[LightGBM] [Info] Total Bins 10675\n",
      "[LightGBM] [Info] Number of data points in the train set: 12874, number of used features: 43\n",
      "[LightGBM] [Info] [binary:BoostFromScore]: pavg=0.500000 -> initscore=-0.000000\n",
      "[LightGBM] [Info] Start training from score -0.000000\n",
      "Training until validation scores don't improve for 50 rounds\n"
     ]
    },
    {
     "name": "stderr",
     "output_type": "stream",
     "text": [
      "c:\\Users\\User\\AppData\\Local\\Programs\\Python\\Python39\\lib\\site-packages\\sklearn\\utils\\validation.py:2739: UserWarning: X does not have valid feature names, but LGBMClassifier was fitted with feature names\n",
      "  warnings.warn(\n"
     ]
    },
    {
     "name": "stdout",
     "output_type": "stream",
     "text": [
      "Early stopping, best iteration is:\n",
      "[6]\tvalid_0's auc: 0.941271\tvalid_0's binary_logloss: 0.510197\n",
      "[OF(m+mw)] fold 4/10 ...\n",
      "[LightGBM] [Info] Number of positive: 286, number of negative: 12588\n",
      "[LightGBM] [Info] Auto-choosing col-wise multi-threading, the overhead of testing was 0.001557 seconds.\n",
      "You can set `force_col_wise=true` to remove the overhead.\n",
      "[LightGBM] [Info] Total Bins 10684\n",
      "[LightGBM] [Info] Number of data points in the train set: 12874, number of used features: 43\n",
      "[LightGBM] [Info] [binary:BoostFromScore]: pavg=0.500000 -> initscore=-0.000000\n",
      "[LightGBM] [Info] Start training from score -0.000000\n",
      "Training until validation scores don't improve for 50 rounds\n"
     ]
    },
    {
     "name": "stderr",
     "output_type": "stream",
     "text": [
      "c:\\Users\\User\\AppData\\Local\\Programs\\Python\\Python39\\lib\\site-packages\\sklearn\\utils\\validation.py:2739: UserWarning: X does not have valid feature names, but LGBMClassifier was fitted with feature names\n",
      "  warnings.warn(\n"
     ]
    },
    {
     "name": "stdout",
     "output_type": "stream",
     "text": [
      "Early stopping, best iteration is:\n",
      "[29]\tvalid_0's auc: 0.925864\tvalid_0's binary_logloss: 0.226633\n",
      "[OF(m+mw)] fold 5/10 ...\n",
      "[LightGBM] [Info] Number of positive: 286, number of negative: 12588\n",
      "[LightGBM] [Info] Auto-choosing col-wise multi-threading, the overhead of testing was 0.001788 seconds.\n",
      "You can set `force_col_wise=true` to remove the overhead.\n",
      "[LightGBM] [Info] Total Bins 10682\n",
      "[LightGBM] [Info] Number of data points in the train set: 12874, number of used features: 43\n",
      "[LightGBM] [Info] [binary:BoostFromScore]: pavg=0.500000 -> initscore=-0.000000\n",
      "[LightGBM] [Info] Start training from score -0.000000\n",
      "Training until validation scores don't improve for 50 rounds\n"
     ]
    },
    {
     "name": "stderr",
     "output_type": "stream",
     "text": [
      "c:\\Users\\User\\AppData\\Local\\Programs\\Python\\Python39\\lib\\site-packages\\sklearn\\utils\\validation.py:2739: UserWarning: X does not have valid feature names, but LGBMClassifier was fitted with feature names\n",
      "  warnings.warn(\n"
     ]
    },
    {
     "name": "stdout",
     "output_type": "stream",
     "text": [
      "Early stopping, best iteration is:\n",
      "[34]\tvalid_0's auc: 0.924752\tvalid_0's binary_logloss: 0.187525\n",
      "[OF(m+mw)] fold 6/10 ...\n",
      "[LightGBM] [Info] Number of positive: 285, number of negative: 12589\n",
      "[LightGBM] [Info] Auto-choosing col-wise multi-threading, the overhead of testing was 0.001474 seconds.\n",
      "You can set `force_col_wise=true` to remove the overhead.\n",
      "[LightGBM] [Info] Total Bins 10676\n",
      "[LightGBM] [Info] Number of data points in the train set: 12874, number of used features: 43\n",
      "[LightGBM] [Info] [binary:BoostFromScore]: pavg=0.500000 -> initscore=-0.000000\n",
      "[LightGBM] [Info] Start training from score -0.000000\n",
      "Training until validation scores don't improve for 50 rounds\n"
     ]
    },
    {
     "name": "stderr",
     "output_type": "stream",
     "text": [
      "c:\\Users\\User\\AppData\\Local\\Programs\\Python\\Python39\\lib\\site-packages\\sklearn\\utils\\validation.py:2739: UserWarning: X does not have valid feature names, but LGBMClassifier was fitted with feature names\n",
      "  warnings.warn(\n"
     ]
    },
    {
     "name": "stdout",
     "output_type": "stream",
     "text": [
      "Early stopping, best iteration is:\n",
      "[110]\tvalid_0's auc: 0.934557\tvalid_0's binary_logloss: 0.0733469\n",
      "[OF(m+mw)] fold 7/10 ...\n",
      "[LightGBM] [Info] Number of positive: 285, number of negative: 12589\n",
      "[LightGBM] [Info] Auto-choosing col-wise multi-threading, the overhead of testing was 0.001483 seconds.\n",
      "You can set `force_col_wise=true` to remove the overhead.\n",
      "[LightGBM] [Info] Total Bins 10683\n",
      "[LightGBM] [Info] Number of data points in the train set: 12874, number of used features: 43\n",
      "[LightGBM] [Info] [binary:BoostFromScore]: pavg=0.500000 -> initscore=-0.000000\n",
      "[LightGBM] [Info] Start training from score -0.000000\n",
      "Training until validation scores don't improve for 50 rounds\n"
     ]
    },
    {
     "name": "stderr",
     "output_type": "stream",
     "text": [
      "c:\\Users\\User\\AppData\\Local\\Programs\\Python\\Python39\\lib\\site-packages\\sklearn\\utils\\validation.py:2739: UserWarning: X does not have valid feature names, but LGBMClassifier was fitted with feature names\n",
      "  warnings.warn(\n"
     ]
    },
    {
     "name": "stdout",
     "output_type": "stream",
     "text": [
      "Early stopping, best iteration is:\n",
      "[86]\tvalid_0's auc: 0.951917\tvalid_0's binary_logloss: 0.0819803\n",
      "[OF(m+mw)] fold 8/10 ...\n",
      "[LightGBM] [Info] Number of positive: 285, number of negative: 12589\n",
      "[LightGBM] [Info] Auto-choosing col-wise multi-threading, the overhead of testing was 0.001661 seconds.\n",
      "You can set `force_col_wise=true` to remove the overhead.\n",
      "[LightGBM] [Info] Total Bins 10679\n",
      "[LightGBM] [Info] Number of data points in the train set: 12874, number of used features: 43\n",
      "[LightGBM] [Info] [binary:BoostFromScore]: pavg=0.500000 -> initscore=-0.000000\n",
      "[LightGBM] [Info] Start training from score -0.000000\n",
      "Training until validation scores don't improve for 50 rounds\n"
     ]
    },
    {
     "name": "stderr",
     "output_type": "stream",
     "text": [
      "c:\\Users\\User\\AppData\\Local\\Programs\\Python\\Python39\\lib\\site-packages\\sklearn\\utils\\validation.py:2739: UserWarning: X does not have valid feature names, but LGBMClassifier was fitted with feature names\n",
      "  warnings.warn(\n"
     ]
    },
    {
     "name": "stdout",
     "output_type": "stream",
     "text": [
      "Early stopping, best iteration is:\n",
      "[25]\tvalid_0's auc: 0.932061\tvalid_0's binary_logloss: 0.250831\n",
      "[OF(m+mw)] fold 9/10 ...\n",
      "[LightGBM] [Info] Number of positive: 285, number of negative: 12589\n",
      "[LightGBM] [Info] Auto-choosing col-wise multi-threading, the overhead of testing was 0.002070 seconds.\n",
      "You can set `force_col_wise=true` to remove the overhead.\n",
      "[LightGBM] [Info] Total Bins 10675\n",
      "[LightGBM] [Info] Number of data points in the train set: 12874, number of used features: 43\n",
      "[LightGBM] [Info] [binary:BoostFromScore]: pavg=0.500000 -> initscore=-0.000000\n",
      "[LightGBM] [Info] Start training from score -0.000000\n",
      "Training until validation scores don't improve for 50 rounds\n"
     ]
    },
    {
     "name": "stderr",
     "output_type": "stream",
     "text": [
      "c:\\Users\\User\\AppData\\Local\\Programs\\Python\\Python39\\lib\\site-packages\\sklearn\\utils\\validation.py:2739: UserWarning: X does not have valid feature names, but LGBMClassifier was fitted with feature names\n",
      "  warnings.warn(\n"
     ]
    },
    {
     "name": "stdout",
     "output_type": "stream",
     "text": [
      "Early stopping, best iteration is:\n",
      "[108]\tvalid_0's auc: 0.947707\tvalid_0's binary_logloss: 0.0742498\n",
      "[OF(m+mw)] fold 10/10 ...\n",
      "[LightGBM] [Info] Number of positive: 285, number of negative: 12589\n",
      "[LightGBM] [Info] Auto-choosing col-wise multi-threading, the overhead of testing was 0.001468 seconds.\n",
      "You can set `force_col_wise=true` to remove the overhead.\n",
      "[LightGBM] [Info] Total Bins 10683\n",
      "[LightGBM] [Info] Number of data points in the train set: 12874, number of used features: 43\n",
      "[LightGBM] [Info] [binary:BoostFromScore]: pavg=0.500000 -> initscore=-0.000000\n",
      "[LightGBM] [Info] Start training from score -0.000000\n",
      "Training until validation scores don't improve for 50 rounds\n"
     ]
    },
    {
     "name": "stderr",
     "output_type": "stream",
     "text": [
      "c:\\Users\\User\\AppData\\Local\\Programs\\Python\\Python39\\lib\\site-packages\\sklearn\\utils\\validation.py:2739: UserWarning: X does not have valid feature names, but LGBMClassifier was fitted with feature names\n",
      "  warnings.warn(\n"
     ]
    },
    {
     "name": "stdout",
     "output_type": "stream",
     "text": [
      "Early stopping, best iteration is:\n",
      "[63]\tvalid_0's auc: 0.929991\tvalid_0's binary_logloss: 0.116287\n"
     ]
    },
    {
     "name": "stderr",
     "output_type": "stream",
     "text": [
      "c:\\Users\\User\\AppData\\Local\\Programs\\Python\\Python39\\lib\\site-packages\\sklearn\\utils\\validation.py:2739: UserWarning: X does not have valid feature names, but LGBMClassifier was fitted with feature names\n",
      "  warnings.warn(\n"
     ]
    },
    {
     "data": {
      "text/html": [
       "<div>\n",
       "<style scoped>\n",
       "    .dataframe tbody tr th:only-of-type {\n",
       "        vertical-align: middle;\n",
       "    }\n",
       "\n",
       "    .dataframe tbody tr th {\n",
       "        vertical-align: top;\n",
       "    }\n",
       "\n",
       "    .dataframe thead tr th {\n",
       "        text-align: left;\n",
       "    }\n",
       "</style>\n",
       "<table border=\"1\" class=\"dataframe\">\n",
       "  <thead>\n",
       "    <tr>\n",
       "      <th></th>\n",
       "      <th colspan=\"5\" halign=\"left\">O</th>\n",
       "      <th colspan=\"5\" halign=\"left\">F</th>\n",
       "      <th colspan=\"5\" halign=\"left\">OF</th>\n",
       "    </tr>\n",
       "    <tr>\n",
       "      <th></th>\n",
       "      <th>f1</th>\n",
       "      <th>AUPRC</th>\n",
       "      <th>AUROC</th>\n",
       "      <th>Brier</th>\n",
       "      <th>ECE</th>\n",
       "      <th>f1</th>\n",
       "      <th>AUPRC</th>\n",
       "      <th>AUROC</th>\n",
       "      <th>Brier</th>\n",
       "      <th>ECE</th>\n",
       "      <th>f1</th>\n",
       "      <th>AUPRC</th>\n",
       "      <th>AUROC</th>\n",
       "      <th>Brier</th>\n",
       "      <th>ECE</th>\n",
       "    </tr>\n",
       "  </thead>\n",
       "  <tbody>\n",
       "    <tr>\n",
       "      <th>original</th>\n",
       "      <td>0.3923</td>\n",
       "      <td>0.4337</td>\n",
       "      <td>0.9152</td>\n",
       "      <td>0.042</td>\n",
       "      <td>0.0952</td>\n",
       "      <td>NaN</td>\n",
       "      <td>NaN</td>\n",
       "      <td>NaN</td>\n",
       "      <td>NaN</td>\n",
       "      <td>NaN</td>\n",
       "      <td>NaN</td>\n",
       "      <td>NaN</td>\n",
       "      <td>NaN</td>\n",
       "      <td>NaN</td>\n",
       "      <td>NaN</td>\n",
       "    </tr>\n",
       "    <tr>\n",
       "      <th>m</th>\n",
       "      <td>0.3923</td>\n",
       "      <td>0.4337</td>\n",
       "      <td>0.9152</td>\n",
       "      <td>0.042</td>\n",
       "      <td>0.0952</td>\n",
       "      <td>0.4296</td>\n",
       "      <td>0.4725</td>\n",
       "      <td>0.9119</td>\n",
       "      <td>0.0294</td>\n",
       "      <td>0.0564</td>\n",
       "      <td>0.4581</td>\n",
       "      <td>0.5015</td>\n",
       "      <td>0.9196</td>\n",
       "      <td>0.0285</td>\n",
       "      <td>0.0550</td>\n",
       "    </tr>\n",
       "    <tr>\n",
       "      <th>mw</th>\n",
       "      <td>0.3923</td>\n",
       "      <td>0.4337</td>\n",
       "      <td>0.9152</td>\n",
       "      <td>0.042</td>\n",
       "      <td>0.0952</td>\n",
       "      <td>0.4602</td>\n",
       "      <td>0.4915</td>\n",
       "      <td>0.9129</td>\n",
       "      <td>0.0230</td>\n",
       "      <td>0.0301</td>\n",
       "      <td>0.4535</td>\n",
       "      <td>0.5039</td>\n",
       "      <td>0.9202</td>\n",
       "      <td>0.0324</td>\n",
       "      <td>0.0716</td>\n",
       "    </tr>\n",
       "    <tr>\n",
       "      <th>m+mw</th>\n",
       "      <td>0.3923</td>\n",
       "      <td>0.4337</td>\n",
       "      <td>0.9152</td>\n",
       "      <td>0.042</td>\n",
       "      <td>0.0952</td>\n",
       "      <td>0.4381</td>\n",
       "      <td>0.4750</td>\n",
       "      <td>0.9125</td>\n",
       "      <td>0.0238</td>\n",
       "      <td>0.0299</td>\n",
       "      <td>0.4198</td>\n",
       "      <td>0.4681</td>\n",
       "      <td>0.9113</td>\n",
       "      <td>0.0454</td>\n",
       "      <td>0.1050</td>\n",
       "    </tr>\n",
       "  </tbody>\n",
       "</table>\n",
       "</div>"
      ],
      "text/plain": [
       "               O                                      F                  \\\n",
       "              f1   AUPRC   AUROC  Brier     ECE      f1   AUPRC   AUROC   \n",
       "original  0.3923  0.4337  0.9152  0.042  0.0952     NaN     NaN     NaN   \n",
       "m         0.3923  0.4337  0.9152  0.042  0.0952  0.4296  0.4725  0.9119   \n",
       "mw        0.3923  0.4337  0.9152  0.042  0.0952  0.4602  0.4915  0.9129   \n",
       "m+mw      0.3923  0.4337  0.9152  0.042  0.0952  0.4381  0.4750  0.9125   \n",
       "\n",
       "                              OF                                  \n",
       "           Brier     ECE      f1   AUPRC   AUROC   Brier     ECE  \n",
       "original     NaN     NaN     NaN     NaN     NaN     NaN     NaN  \n",
       "m         0.0294  0.0564  0.4581  0.5015  0.9196  0.0285  0.0550  \n",
       "mw        0.0230  0.0301  0.4535  0.5039  0.9202  0.0324  0.0716  \n",
       "m+mw      0.0238  0.0299  0.4198  0.4681  0.9113  0.0454  0.1050  "
      ]
     },
     "execution_count": 5,
     "metadata": {},
     "output_type": "execute_result"
    }
   ],
   "source": [
    "# ============================================\n",
    "# Random Edges → Top-K → mul/mulw → LightGBM → O/F/OF\n",
    "# 10-fold CV, O는 1회만(값 재사용) → 총 50회 학습\n",
    "# 결과: 행[original, m, mw] × 열[O,F,OF × f1,AUPRC,AUROC,Brier,ECE]\n",
    "# Python 3.9.1 / LightGBM 3.x~4.x 호환 (callback 기반 early stopping)\n",
    "# ============================================\n",
    "\n",
    "from pathlib import Path\n",
    "from typing import List, Dict\n",
    "import numpy as np\n",
    "import pandas as pd\n",
    "import warnings\n",
    "\n",
    "# 경고 최소화\n",
    "from sklearn.exceptions import DataConversionWarning\n",
    "warnings.filterwarnings(\n",
    "    \"ignore\",\n",
    "    message=\"X does not have valid feature names, but LGBMClassifier was fitted with feature names\"\n",
    ")\n",
    "warnings.filterwarnings(\"ignore\", category=DataConversionWarning)\n",
    "warnings.filterwarnings(\"ignore\", category=UserWarning)\n",
    "\n",
    "from sklearn.model_selection import StratifiedKFold, train_test_split\n",
    "from sklearn.metrics import f1_score, roc_auc_score, average_precision_score, brier_score_loss\n",
    "from lightgbm import LGBMClassifier, early_stopping, log_evaluation\n",
    "\n",
    "# ---------------- 설정 ----------------\n",
    "DATA_PATH = \"./training_data.csv\"   # 입력 파일\n",
    "LABEL_COL = \"label\"\n",
    "ID_PREFIX = \"Unnamed\"               # 식별자 접두사(예: 'Unnamed: 0')\n",
    "\n",
    "TOP_K_EDGES   = 15                  # 무작위 엣지(유향, child<-parent) 개수\n",
    "N_SPLITS      = 10\n",
    "RANDOM_STATE  = 42\n",
    "PRINT_PROGRESS = False              # True로 바꾸면 fold 1·마지막만 간단 출력\n",
    "\n",
    "# LightGBM 파라미터(안정/경량 기본값)\n",
    "LGBM_PARAMS = dict(\n",
    "    n_estimators=300,\n",
    "    learning_rate=0.05,\n",
    "    num_leaves=63,\n",
    "    max_depth=-1,                # 자동\n",
    "    subsample=0.8,\n",
    "    colsample_bytree=0.8,\n",
    "    reg_lambda=1.0,\n",
    "    reg_alpha=0.0,\n",
    "    objective=\"binary\",\n",
    "    class_weight=\"balanced\",     # 불균형 자동 보정\n",
    "    random_state=RANDOM_STATE,\n",
    "    n_jobs=-1,\n",
    "    verbosity=-1,                # 내부 로그 비활성화\n",
    ")\n",
    "EARLY_STOPPING_ROUNDS = 50\n",
    "# -------------------------------------\n",
    "\n",
    "\n",
    "# 1) 데이터 로드 & 컬럼 준비\n",
    "path = Path(DATA_PATH)\n",
    "assert path.exists(), f\"파일을 찾을 수 없습니다: {path}\"\n",
    "df = pd.read_csv(path)\n",
    "\n",
    "assert LABEL_COL in df.columns, f\"'{LABEL_COL}' 컬럼이 없습니다.\"\n",
    "id_cols = [c for c in df.columns if c.startswith(ID_PREFIX)]\n",
    "feature_cols = [c for c in df.columns if c not in id_cols + [LABEL_COL]]\n",
    "\n",
    "X_base = df[feature_cols].copy()\n",
    "y = df[LABEL_COL].astype(int).copy()\n",
    "\n",
    "# 상수(분산 0) 피처 제거 → 실사용 피처 목록\n",
    "var0_cols = [c for c in feature_cols if np.isclose(X_base[c].var(ddof=0), 0.0)]\n",
    "cols_used = [c for c in feature_cols if c not in var0_cols]\n",
    "p = len(cols_used)\n",
    "assert p >= 2, \"무작위 엣지를 만들려면 최소 2개 이상의 피처가 필요합니다.\"\n",
    "\n",
    "# 2) 무작위 엣지 및 가중치 생성 (child <- parent)\n",
    "rng = np.random.default_rng(RANDOM_STATE)\n",
    "all_pairs = [(child, parent) for child in range(p) for parent in range(p) if child != parent]\n",
    "max_edges = len(all_pairs)\n",
    "k = min(TOP_K_EDGES, max_edges)\n",
    "chosen_idx = rng.choice(max_edges, size=k, replace=False)\n",
    "chosen_edges = [all_pairs[idx] for idx in chosen_idx]\n",
    "weights = rng.uniform(-1.0, 1.0, size=k)   # U(-1,1)\n",
    "\n",
    "# 방향성 가중치 행렬 W_used (i <- j, child=i, parent=j)\n",
    "W_used = np.zeros((p, p), dtype=float)\n",
    "for (child, parent), w in zip(chosen_edges, weights):\n",
    "    W_used[child, parent] = w\n",
    "\n",
    "\n",
    "# === 유틸 ===\n",
    "def pick_top_k_edges(W: np.ndarray, cols: List[str], top_k: int = 15):\n",
    "    \"\"\"\n",
    "    (i <- j, weight=W[i,j]) 기준의 상위 |w| 간선 선택\n",
    "    반환: [(i, j, w_ij), ...] with i:child, j:parent\n",
    "    \"\"\"\n",
    "    n = W.shape[0]\n",
    "    flat = []\n",
    "    for i in range(n):\n",
    "        for j in range(n):\n",
    "            if i == j:\n",
    "                continue\n",
    "            w = W[i, j]\n",
    "            if w == 0.0:\n",
    "                continue\n",
    "            flat.append((i, j, w))\n",
    "    if not flat:\n",
    "        return []\n",
    "    flat.sort(key=lambda t: (abs(t[2]), t[2]), reverse=True)\n",
    "    return flat[:min(top_k, len(flat))]\n",
    "\n",
    "\n",
    "def expected_calibration_error(y_true, y_prob, n_bins: int = 10):\n",
    "    y_true = np.asarray(y_true)\n",
    "    y_prob = np.asarray(y_prob)\n",
    "    bins = np.linspace(0.0, 1.0, n_bins + 1)\n",
    "    ece = 0.0\n",
    "    total = len(y_true)\n",
    "    for b in range(n_bins):\n",
    "        left, right = bins[b], bins[b+1]\n",
    "        if b < n_bins - 1:\n",
    "            mask = (y_prob >= left) & (y_prob < right)\n",
    "        else:\n",
    "            mask = (y_prob >= left) & (y_prob <= right)\n",
    "        if not np.any(mask):\n",
    "            continue\n",
    "        acc = y_true[mask].mean()\n",
    "        conf = y_prob[mask].mean()\n",
    "        ece += (mask.sum() / total) * abs(acc - conf)\n",
    "    return float(ece)\n",
    "\n",
    "\n",
    "def build_feature_df(\n",
    "    X_base_df: pd.DataFrame,\n",
    "    cols: List[str],\n",
    "    W: np.ndarray,\n",
    "    feature_type: str = \"mul\",\n",
    "    top_k: int = 15\n",
    ") -> pd.DataFrame:\n",
    "    \"\"\"\n",
    "    feature_type in {\"mul\",\"mulw\"}:\n",
    "      - mul  : (A * B)\n",
    "      - mulw : w_ij * (A * B)\n",
    "    규약: w_ij = W[i,j], A=cols[j](from/parent), B=cols[i](to/child)\n",
    "    \"\"\"\n",
    "    edges = pick_top_k_edges(W, cols, top_k=top_k)\n",
    "    if len(edges) == 0:\n",
    "        # 엣지가 하나도 없으면 빈 DF 반환\n",
    "        return pd.DataFrame(index=X_base_df.index)\n",
    "\n",
    "    feats = {}\n",
    "    for i, j, w_ij in edges:\n",
    "        A_name = cols[j]; B_name = cols[i]\n",
    "        if feature_type == \"mul\":\n",
    "            name = f\"{A_name}_mul_{B_name}\"\n",
    "            val = X_base_df[A_name] * X_base_df[B_name]\n",
    "        elif feature_type == \"mulw\":\n",
    "            name = f\"{A_name}_mulw_{B_name}\"\n",
    "            val = w_ij * (X_base_df[A_name] * X_base_df[B_name])\n",
    "        else:\n",
    "            raise ValueError(\"feature_type must be 'mul' or 'mulw'\")\n",
    "        feats[name] = val.values\n",
    "    return pd.DataFrame(feats, index=X_base_df.index)\n",
    "\n",
    "\n",
    "# === LightGBM 교차검증 ===\n",
    "def run_cv_lgbm(X_df: pd.DataFrame, y_sr: pd.Series, n_splits=10, random_state=42, tag: str = \"\") -> Dict[str, float]:\n",
    "    # pandas 타입 유지: 경고 방지 + 일관성\n",
    "    assert isinstance(X_df, pd.DataFrame) and isinstance(y_sr, (pd.Series, pd.DataFrame)), \"Use pandas types\"\n",
    "\n",
    "    skf = StratifiedKFold(n_splits=n_splits, shuffle=True, random_state=random_state)\n",
    "    f1s, auprcs, aurocs, briers, eces = [], [], [], [], []\n",
    "\n",
    "    for fold, (tr_idx, te_idx) in enumerate(skf.split(X_df, y_sr), start=1):\n",
    "        if PRINT_PROGRESS and tag and fold in (1, n_splits):\n",
    "            print(f\"[{tag}] fold {fold}/{n_splits} ...\", flush=True)\n",
    "\n",
    "        X_tr, X_te = X_df.iloc[tr_idx], X_df.iloc[te_idx]\n",
    "        y_tr, y_te = y_sr.iloc[tr_idx], y_sr.iloc[te_idx]\n",
    "\n",
    "        # 내부 검증(조기 종료)\n",
    "        X_tr_sub, X_val, y_tr_sub, y_val = train_test_split(\n",
    "            X_tr, y_tr, test_size=0.2, random_state=random_state, stratify=y_tr\n",
    "        )\n",
    "\n",
    "        clf = LGBMClassifier(**LGBM_PARAMS)\n",
    "        clf.fit(\n",
    "            X_tr_sub, y_tr_sub,\n",
    "            eval_set=[(X_val, y_val)],\n",
    "            eval_metric=\"auc\",\n",
    "            callbacks=[\n",
    "                early_stopping(EARLY_STOPPING_ROUNDS, verbose=False),  # 조기종료 메시지 끔\n",
    "                log_evaluation(0),                                    # 평가 로그 끔\n",
    "            ],\n",
    "        )\n",
    "\n",
    "        y_proba = clf.predict_proba(X_te)[:, 1]\n",
    "        y_pred  = (y_proba >= 0.5).astype(int)\n",
    "\n",
    "        f1s.append(f1_score(y_te, y_pred, zero_division=0))\n",
    "        try:\n",
    "            aurocs.append(roc_auc_score(y_te, y_proba))\n",
    "        except Exception:\n",
    "            aurocs.append(np.nan)\n",
    "        try:\n",
    "            auprcs.append(average_precision_score(y_te, y_proba))\n",
    "        except Exception:\n",
    "            auprcs.append(np.nan)\n",
    "        briers.append(brier_score_loss(y_te, y_proba))\n",
    "        eces.append(expected_calibration_error(y_te, y_proba, n_bins=10))\n",
    "\n",
    "    return {\n",
    "        \"f1\": float(np.nanmean(f1s)),\n",
    "        \"AUPRC\": float(np.nanmean(auprcs)),\n",
    "        \"AUROC\": float(np.nanmean(aurocs)),\n",
    "        \"Brier\": float(np.nanmean(briers)),\n",
    "        \"ECE\": float(np.nanmean(eces)),\n",
    "    }\n",
    "\n",
    "\n",
    "# 3) 파생 피처 생성 (무작위 W 기반)\n",
    "X_used_df = X_base[cols_used]               # 파생은 cols_used만 사용\n",
    "Xf_m   = build_feature_df(X_used_df, cols_used, W_used, feature_type=\"mul\",  top_k=TOP_K_EDGES)\n",
    "Xf_mw  = build_feature_df(X_used_df, cols_used, W_used, feature_type=\"mulw\", top_k=TOP_K_EDGES)\n",
    "\n",
    "# 4) 평가 (O는 1회만 학습 → 재사용)\n",
    "res_O      = run_cv_lgbm(X_base, y, n_splits=N_SPLITS, random_state=RANDOM_STATE, tag=\"O(original)\")\n",
    "\n",
    "res_F_m    = run_cv_lgbm(Xf_m,  y, n_splits=N_SPLITS, random_state=RANDOM_STATE, tag=\"F(m)\")\n",
    "res_OF_m   = run_cv_lgbm(pd.concat([X_base, Xf_m], axis=1),  y, n_splits=N_SPLITS, random_state=RANDOM_STATE, tag=\"OF(m)\")\n",
    "\n",
    "res_F_mw   = run_cv_lgbm(Xf_mw, y, n_splits=N_SPLITS, random_state=RANDOM_STATE, tag=\"F(mw)\")\n",
    "res_OF_mw  = run_cv_lgbm(pd.concat([X_base, Xf_mw], axis=1), y, n_splits=N_SPLITS, random_state=RANDOM_STATE, tag=\"OF(mw)\")\n",
    "\n",
    "# 5) 결과 표 구성 (MultiIndex 컬럼, 변수명 report)\n",
    "col_top = [\"O\", \"F\", \"OF\"]\n",
    "col_metrics = [\"f1\", \"AUPRC\", \"AUROC\", \"Brier\", \"ECE\"]\n",
    "multi_cols = pd.MultiIndex.from_product([col_top, col_metrics])\n",
    "index_rows = [\"original\", \"m\", \"mw\"]  # m+mw 제거\n",
    "\n",
    "report = pd.DataFrame(index=index_rows, columns=multi_cols, dtype=float)\n",
    "\n",
    "# original 행: O만\n",
    "for met in col_metrics:\n",
    "    report.loc[\"original\", (\"O\", met)] = res_O[met]\n",
    "\n",
    "# m / mw 행\n",
    "def put(row, res_F, res_OF):\n",
    "    for met in col_metrics:\n",
    "        report.loc[row, (\"O\", met)]  = res_O[met]   # O는 재사용(미재학습)\n",
    "        report.loc[row, (\"F\", met)]  = res_F[met]\n",
    "        report.loc[row, (\"OF\", met)] = res_OF[met]\n",
    "\n",
    "put(\"m\",   res_F_m,  res_OF_m)\n",
    "put(\"mw\",  res_F_mw, res_OF_mw)\n",
    "\n",
    "report = report.astype(float).round(4)\n",
    "report"
   ]
  },
  {
   "cell_type": "code",
   "execution_count": null,
   "id": "5c3d5f4d",
   "metadata": {},
   "outputs": [
    {
     "name": "stdout",
     "output_type": "stream",
     "text": [
      "Saved: report_ges_lightgbm_rand_w.csv (format=multi)\n"
     ]
    }
   ],
   "source": [
    "# report: MultiIndex 컬럼의 결과 DataFrame이 이미 존재한다고 가정\n",
    "# format 옵션: \"multi\" | \"flat\" | \"long\"\n",
    "save_format = \"multi\"  # 원하는 포맷으로 변경\n",
    "\n",
    "if save_format == \"multi\":\n",
    "    out_path = \"report_ges_lightgbm_rand_w.csv\"\n",
    "    report.to_csv(out_path, encoding=\"utf-8-sig\")\n",
    "\n",
    "elif save_format == \"flat\":\n",
    "    out_path = \"report_ges_lightgbm_rand_w.csv\"\n",
    "    flat_cols = [f\"{top}_{met}\" for top, met in report.columns.to_list()]\n",
    "    report_flat = report.copy()\n",
    "    report_flat.columns = flat_cols\n",
    "    report_flat.to_csv(out_path, encoding=\"utf-8-sig\")\n",
    "\n",
    "elif save_format == \"long\":\n",
    "    out_path = \"report_ges_lightgbm_rand_w.csv\"\n",
    "    report_long = (\n",
    "        report\n",
    "        .rename_axis(index=\"row\", columns=[\"set\", \"metric\"])\n",
    "        .stack([\"set\", \"metric\"])\n",
    "        .to_frame(\"value\")\n",
    "        .reset_index()[[\"row\", \"set\", \"metric\", \"value\"]]\n",
    "    )\n",
    "    report_long.to_csv(out_path, index=False, encoding=\"utf-8-sig\")\n",
    "else:\n",
    "    raise ValueError(\"save_format must be one of: 'multi', 'flat', 'long'\")\n",
    "\n",
    "print(f\"Saved: {out_path} (format={save_format})\")\n"
   ]
  },
  {
   "cell_type": "markdown",
   "id": "89c0f8d7",
   "metadata": {},
   "source": [
    "엣지 연결 무작위"
   ]
  },
  {
   "cell_type": "code",
   "execution_count": null,
   "id": "0737504e",
   "metadata": {},
   "outputs": [
    {
     "name": "stdout",
     "output_type": "stream",
     "text": [
      "[O(original)] fold 1/10 ...\n",
      "[LightGBM] [Info] Number of positive: 285, number of negative: 12588\n",
      "[LightGBM] [Info] Auto-choosing col-wise multi-threading, the overhead of testing was 0.000370 seconds.\n",
      "You can set `force_col_wise=true` to remove the overhead.\n",
      "[LightGBM] [Info] Total Bins 3030\n",
      "[LightGBM] [Info] Number of data points in the train set: 12873, number of used features: 13\n",
      "[LightGBM] [Info] [binary:BoostFromScore]: pavg=0.500000 -> initscore=0.000000\n",
      "[LightGBM] [Info] Start training from score 0.000000\n",
      "Training until validation scores don't improve for 50 rounds\n",
      "Early stopping, best iteration is:\n",
      "[22]\tvalid_0's auc: 0.928258\tvalid_0's binary_logloss: 0.286746\n",
      "[O(original)] fold 2/10 ...\n",
      "[LightGBM] [Info] Number of positive: 286, number of negative: 12588\n",
      "[LightGBM] [Info] Auto-choosing col-wise multi-threading, the overhead of testing was 0.000349 seconds.\n",
      "You can set `force_col_wise=true` to remove the overhead.\n",
      "[LightGBM] [Info] Total Bins 3026\n",
      "[LightGBM] [Info] Number of data points in the train set: 12874, number of used features: 13\n",
      "[LightGBM] [Info] [binary:BoostFromScore]: pavg=0.500000 -> initscore=-0.000000\n",
      "[LightGBM] [Info] Start training from score -0.000000\n",
      "Training until validation scores don't improve for 50 rounds\n"
     ]
    },
    {
     "name": "stderr",
     "output_type": "stream",
     "text": [
      "c:\\Users\\User\\AppData\\Local\\Programs\\Python\\Python39\\lib\\site-packages\\sklearn\\utils\\validation.py:2739: UserWarning: X does not have valid feature names, but LGBMClassifier was fitted with feature names\n",
      "  warnings.warn(\n"
     ]
    },
    {
     "name": "stdout",
     "output_type": "stream",
     "text": [
      "Early stopping, best iteration is:\n",
      "[106]\tvalid_0's auc: 0.920933\tvalid_0's binary_logloss: 0.0914904\n",
      "[O(original)] fold 3/10 ...\n",
      "[LightGBM] [Info] Number of positive: 286, number of negative: 12588\n",
      "[LightGBM] [Info] Auto-choosing col-wise multi-threading, the overhead of testing was 0.000365 seconds.\n",
      "You can set `force_col_wise=true` to remove the overhead.\n",
      "[LightGBM] [Info] Total Bins 3025\n",
      "[LightGBM] [Info] Number of data points in the train set: 12874, number of used features: 13\n",
      "[LightGBM] [Info] [binary:BoostFromScore]: pavg=0.500000 -> initscore=-0.000000\n",
      "[LightGBM] [Info] Start training from score -0.000000\n",
      "Training until validation scores don't improve for 50 rounds\n"
     ]
    },
    {
     "name": "stderr",
     "output_type": "stream",
     "text": [
      "c:\\Users\\User\\AppData\\Local\\Programs\\Python\\Python39\\lib\\site-packages\\sklearn\\utils\\validation.py:2739: UserWarning: X does not have valid feature names, but LGBMClassifier was fitted with feature names\n",
      "  warnings.warn(\n"
     ]
    },
    {
     "name": "stdout",
     "output_type": "stream",
     "text": [
      "Early stopping, best iteration is:\n",
      "[82]\tvalid_0's auc: 0.953858\tvalid_0's binary_logloss: 0.105681\n",
      "[O(original)] fold 4/10 ...\n",
      "[LightGBM] [Info] Number of positive: 286, number of negative: 12588\n",
      "[LightGBM] [Info] Auto-choosing col-wise multi-threading, the overhead of testing was 0.000352 seconds.\n",
      "You can set `force_col_wise=true` to remove the overhead.\n",
      "[LightGBM] [Info] Total Bins 3034\n",
      "[LightGBM] [Info] Number of data points in the train set: 12874, number of used features: 13\n",
      "[LightGBM] [Info] [binary:BoostFromScore]: pavg=0.500000 -> initscore=-0.000000\n",
      "[LightGBM] [Info] Start training from score -0.000000\n",
      "Training until validation scores don't improve for 50 rounds\n"
     ]
    },
    {
     "name": "stderr",
     "output_type": "stream",
     "text": [
      "c:\\Users\\User\\AppData\\Local\\Programs\\Python\\Python39\\lib\\site-packages\\sklearn\\utils\\validation.py:2739: UserWarning: X does not have valid feature names, but LGBMClassifier was fitted with feature names\n",
      "  warnings.warn(\n"
     ]
    },
    {
     "name": "stdout",
     "output_type": "stream",
     "text": [
      "Early stopping, best iteration is:\n",
      "[70]\tvalid_0's auc: 0.928164\tvalid_0's binary_logloss: 0.121308\n",
      "[O(original)] fold 5/10 ...\n",
      "[LightGBM] [Info] Number of positive: 286, number of negative: 12588\n",
      "[LightGBM] [Info] Auto-choosing col-wise multi-threading, the overhead of testing was 0.000803 seconds.\n",
      "You can set `force_col_wise=true` to remove the overhead.\n",
      "[LightGBM] [Info] Total Bins 3032\n",
      "[LightGBM] [Info] Number of data points in the train set: 12874, number of used features: 13\n",
      "[LightGBM] [Info] [binary:BoostFromScore]: pavg=0.500000 -> initscore=-0.000000\n",
      "[LightGBM] [Info] Start training from score -0.000000\n",
      "Training until validation scores don't improve for 50 rounds\n"
     ]
    },
    {
     "name": "stderr",
     "output_type": "stream",
     "text": [
      "c:\\Users\\User\\AppData\\Local\\Programs\\Python\\Python39\\lib\\site-packages\\sklearn\\utils\\validation.py:2739: UserWarning: X does not have valid feature names, but LGBMClassifier was fitted with feature names\n",
      "  warnings.warn(\n"
     ]
    },
    {
     "name": "stdout",
     "output_type": "stream",
     "text": [
      "Early stopping, best iteration is:\n",
      "[130]\tvalid_0's auc: 0.939224\tvalid_0's binary_logloss: 0.0781649\n",
      "[O(original)] fold 6/10 ...\n",
      "[LightGBM] [Info] Number of positive: 285, number of negative: 12589\n",
      "[LightGBM] [Info] Auto-choosing col-wise multi-threading, the overhead of testing was 0.000351 seconds.\n",
      "You can set `force_col_wise=true` to remove the overhead.\n",
      "[LightGBM] [Info] Total Bins 3026\n",
      "[LightGBM] [Info] Number of data points in the train set: 12874, number of used features: 13\n",
      "[LightGBM] [Info] [binary:BoostFromScore]: pavg=0.500000 -> initscore=-0.000000\n",
      "[LightGBM] [Info] Start training from score -0.000000\n",
      "Training until validation scores don't improve for 50 rounds\n"
     ]
    },
    {
     "name": "stderr",
     "output_type": "stream",
     "text": [
      "c:\\Users\\User\\AppData\\Local\\Programs\\Python\\Python39\\lib\\site-packages\\sklearn\\utils\\validation.py:2739: UserWarning: X does not have valid feature names, but LGBMClassifier was fitted with feature names\n",
      "  warnings.warn(\n"
     ]
    },
    {
     "name": "stdout",
     "output_type": "stream",
     "text": [
      "Early stopping, best iteration is:\n",
      "[12]\tvalid_0's auc: 0.934356\tvalid_0's binary_logloss: 0.404145\n",
      "[O(original)] fold 7/10 ...\n",
      "[LightGBM] [Info] Number of positive: 285, number of negative: 12589\n",
      "[LightGBM] [Info] Auto-choosing col-wise multi-threading, the overhead of testing was 0.000404 seconds.\n",
      "You can set `force_col_wise=true` to remove the overhead.\n",
      "[LightGBM] [Info] Total Bins 3033\n",
      "[LightGBM] [Info] Number of data points in the train set: 12874, number of used features: 13\n",
      "[LightGBM] [Info] [binary:BoostFromScore]: pavg=0.500000 -> initscore=-0.000000\n",
      "[LightGBM] [Info] Start training from score -0.000000\n",
      "Training until validation scores don't improve for 50 rounds\n"
     ]
    },
    {
     "name": "stderr",
     "output_type": "stream",
     "text": [
      "c:\\Users\\User\\AppData\\Local\\Programs\\Python\\Python39\\lib\\site-packages\\sklearn\\utils\\validation.py:2739: UserWarning: X does not have valid feature names, but LGBMClassifier was fitted with feature names\n",
      "  warnings.warn(\n"
     ]
    },
    {
     "name": "stdout",
     "output_type": "stream",
     "text": [
      "Early stopping, best iteration is:\n",
      "[92]\tvalid_0's auc: 0.948507\tvalid_0's binary_logloss: 0.0898579\n",
      "[O(original)] fold 8/10 ...\n",
      "[LightGBM] [Info] Number of positive: 285, number of negative: 12589\n",
      "[LightGBM] [Info] Auto-choosing col-wise multi-threading, the overhead of testing was 0.000360 seconds.\n",
      "You can set `force_col_wise=true` to remove the overhead.\n",
      "[LightGBM] [Info] Total Bins 3029\n",
      "[LightGBM] [Info] Number of data points in the train set: 12874, number of used features: 13\n",
      "[LightGBM] [Info] [binary:BoostFromScore]: pavg=0.500000 -> initscore=-0.000000\n",
      "[LightGBM] [Info] Start training from score -0.000000\n",
      "Training until validation scores don't improve for 50 rounds\n"
     ]
    },
    {
     "name": "stderr",
     "output_type": "stream",
     "text": [
      "c:\\Users\\User\\AppData\\Local\\Programs\\Python\\Python39\\lib\\site-packages\\sklearn\\utils\\validation.py:2739: UserWarning: X does not have valid feature names, but LGBMClassifier was fitted with feature names\n",
      "  warnings.warn(\n"
     ]
    },
    {
     "name": "stdout",
     "output_type": "stream",
     "text": [
      "Early stopping, best iteration is:\n",
      "[39]\tvalid_0's auc: 0.925967\tvalid_0's binary_logloss: 0.198154\n",
      "[O(original)] fold 9/10 ...\n",
      "[LightGBM] [Info] Number of positive: 285, number of negative: 12589\n",
      "[LightGBM] [Info] Auto-choosing col-wise multi-threading, the overhead of testing was 0.000574 seconds.\n",
      "You can set `force_col_wise=true` to remove the overhead.\n",
      "[LightGBM] [Info] Total Bins 3025\n",
      "[LightGBM] [Info] Number of data points in the train set: 12874, number of used features: 13\n",
      "[LightGBM] [Info] [binary:BoostFromScore]: pavg=0.500000 -> initscore=-0.000000\n",
      "[LightGBM] [Info] Start training from score -0.000000\n",
      "Training until validation scores don't improve for 50 rounds\n"
     ]
    },
    {
     "name": "stderr",
     "output_type": "stream",
     "text": [
      "c:\\Users\\User\\AppData\\Local\\Programs\\Python\\Python39\\lib\\site-packages\\sklearn\\utils\\validation.py:2739: UserWarning: X does not have valid feature names, but LGBMClassifier was fitted with feature names\n",
      "  warnings.warn(\n"
     ]
    },
    {
     "name": "stdout",
     "output_type": "stream",
     "text": [
      "Early stopping, best iteration is:\n",
      "[148]\tvalid_0's auc: 0.924012\tvalid_0's binary_logloss: 0.080701\n",
      "[O(original)] fold 10/10 ...\n",
      "[LightGBM] [Info] Number of positive: 285, number of negative: 12589\n",
      "[LightGBM] [Info] Auto-choosing col-wise multi-threading, the overhead of testing was 0.000344 seconds.\n",
      "You can set `force_col_wise=true` to remove the overhead.\n",
      "[LightGBM] [Info] Total Bins 3033\n",
      "[LightGBM] [Info] Number of data points in the train set: 12874, number of used features: 13\n",
      "[LightGBM] [Info] [binary:BoostFromScore]: pavg=0.500000 -> initscore=-0.000000\n",
      "[LightGBM] [Info] Start training from score -0.000000\n",
      "Training until validation scores don't improve for 50 rounds\n"
     ]
    },
    {
     "name": "stderr",
     "output_type": "stream",
     "text": [
      "c:\\Users\\User\\AppData\\Local\\Programs\\Python\\Python39\\lib\\site-packages\\sklearn\\utils\\validation.py:2739: UserWarning: X does not have valid feature names, but LGBMClassifier was fitted with feature names\n",
      "  warnings.warn(\n"
     ]
    },
    {
     "name": "stdout",
     "output_type": "stream",
     "text": [
      "Early stopping, best iteration is:\n",
      "[64]\tvalid_0's auc: 0.927801\tvalid_0's binary_logloss: 0.132482\n",
      "[F(m)] fold 1/10 ...\n",
      "[LightGBM] [Info] Number of positive: 285, number of negative: 12588\n",
      "[LightGBM] [Info] Auto-choosing col-wise multi-threading, the overhead of testing was 0.000584 seconds.\n",
      "You can set `force_col_wise=true` to remove the overhead.\n",
      "[LightGBM] [Info] Total Bins 3825\n",
      "[LightGBM] [Info] Number of data points in the train set: 12873, number of used features: 15\n",
      "[LightGBM] [Info] [binary:BoostFromScore]: pavg=0.500000 -> initscore=0.000000\n",
      "[LightGBM] [Info] Start training from score 0.000000\n",
      "Training until validation scores don't improve for 50 rounds\n"
     ]
    },
    {
     "name": "stderr",
     "output_type": "stream",
     "text": [
      "c:\\Users\\User\\AppData\\Local\\Programs\\Python\\Python39\\lib\\site-packages\\sklearn\\utils\\validation.py:2739: UserWarning: X does not have valid feature names, but LGBMClassifier was fitted with feature names\n",
      "  warnings.warn(\n"
     ]
    },
    {
     "name": "stdout",
     "output_type": "stream",
     "text": [
      "Early stopping, best iteration is:\n",
      "[79]\tvalid_0's auc: 0.920571\tvalid_0's binary_logloss: 0.136314\n",
      "[F(m)] fold 2/10 ...\n",
      "[LightGBM] [Info] Number of positive: 286, number of negative: 12588\n",
      "[LightGBM] [Info] Auto-choosing col-wise multi-threading, the overhead of testing was 0.000645 seconds.\n",
      "You can set `force_col_wise=true` to remove the overhead.\n",
      "[LightGBM] [Info] Total Bins 3825\n",
      "[LightGBM] [Info] Number of data points in the train set: 12874, number of used features: 15\n",
      "[LightGBM] [Info] [binary:BoostFromScore]: pavg=0.500000 -> initscore=-0.000000\n",
      "[LightGBM] [Info] Start training from score -0.000000\n",
      "Training until validation scores don't improve for 50 rounds\n"
     ]
    },
    {
     "name": "stderr",
     "output_type": "stream",
     "text": [
      "c:\\Users\\User\\AppData\\Local\\Programs\\Python\\Python39\\lib\\site-packages\\sklearn\\utils\\validation.py:2739: UserWarning: X does not have valid feature names, but LGBMClassifier was fitted with feature names\n",
      "  warnings.warn(\n"
     ]
    },
    {
     "name": "stdout",
     "output_type": "stream",
     "text": [
      "Early stopping, best iteration is:\n",
      "[39]\tvalid_0's auc: 0.875564\tvalid_0's binary_logloss: 0.22842\n",
      "[F(m)] fold 3/10 ...\n",
      "[LightGBM] [Info] Number of positive: 286, number of negative: 12588\n",
      "[LightGBM] [Info] Auto-choosing col-wise multi-threading, the overhead of testing was 0.000423 seconds.\n",
      "You can set `force_col_wise=true` to remove the overhead.\n",
      "[LightGBM] [Info] Total Bins 3825\n",
      "[LightGBM] [Info] Number of data points in the train set: 12874, number of used features: 15\n",
      "[LightGBM] [Info] [binary:BoostFromScore]: pavg=0.500000 -> initscore=-0.000000\n",
      "[LightGBM] [Info] Start training from score -0.000000\n",
      "Training until validation scores don't improve for 50 rounds\n"
     ]
    },
    {
     "name": "stderr",
     "output_type": "stream",
     "text": [
      "c:\\Users\\User\\AppData\\Local\\Programs\\Python\\Python39\\lib\\site-packages\\sklearn\\utils\\validation.py:2739: UserWarning: X does not have valid feature names, but LGBMClassifier was fitted with feature names\n",
      "  warnings.warn(\n"
     ]
    },
    {
     "name": "stdout",
     "output_type": "stream",
     "text": [
      "Early stopping, best iteration is:\n",
      "[54]\tvalid_0's auc: 0.931184\tvalid_0's binary_logloss: 0.183513\n",
      "[F(m)] fold 4/10 ...\n",
      "[LightGBM] [Info] Number of positive: 286, number of negative: 12588\n",
      "[LightGBM] [Info] Auto-choosing col-wise multi-threading, the overhead of testing was 0.000413 seconds.\n",
      "You can set `force_col_wise=true` to remove the overhead.\n",
      "[LightGBM] [Info] Total Bins 3825\n",
      "[LightGBM] [Info] Number of data points in the train set: 12874, number of used features: 15\n",
      "[LightGBM] [Info] [binary:BoostFromScore]: pavg=0.500000 -> initscore=-0.000000\n",
      "[LightGBM] [Info] Start training from score -0.000000\n",
      "Training until validation scores don't improve for 50 rounds\n"
     ]
    },
    {
     "name": "stderr",
     "output_type": "stream",
     "text": [
      "c:\\Users\\User\\AppData\\Local\\Programs\\Python\\Python39\\lib\\site-packages\\sklearn\\utils\\validation.py:2739: UserWarning: X does not have valid feature names, but LGBMClassifier was fitted with feature names\n",
      "  warnings.warn(\n"
     ]
    },
    {
     "name": "stdout",
     "output_type": "stream",
     "text": [
      "Early stopping, best iteration is:\n",
      "[48]\tvalid_0's auc: 0.891662\tvalid_0's binary_logloss: 0.201541\n",
      "[F(m)] fold 5/10 ...\n",
      "[LightGBM] [Info] Number of positive: 286, number of negative: 12588\n",
      "[LightGBM] [Info] Auto-choosing col-wise multi-threading, the overhead of testing was 0.000433 seconds.\n",
      "You can set `force_col_wise=true` to remove the overhead.\n",
      "[LightGBM] [Info] Total Bins 3825\n",
      "[LightGBM] [Info] Number of data points in the train set: 12874, number of used features: 15\n",
      "[LightGBM] [Info] [binary:BoostFromScore]: pavg=0.500000 -> initscore=-0.000000\n",
      "[LightGBM] [Info] Start training from score -0.000000\n",
      "Training until validation scores don't improve for 50 rounds\n"
     ]
    },
    {
     "name": "stderr",
     "output_type": "stream",
     "text": [
      "c:\\Users\\User\\AppData\\Local\\Programs\\Python\\Python39\\lib\\site-packages\\sklearn\\utils\\validation.py:2739: UserWarning: X does not have valid feature names, but LGBMClassifier was fitted with feature names\n",
      "  warnings.warn(\n"
     ]
    },
    {
     "name": "stdout",
     "output_type": "stream",
     "text": [
      "Early stopping, best iteration is:\n",
      "[165]\tvalid_0's auc: 0.91624\tvalid_0's binary_logloss: 0.095829\n",
      "[F(m)] fold 6/10 ...\n",
      "[LightGBM] [Info] Number of positive: 285, number of negative: 12589\n",
      "[LightGBM] [Info] Auto-choosing col-wise multi-threading, the overhead of testing was 0.000398 seconds.\n",
      "You can set `force_col_wise=true` to remove the overhead.\n",
      "[LightGBM] [Info] Total Bins 3825\n",
      "[LightGBM] [Info] Number of data points in the train set: 12874, number of used features: 15\n",
      "[LightGBM] [Info] [binary:BoostFromScore]: pavg=0.500000 -> initscore=-0.000000\n",
      "[LightGBM] [Info] Start training from score -0.000000\n",
      "Training until validation scores don't improve for 50 rounds\n"
     ]
    },
    {
     "name": "stderr",
     "output_type": "stream",
     "text": [
      "c:\\Users\\User\\AppData\\Local\\Programs\\Python\\Python39\\lib\\site-packages\\sklearn\\utils\\validation.py:2739: UserWarning: X does not have valid feature names, but LGBMClassifier was fitted with feature names\n",
      "  warnings.warn(\n"
     ]
    },
    {
     "name": "stdout",
     "output_type": "stream",
     "text": [
      "Early stopping, best iteration is:\n",
      "[67]\tvalid_0's auc: 0.911645\tvalid_0's binary_logloss: 0.146612\n",
      "[F(m)] fold 7/10 ...\n",
      "[LightGBM] [Info] Number of positive: 285, number of negative: 12589\n",
      "[LightGBM] [Info] Auto-choosing col-wise multi-threading, the overhead of testing was 0.000410 seconds.\n",
      "You can set `force_col_wise=true` to remove the overhead.\n",
      "[LightGBM] [Info] Total Bins 3825\n",
      "[LightGBM] [Info] Number of data points in the train set: 12874, number of used features: 15\n",
      "[LightGBM] [Info] [binary:BoostFromScore]: pavg=0.500000 -> initscore=-0.000000\n",
      "[LightGBM] [Info] Start training from score -0.000000\n",
      "Training until validation scores don't improve for 50 rounds\n"
     ]
    },
    {
     "name": "stderr",
     "output_type": "stream",
     "text": [
      "c:\\Users\\User\\AppData\\Local\\Programs\\Python\\Python39\\lib\\site-packages\\sklearn\\utils\\validation.py:2739: UserWarning: X does not have valid feature names, but LGBMClassifier was fitted with feature names\n",
      "  warnings.warn(\n"
     ]
    },
    {
     "name": "stdout",
     "output_type": "stream",
     "text": [
      "Early stopping, best iteration is:\n",
      "[53]\tvalid_0's auc: 0.903279\tvalid_0's binary_logloss: 0.173769\n",
      "[F(m)] fold 8/10 ...\n",
      "[LightGBM] [Info] Number of positive: 285, number of negative: 12589\n",
      "[LightGBM] [Info] Auto-choosing col-wise multi-threading, the overhead of testing was 0.000595 seconds.\n",
      "You can set `force_col_wise=true` to remove the overhead.\n",
      "[LightGBM] [Info] Total Bins 3825\n",
      "[LightGBM] [Info] Number of data points in the train set: 12874, number of used features: 15\n",
      "[LightGBM] [Info] [binary:BoostFromScore]: pavg=0.500000 -> initscore=-0.000000\n",
      "[LightGBM] [Info] Start training from score -0.000000\n",
      "Training until validation scores don't improve for 50 rounds\n"
     ]
    },
    {
     "name": "stderr",
     "output_type": "stream",
     "text": [
      "c:\\Users\\User\\AppData\\Local\\Programs\\Python\\Python39\\lib\\site-packages\\sklearn\\utils\\validation.py:2739: UserWarning: X does not have valid feature names, but LGBMClassifier was fitted with feature names\n",
      "  warnings.warn(\n"
     ]
    },
    {
     "name": "stdout",
     "output_type": "stream",
     "text": [
      "Early stopping, best iteration is:\n",
      "[38]\tvalid_0's auc: 0.910786\tvalid_0's binary_logloss: 0.233107\n",
      "[F(m)] fold 9/10 ...\n",
      "[LightGBM] [Info] Number of positive: 285, number of negative: 12589\n",
      "[LightGBM] [Info] Auto-choosing col-wise multi-threading, the overhead of testing was 0.000974 seconds.\n",
      "You can set `force_col_wise=true` to remove the overhead.\n",
      "[LightGBM] [Info] Total Bins 3825\n",
      "[LightGBM] [Info] Number of data points in the train set: 12874, number of used features: 15\n",
      "[LightGBM] [Info] [binary:BoostFromScore]: pavg=0.500000 -> initscore=-0.000000\n",
      "[LightGBM] [Info] Start training from score -0.000000\n",
      "Training until validation scores don't improve for 50 rounds\n"
     ]
    },
    {
     "name": "stderr",
     "output_type": "stream",
     "text": [
      "c:\\Users\\User\\AppData\\Local\\Programs\\Python\\Python39\\lib\\site-packages\\sklearn\\utils\\validation.py:2739: UserWarning: X does not have valid feature names, but LGBMClassifier was fitted with feature names\n",
      "  warnings.warn(\n"
     ]
    },
    {
     "name": "stdout",
     "output_type": "stream",
     "text": [
      "Early stopping, best iteration is:\n",
      "[74]\tvalid_0's auc: 0.900612\tvalid_0's binary_logloss: 0.139681\n",
      "[F(m)] fold 10/10 ...\n",
      "[LightGBM] [Info] Number of positive: 285, number of negative: 12589\n",
      "[LightGBM] [Info] Auto-choosing col-wise multi-threading, the overhead of testing was 0.000408 seconds.\n",
      "You can set `force_col_wise=true` to remove the overhead.\n",
      "[LightGBM] [Info] Total Bins 3825\n",
      "[LightGBM] [Info] Number of data points in the train set: 12874, number of used features: 15\n",
      "[LightGBM] [Info] [binary:BoostFromScore]: pavg=0.500000 -> initscore=-0.000000\n",
      "[LightGBM] [Info] Start training from score -0.000000\n",
      "Training until validation scores don't improve for 50 rounds\n"
     ]
    },
    {
     "name": "stderr",
     "output_type": "stream",
     "text": [
      "c:\\Users\\User\\AppData\\Local\\Programs\\Python\\Python39\\lib\\site-packages\\sklearn\\utils\\validation.py:2739: UserWarning: X does not have valid feature names, but LGBMClassifier was fitted with feature names\n",
      "  warnings.warn(\n"
     ]
    },
    {
     "name": "stdout",
     "output_type": "stream",
     "text": [
      "Early stopping, best iteration is:\n",
      "[39]\tvalid_0's auc: 0.885655\tvalid_0's binary_logloss: 0.232626\n",
      "[OF(m)] fold 1/10 ...\n",
      "[LightGBM] [Info] Number of positive: 285, number of negative: 12588\n",
      "[LightGBM] [Info] Auto-choosing col-wise multi-threading, the overhead of testing was 0.000932 seconds.\n",
      "You can set `force_col_wise=true` to remove the overhead.\n",
      "[LightGBM] [Info] Total Bins 6855\n",
      "[LightGBM] [Info] Number of data points in the train set: 12873, number of used features: 28\n",
      "[LightGBM] [Info] [binary:BoostFromScore]: pavg=0.500000 -> initscore=0.000000\n",
      "[LightGBM] [Info] Start training from score 0.000000\n",
      "Training until validation scores don't improve for 50 rounds\n"
     ]
    },
    {
     "name": "stderr",
     "output_type": "stream",
     "text": [
      "c:\\Users\\User\\AppData\\Local\\Programs\\Python\\Python39\\lib\\site-packages\\sklearn\\utils\\validation.py:2739: UserWarning: X does not have valid feature names, but LGBMClassifier was fitted with feature names\n",
      "  warnings.warn(\n"
     ]
    },
    {
     "name": "stdout",
     "output_type": "stream",
     "text": [
      "Early stopping, best iteration is:\n",
      "[43]\tvalid_0's auc: 0.927864\tvalid_0's binary_logloss: 0.163051\n",
      "[OF(m)] fold 2/10 ...\n",
      "[LightGBM] [Info] Number of positive: 286, number of negative: 12588\n",
      "[LightGBM] [Info] Auto-choosing col-wise multi-threading, the overhead of testing was 0.001358 seconds.\n",
      "You can set `force_col_wise=true` to remove the overhead.\n",
      "[LightGBM] [Info] Total Bins 6851\n",
      "[LightGBM] [Info] Number of data points in the train set: 12874, number of used features: 28\n",
      "[LightGBM] [Info] [binary:BoostFromScore]: pavg=0.500000 -> initscore=-0.000000\n",
      "[LightGBM] [Info] Start training from score -0.000000\n",
      "Training until validation scores don't improve for 50 rounds\n"
     ]
    },
    {
     "name": "stderr",
     "output_type": "stream",
     "text": [
      "c:\\Users\\User\\AppData\\Local\\Programs\\Python\\Python39\\lib\\site-packages\\sklearn\\utils\\validation.py:2739: UserWarning: X does not have valid feature names, but LGBMClassifier was fitted with feature names\n",
      "  warnings.warn(\n"
     ]
    },
    {
     "name": "stdout",
     "output_type": "stream",
     "text": [
      "Early stopping, best iteration is:\n",
      "[63]\tvalid_0's auc: 0.896751\tvalid_0's binary_logloss: 0.129429\n",
      "[OF(m)] fold 3/10 ...\n",
      "[LightGBM] [Info] Number of positive: 286, number of negative: 12588\n",
      "[LightGBM] [Info] Auto-choosing col-wise multi-threading, the overhead of testing was 0.000965 seconds.\n",
      "You can set `force_col_wise=true` to remove the overhead.\n",
      "[LightGBM] [Info] Total Bins 6850\n",
      "[LightGBM] [Info] Number of data points in the train set: 12874, number of used features: 28\n",
      "[LightGBM] [Info] [binary:BoostFromScore]: pavg=0.500000 -> initscore=-0.000000\n",
      "[LightGBM] [Info] Start training from score -0.000000\n",
      "Training until validation scores don't improve for 50 rounds\n"
     ]
    },
    {
     "name": "stderr",
     "output_type": "stream",
     "text": [
      "c:\\Users\\User\\AppData\\Local\\Programs\\Python\\Python39\\lib\\site-packages\\sklearn\\utils\\validation.py:2739: UserWarning: X does not have valid feature names, but LGBMClassifier was fitted with feature names\n",
      "  warnings.warn(\n"
     ]
    },
    {
     "name": "stdout",
     "output_type": "stream",
     "text": [
      "Early stopping, best iteration is:\n",
      "[9]\tvalid_0's auc: 0.953615\tvalid_0's binary_logloss: 0.453497\n",
      "[OF(m)] fold 4/10 ...\n",
      "[LightGBM] [Info] Number of positive: 286, number of negative: 12588\n",
      "[LightGBM] [Info] Auto-choosing col-wise multi-threading, the overhead of testing was 0.001074 seconds.\n",
      "You can set `force_col_wise=true` to remove the overhead.\n",
      "[LightGBM] [Info] Total Bins 6859\n",
      "[LightGBM] [Info] Number of data points in the train set: 12874, number of used features: 28\n",
      "[LightGBM] [Info] [binary:BoostFromScore]: pavg=0.500000 -> initscore=-0.000000\n",
      "[LightGBM] [Info] Start training from score -0.000000\n",
      "Training until validation scores don't improve for 50 rounds\n"
     ]
    },
    {
     "name": "stderr",
     "output_type": "stream",
     "text": [
      "c:\\Users\\User\\AppData\\Local\\Programs\\Python\\Python39\\lib\\site-packages\\sklearn\\utils\\validation.py:2739: UserWarning: X does not have valid feature names, but LGBMClassifier was fitted with feature names\n",
      "  warnings.warn(\n"
     ]
    },
    {
     "name": "stdout",
     "output_type": "stream",
     "text": [
      "Early stopping, best iteration is:\n",
      "[44]\tvalid_0's auc: 0.929649\tvalid_0's binary_logloss: 0.163828\n",
      "[OF(m)] fold 5/10 ...\n",
      "[LightGBM] [Info] Number of positive: 286, number of negative: 12588\n",
      "[LightGBM] [Info] Auto-choosing col-wise multi-threading, the overhead of testing was 0.000982 seconds.\n",
      "You can set `force_col_wise=true` to remove the overhead.\n",
      "[LightGBM] [Info] Total Bins 6857\n",
      "[LightGBM] [Info] Number of data points in the train set: 12874, number of used features: 28\n",
      "[LightGBM] [Info] [binary:BoostFromScore]: pavg=0.500000 -> initscore=-0.000000\n",
      "[LightGBM] [Info] Start training from score -0.000000\n",
      "Training until validation scores don't improve for 50 rounds\n"
     ]
    },
    {
     "name": "stderr",
     "output_type": "stream",
     "text": [
      "c:\\Users\\User\\AppData\\Local\\Programs\\Python\\Python39\\lib\\site-packages\\sklearn\\utils\\validation.py:2739: UserWarning: X does not have valid feature names, but LGBMClassifier was fitted with feature names\n",
      "  warnings.warn(\n"
     ]
    },
    {
     "name": "stdout",
     "output_type": "stream",
     "text": [
      "Early stopping, best iteration is:\n",
      "[102]\tvalid_0's auc: 0.935327\tvalid_0's binary_logloss: 0.0837851\n",
      "[OF(m)] fold 6/10 ...\n",
      "[LightGBM] [Info] Number of positive: 285, number of negative: 12589\n",
      "[LightGBM] [Info] Auto-choosing col-wise multi-threading, the overhead of testing was 0.001109 seconds.\n",
      "You can set `force_col_wise=true` to remove the overhead.\n",
      "[LightGBM] [Info] Total Bins 6851\n",
      "[LightGBM] [Info] Number of data points in the train set: 12874, number of used features: 28\n",
      "[LightGBM] [Info] [binary:BoostFromScore]: pavg=0.500000 -> initscore=-0.000000\n",
      "[LightGBM] [Info] Start training from score -0.000000\n",
      "Training until validation scores don't improve for 50 rounds\n"
     ]
    },
    {
     "name": "stderr",
     "output_type": "stream",
     "text": [
      "c:\\Users\\User\\AppData\\Local\\Programs\\Python\\Python39\\lib\\site-packages\\sklearn\\utils\\validation.py:2739: UserWarning: X does not have valid feature names, but LGBMClassifier was fitted with feature names\n",
      "  warnings.warn(\n"
     ]
    },
    {
     "name": "stdout",
     "output_type": "stream",
     "text": [
      "Early stopping, best iteration is:\n",
      "[139]\tvalid_0's auc: 0.939318\tvalid_0's binary_logloss: 0.0672308\n",
      "[OF(m)] fold 7/10 ...\n",
      "[LightGBM] [Info] Number of positive: 285, number of negative: 12589\n",
      "[LightGBM] [Info] Auto-choosing col-wise multi-threading, the overhead of testing was 0.001362 seconds.\n",
      "You can set `force_col_wise=true` to remove the overhead.\n",
      "[LightGBM] [Info] Total Bins 6858\n",
      "[LightGBM] [Info] Number of data points in the train set: 12874, number of used features: 28\n",
      "[LightGBM] [Info] [binary:BoostFromScore]: pavg=0.500000 -> initscore=-0.000000\n",
      "[LightGBM] [Info] Start training from score -0.000000\n",
      "Training until validation scores don't improve for 50 rounds\n"
     ]
    },
    {
     "name": "stderr",
     "output_type": "stream",
     "text": [
      "c:\\Users\\User\\AppData\\Local\\Programs\\Python\\Python39\\lib\\site-packages\\sklearn\\utils\\validation.py:2739: UserWarning: X does not have valid feature names, but LGBMClassifier was fitted with feature names\n",
      "  warnings.warn(\n"
     ]
    },
    {
     "name": "stdout",
     "output_type": "stream",
     "text": [
      "Early stopping, best iteration is:\n",
      "[87]\tvalid_0's auc: 0.952051\tvalid_0's binary_logloss: 0.0838202\n",
      "[OF(m)] fold 8/10 ...\n",
      "[LightGBM] [Info] Number of positive: 285, number of negative: 12589\n",
      "[LightGBM] [Info] Auto-choosing col-wise multi-threading, the overhead of testing was 0.001082 seconds.\n",
      "You can set `force_col_wise=true` to remove the overhead.\n",
      "[LightGBM] [Info] Total Bins 6854\n",
      "[LightGBM] [Info] Number of data points in the train set: 12874, number of used features: 28\n",
      "[LightGBM] [Info] [binary:BoostFromScore]: pavg=0.500000 -> initscore=-0.000000\n",
      "[LightGBM] [Info] Start training from score -0.000000\n",
      "Training until validation scores don't improve for 50 rounds\n"
     ]
    },
    {
     "name": "stderr",
     "output_type": "stream",
     "text": [
      "c:\\Users\\User\\AppData\\Local\\Programs\\Python\\Python39\\lib\\site-packages\\sklearn\\utils\\validation.py:2739: UserWarning: X does not have valid feature names, but LGBMClassifier was fitted with feature names\n",
      "  warnings.warn(\n"
     ]
    },
    {
     "name": "stdout",
     "output_type": "stream",
     "text": [
      "Early stopping, best iteration is:\n",
      "[12]\tvalid_0's auc: 0.922616\tvalid_0's binary_logloss: 0.401578\n",
      "[OF(m)] fold 9/10 ...\n",
      "[LightGBM] [Info] Number of positive: 285, number of negative: 12589\n",
      "[LightGBM] [Info] Auto-choosing col-wise multi-threading, the overhead of testing was 0.001267 seconds.\n",
      "You can set `force_col_wise=true` to remove the overhead.\n",
      "[LightGBM] [Info] Total Bins 6850\n",
      "[LightGBM] [Info] Number of data points in the train set: 12874, number of used features: 28\n",
      "[LightGBM] [Info] [binary:BoostFromScore]: pavg=0.500000 -> initscore=-0.000000\n",
      "[LightGBM] [Info] Start training from score -0.000000\n",
      "Training until validation scores don't improve for 50 rounds\n"
     ]
    },
    {
     "name": "stderr",
     "output_type": "stream",
     "text": [
      "c:\\Users\\User\\AppData\\Local\\Programs\\Python\\Python39\\lib\\site-packages\\sklearn\\utils\\validation.py:2739: UserWarning: X does not have valid feature names, but LGBMClassifier was fitted with feature names\n",
      "  warnings.warn(\n"
     ]
    },
    {
     "name": "stdout",
     "output_type": "stream",
     "text": [
      "Early stopping, best iteration is:\n",
      "[176]\tvalid_0's auc: 0.928965\tvalid_0's binary_logloss: 0.0731318\n",
      "[OF(m)] fold 10/10 ...\n",
      "[LightGBM] [Info] Number of positive: 285, number of negative: 12589\n",
      "[LightGBM] [Info] Auto-choosing col-wise multi-threading, the overhead of testing was 0.000971 seconds.\n",
      "You can set `force_col_wise=true` to remove the overhead.\n",
      "[LightGBM] [Info] Total Bins 6858\n",
      "[LightGBM] [Info] Number of data points in the train set: 12874, number of used features: 28\n",
      "[LightGBM] [Info] [binary:BoostFromScore]: pavg=0.500000 -> initscore=-0.000000\n",
      "[LightGBM] [Info] Start training from score -0.000000\n",
      "Training until validation scores don't improve for 50 rounds\n"
     ]
    },
    {
     "name": "stderr",
     "output_type": "stream",
     "text": [
      "c:\\Users\\User\\AppData\\Local\\Programs\\Python\\Python39\\lib\\site-packages\\sklearn\\utils\\validation.py:2739: UserWarning: X does not have valid feature names, but LGBMClassifier was fitted with feature names\n",
      "  warnings.warn(\n"
     ]
    },
    {
     "name": "stdout",
     "output_type": "stream",
     "text": [
      "Early stopping, best iteration is:\n",
      "[82]\tvalid_0's auc: 0.926889\tvalid_0's binary_logloss: 0.101962\n",
      "[F(mw)] fold 1/10 ...\n",
      "[LightGBM] [Info] Number of positive: 285, number of negative: 12588\n",
      "[LightGBM] [Info] Auto-choosing col-wise multi-threading, the overhead of testing was 0.000418 seconds.\n",
      "You can set `force_col_wise=true` to remove the overhead.\n",
      "[LightGBM] [Info] Total Bins 3825\n",
      "[LightGBM] [Info] Number of data points in the train set: 12873, number of used features: 15\n",
      "[LightGBM] [Info] [binary:BoostFromScore]: pavg=0.500000 -> initscore=0.000000\n",
      "[LightGBM] [Info] Start training from score 0.000000\n",
      "Training until validation scores don't improve for 50 rounds\n"
     ]
    },
    {
     "name": "stderr",
     "output_type": "stream",
     "text": [
      "c:\\Users\\User\\AppData\\Local\\Programs\\Python\\Python39\\lib\\site-packages\\sklearn\\utils\\validation.py:2739: UserWarning: X does not have valid feature names, but LGBMClassifier was fitted with feature names\n",
      "  warnings.warn(\n"
     ]
    },
    {
     "name": "stdout",
     "output_type": "stream",
     "text": [
      "Early stopping, best iteration is:\n",
      "[66]\tvalid_0's auc: 0.922504\tvalid_0's binary_logloss: 0.154215\n",
      "[F(mw)] fold 2/10 ...\n",
      "[LightGBM] [Info] Number of positive: 286, number of negative: 12588\n",
      "[LightGBM] [Info] Auto-choosing col-wise multi-threading, the overhead of testing was 0.000430 seconds.\n",
      "You can set `force_col_wise=true` to remove the overhead.\n",
      "[LightGBM] [Info] Total Bins 3825\n",
      "[LightGBM] [Info] Number of data points in the train set: 12874, number of used features: 15\n",
      "[LightGBM] [Info] [binary:BoostFromScore]: pavg=0.500000 -> initscore=-0.000000\n",
      "[LightGBM] [Info] Start training from score -0.000000\n",
      "Training until validation scores don't improve for 50 rounds\n"
     ]
    },
    {
     "name": "stderr",
     "output_type": "stream",
     "text": [
      "c:\\Users\\User\\AppData\\Local\\Programs\\Python\\Python39\\lib\\site-packages\\sklearn\\utils\\validation.py:2739: UserWarning: X does not have valid feature names, but LGBMClassifier was fitted with feature names\n",
      "  warnings.warn(\n"
     ]
    },
    {
     "name": "stdout",
     "output_type": "stream",
     "text": [
      "Early stopping, best iteration is:\n",
      "[53]\tvalid_0's auc: 0.880282\tvalid_0's binary_logloss: 0.184966\n",
      "[F(mw)] fold 3/10 ...\n",
      "[LightGBM] [Info] Number of positive: 286, number of negative: 12588\n",
      "[LightGBM] [Info] Auto-choosing col-wise multi-threading, the overhead of testing was 0.000433 seconds.\n",
      "You can set `force_col_wise=true` to remove the overhead.\n",
      "[LightGBM] [Info] Total Bins 3825\n",
      "[LightGBM] [Info] Number of data points in the train set: 12874, number of used features: 15\n",
      "[LightGBM] [Info] [binary:BoostFromScore]: pavg=0.500000 -> initscore=-0.000000\n",
      "[LightGBM] [Info] Start training from score -0.000000\n",
      "Training until validation scores don't improve for 50 rounds\n"
     ]
    },
    {
     "name": "stderr",
     "output_type": "stream",
     "text": [
      "c:\\Users\\User\\AppData\\Local\\Programs\\Python\\Python39\\lib\\site-packages\\sklearn\\utils\\validation.py:2739: UserWarning: X does not have valid feature names, but LGBMClassifier was fitted with feature names\n",
      "  warnings.warn(\n"
     ]
    },
    {
     "name": "stdout",
     "output_type": "stream",
     "text": [
      "Early stopping, best iteration is:\n",
      "[33]\tvalid_0's auc: 0.92343\tvalid_0's binary_logloss: 0.256696\n",
      "[F(mw)] fold 4/10 ...\n",
      "[LightGBM] [Info] Number of positive: 286, number of negative: 12588\n",
      "[LightGBM] [Info] Auto-choosing col-wise multi-threading, the overhead of testing was 0.000462 seconds.\n",
      "You can set `force_col_wise=true` to remove the overhead.\n",
      "[LightGBM] [Info] Total Bins 3825\n",
      "[LightGBM] [Info] Number of data points in the train set: 12874, number of used features: 15\n",
      "[LightGBM] [Info] [binary:BoostFromScore]: pavg=0.500000 -> initscore=-0.000000\n",
      "[LightGBM] [Info] Start training from score -0.000000\n",
      "Training until validation scores don't improve for 50 rounds\n"
     ]
    },
    {
     "name": "stderr",
     "output_type": "stream",
     "text": [
      "c:\\Users\\User\\AppData\\Local\\Programs\\Python\\Python39\\lib\\site-packages\\sklearn\\utils\\validation.py:2739: UserWarning: X does not have valid feature names, but LGBMClassifier was fitted with feature names\n",
      "  warnings.warn(\n"
     ]
    },
    {
     "name": "stdout",
     "output_type": "stream",
     "text": [
      "Early stopping, best iteration is:\n",
      "[33]\tvalid_0's auc: 0.885563\tvalid_0's binary_logloss: 0.256452\n",
      "[F(mw)] fold 5/10 ...\n",
      "[LightGBM] [Info] Number of positive: 286, number of negative: 12588\n",
      "[LightGBM] [Info] Auto-choosing col-wise multi-threading, the overhead of testing was 0.000821 seconds.\n",
      "You can set `force_col_wise=true` to remove the overhead.\n",
      "[LightGBM] [Info] Total Bins 3825\n",
      "[LightGBM] [Info] Number of data points in the train set: 12874, number of used features: 15\n",
      "[LightGBM] [Info] [binary:BoostFromScore]: pavg=0.500000 -> initscore=-0.000000\n",
      "[LightGBM] [Info] Start training from score -0.000000\n",
      "Training until validation scores don't improve for 50 rounds\n"
     ]
    },
    {
     "name": "stderr",
     "output_type": "stream",
     "text": [
      "c:\\Users\\User\\AppData\\Local\\Programs\\Python\\Python39\\lib\\site-packages\\sklearn\\utils\\validation.py:2739: UserWarning: X does not have valid feature names, but LGBMClassifier was fitted with feature names\n",
      "  warnings.warn(\n"
     ]
    },
    {
     "name": "stdout",
     "output_type": "stream",
     "text": [
      "Early stopping, best iteration is:\n",
      "[111]\tvalid_0's auc: 0.911225\tvalid_0's binary_logloss: 0.111811\n",
      "[F(mw)] fold 6/10 ...\n",
      "[LightGBM] [Info] Number of positive: 285, number of negative: 12589\n",
      "[LightGBM] [Info] Auto-choosing col-wise multi-threading, the overhead of testing was 0.000413 seconds.\n",
      "You can set `force_col_wise=true` to remove the overhead.\n",
      "[LightGBM] [Info] Total Bins 3825\n",
      "[LightGBM] [Info] Number of data points in the train set: 12874, number of used features: 15\n",
      "[LightGBM] [Info] [binary:BoostFromScore]: pavg=0.500000 -> initscore=-0.000000\n",
      "[LightGBM] [Info] Start training from score -0.000000\n",
      "Training until validation scores don't improve for 50 rounds\n"
     ]
    },
    {
     "name": "stderr",
     "output_type": "stream",
     "text": [
      "c:\\Users\\User\\AppData\\Local\\Programs\\Python\\Python39\\lib\\site-packages\\sklearn\\utils\\validation.py:2739: UserWarning: X does not have valid feature names, but LGBMClassifier was fitted with feature names\n",
      "  warnings.warn(\n"
     ]
    },
    {
     "name": "stdout",
     "output_type": "stream",
     "text": [
      "Early stopping, best iteration is:\n",
      "[61]\tvalid_0's auc: 0.912589\tvalid_0's binary_logloss: 0.160361\n",
      "[F(mw)] fold 7/10 ...\n",
      "[LightGBM] [Info] Number of positive: 285, number of negative: 12589\n",
      "[LightGBM] [Info] Auto-choosing col-wise multi-threading, the overhead of testing was 0.000699 seconds.\n",
      "You can set `force_col_wise=true` to remove the overhead.\n",
      "[LightGBM] [Info] Total Bins 3825\n",
      "[LightGBM] [Info] Number of data points in the train set: 12874, number of used features: 15\n",
      "[LightGBM] [Info] [binary:BoostFromScore]: pavg=0.500000 -> initscore=-0.000000\n",
      "[LightGBM] [Info] Start training from score -0.000000\n",
      "Training until validation scores don't improve for 50 rounds\n"
     ]
    },
    {
     "name": "stderr",
     "output_type": "stream",
     "text": [
      "c:\\Users\\User\\AppData\\Local\\Programs\\Python\\Python39\\lib\\site-packages\\sklearn\\utils\\validation.py:2739: UserWarning: X does not have valid feature names, but LGBMClassifier was fitted with feature names\n",
      "  warnings.warn(\n"
     ]
    },
    {
     "name": "stdout",
     "output_type": "stream",
     "text": [
      "Early stopping, best iteration is:\n",
      "[200]\tvalid_0's auc: 0.905914\tvalid_0's binary_logloss: 0.0869963\n",
      "[F(mw)] fold 8/10 ...\n",
      "[LightGBM] [Info] Number of positive: 285, number of negative: 12589\n",
      "[LightGBM] [Info] Auto-choosing col-wise multi-threading, the overhead of testing was 0.000730 seconds.\n",
      "You can set `force_col_wise=true` to remove the overhead.\n",
      "[LightGBM] [Info] Total Bins 3825\n",
      "[LightGBM] [Info] Number of data points in the train set: 12874, number of used features: 15\n",
      "[LightGBM] [Info] [binary:BoostFromScore]: pavg=0.500000 -> initscore=-0.000000\n",
      "[LightGBM] [Info] Start training from score -0.000000\n",
      "Training until validation scores don't improve for 50 rounds\n"
     ]
    },
    {
     "name": "stderr",
     "output_type": "stream",
     "text": [
      "c:\\Users\\User\\AppData\\Local\\Programs\\Python\\Python39\\lib\\site-packages\\sklearn\\utils\\validation.py:2739: UserWarning: X does not have valid feature names, but LGBMClassifier was fitted with feature names\n",
      "  warnings.warn(\n"
     ]
    },
    {
     "name": "stdout",
     "output_type": "stream",
     "text": [
      "Early stopping, best iteration is:\n",
      "[67]\tvalid_0's auc: 0.896559\tvalid_0's binary_logloss: 0.155311\n",
      "[F(mw)] fold 9/10 ...\n",
      "[LightGBM] [Info] Number of positive: 285, number of negative: 12589\n",
      "[LightGBM] [Info] Auto-choosing col-wise multi-threading, the overhead of testing was 0.000697 seconds.\n",
      "You can set `force_col_wise=true` to remove the overhead.\n",
      "[LightGBM] [Info] Total Bins 3825\n",
      "[LightGBM] [Info] Number of data points in the train set: 12874, number of used features: 15\n",
      "[LightGBM] [Info] [binary:BoostFromScore]: pavg=0.500000 -> initscore=-0.000000\n",
      "[LightGBM] [Info] Start training from score -0.000000\n",
      "Training until validation scores don't improve for 50 rounds\n"
     ]
    },
    {
     "name": "stderr",
     "output_type": "stream",
     "text": [
      "c:\\Users\\User\\AppData\\Local\\Programs\\Python\\Python39\\lib\\site-packages\\sklearn\\utils\\validation.py:2739: UserWarning: X does not have valid feature names, but LGBMClassifier was fitted with feature names\n",
      "  warnings.warn(\n"
     ]
    },
    {
     "name": "stdout",
     "output_type": "stream",
     "text": [
      "Early stopping, best iteration is:\n",
      "[121]\tvalid_0's auc: 0.901458\tvalid_0's binary_logloss: 0.102607\n",
      "[F(mw)] fold 10/10 ...\n",
      "[LightGBM] [Info] Number of positive: 285, number of negative: 12589\n",
      "[LightGBM] [Info] Auto-choosing col-wise multi-threading, the overhead of testing was 0.000683 seconds.\n",
      "You can set `force_col_wise=true` to remove the overhead.\n",
      "[LightGBM] [Info] Total Bins 3825\n",
      "[LightGBM] [Info] Number of data points in the train set: 12874, number of used features: 15\n",
      "[LightGBM] [Info] [binary:BoostFromScore]: pavg=0.500000 -> initscore=-0.000000\n",
      "[LightGBM] [Info] Start training from score -0.000000\n",
      "Training until validation scores don't improve for 50 rounds\n"
     ]
    },
    {
     "name": "stderr",
     "output_type": "stream",
     "text": [
      "c:\\Users\\User\\AppData\\Local\\Programs\\Python\\Python39\\lib\\site-packages\\sklearn\\utils\\validation.py:2739: UserWarning: X does not have valid feature names, but LGBMClassifier was fitted with feature names\n",
      "  warnings.warn(\n"
     ]
    },
    {
     "name": "stdout",
     "output_type": "stream",
     "text": [
      "Early stopping, best iteration is:\n",
      "[35]\tvalid_0's auc: 0.884244\tvalid_0's binary_logloss: 0.251209\n",
      "[OF(mw)] fold 1/10 ...\n",
      "[LightGBM] [Info] Number of positive: 285, number of negative: 12588\n",
      "[LightGBM] [Info] Auto-choosing col-wise multi-threading, the overhead of testing was 0.001427 seconds.\n",
      "You can set `force_col_wise=true` to remove the overhead.\n",
      "[LightGBM] [Info] Total Bins 6855\n",
      "[LightGBM] [Info] Number of data points in the train set: 12873, number of used features: 28\n",
      "[LightGBM] [Info] [binary:BoostFromScore]: pavg=0.500000 -> initscore=0.000000\n",
      "[LightGBM] [Info] Start training from score 0.000000\n",
      "Training until validation scores don't improve for 50 rounds\n"
     ]
    },
    {
     "name": "stderr",
     "output_type": "stream",
     "text": [
      "c:\\Users\\User\\AppData\\Local\\Programs\\Python\\Python39\\lib\\site-packages\\sklearn\\utils\\validation.py:2739: UserWarning: X does not have valid feature names, but LGBMClassifier was fitted with feature names\n",
      "  warnings.warn(\n"
     ]
    },
    {
     "name": "stdout",
     "output_type": "stream",
     "text": [
      "Early stopping, best iteration is:\n",
      "[23]\tvalid_0's auc: 0.935689\tvalid_0's binary_logloss: 0.267231\n",
      "[OF(mw)] fold 2/10 ...\n",
      "[LightGBM] [Info] Number of positive: 286, number of negative: 12588\n",
      "[LightGBM] [Info] Auto-choosing col-wise multi-threading, the overhead of testing was 0.001316 seconds.\n",
      "You can set `force_col_wise=true` to remove the overhead.\n",
      "[LightGBM] [Info] Total Bins 6851\n",
      "[LightGBM] [Info] Number of data points in the train set: 12874, number of used features: 28\n",
      "[LightGBM] [Info] [binary:BoostFromScore]: pavg=0.500000 -> initscore=-0.000000\n",
      "[LightGBM] [Info] Start training from score -0.000000\n",
      "Training until validation scores don't improve for 50 rounds\n"
     ]
    },
    {
     "name": "stderr",
     "output_type": "stream",
     "text": [
      "c:\\Users\\User\\AppData\\Local\\Programs\\Python\\Python39\\lib\\site-packages\\sklearn\\utils\\validation.py:2739: UserWarning: X does not have valid feature names, but LGBMClassifier was fitted with feature names\n",
      "  warnings.warn(\n"
     ]
    },
    {
     "name": "stdout",
     "output_type": "stream",
     "text": [
      "Early stopping, best iteration is:\n",
      "[43]\tvalid_0's auc: 0.906683\tvalid_0's binary_logloss: 0.169379\n",
      "[OF(mw)] fold 3/10 ...\n",
      "[LightGBM] [Info] Number of positive: 286, number of negative: 12588\n",
      "[LightGBM] [Info] Auto-choosing col-wise multi-threading, the overhead of testing was 0.001337 seconds.\n",
      "You can set `force_col_wise=true` to remove the overhead.\n",
      "[LightGBM] [Info] Total Bins 6850\n",
      "[LightGBM] [Info] Number of data points in the train set: 12874, number of used features: 28\n",
      "[LightGBM] [Info] [binary:BoostFromScore]: pavg=0.500000 -> initscore=-0.000000\n",
      "[LightGBM] [Info] Start training from score -0.000000\n",
      "Training until validation scores don't improve for 50 rounds\n"
     ]
    },
    {
     "name": "stderr",
     "output_type": "stream",
     "text": [
      "c:\\Users\\User\\AppData\\Local\\Programs\\Python\\Python39\\lib\\site-packages\\sklearn\\utils\\validation.py:2739: UserWarning: X does not have valid feature names, but LGBMClassifier was fitted with feature names\n",
      "  warnings.warn(\n"
     ]
    },
    {
     "name": "stdout",
     "output_type": "stream",
     "text": [
      "Early stopping, best iteration is:\n",
      "[19]\tvalid_0's auc: 0.953872\tvalid_0's binary_logloss: 0.315643\n",
      "[OF(mw)] fold 4/10 ...\n",
      "[LightGBM] [Info] Number of positive: 286, number of negative: 12588\n",
      "[LightGBM] [Info] Auto-choosing col-wise multi-threading, the overhead of testing was 0.001633 seconds.\n",
      "You can set `force_col_wise=true` to remove the overhead.\n",
      "[LightGBM] [Info] Total Bins 6859\n",
      "[LightGBM] [Info] Number of data points in the train set: 12874, number of used features: 28\n",
      "[LightGBM] [Info] [binary:BoostFromScore]: pavg=0.500000 -> initscore=-0.000000\n",
      "[LightGBM] [Info] Start training from score -0.000000\n",
      "Training until validation scores don't improve for 50 rounds\n"
     ]
    },
    {
     "name": "stderr",
     "output_type": "stream",
     "text": [
      "c:\\Users\\User\\AppData\\Local\\Programs\\Python\\Python39\\lib\\site-packages\\sklearn\\utils\\validation.py:2739: UserWarning: X does not have valid feature names, but LGBMClassifier was fitted with feature names\n",
      "  warnings.warn(\n"
     ]
    },
    {
     "name": "stdout",
     "output_type": "stream",
     "text": [
      "Early stopping, best iteration is:\n",
      "[33]\tvalid_0's auc: 0.936396\tvalid_0's binary_logloss: 0.210048\n",
      "[OF(mw)] fold 5/10 ...\n",
      "[LightGBM] [Info] Number of positive: 286, number of negative: 12588\n",
      "[LightGBM] [Info] Auto-choosing col-wise multi-threading, the overhead of testing was 0.001350 seconds.\n",
      "You can set `force_col_wise=true` to remove the overhead.\n",
      "[LightGBM] [Info] Total Bins 6857\n",
      "[LightGBM] [Info] Number of data points in the train set: 12874, number of used features: 28\n",
      "[LightGBM] [Info] [binary:BoostFromScore]: pavg=0.500000 -> initscore=-0.000000\n",
      "[LightGBM] [Info] Start training from score -0.000000\n",
      "Training until validation scores don't improve for 50 rounds\n"
     ]
    },
    {
     "name": "stderr",
     "output_type": "stream",
     "text": [
      "c:\\Users\\User\\AppData\\Local\\Programs\\Python\\Python39\\lib\\site-packages\\sklearn\\utils\\validation.py:2739: UserWarning: X does not have valid feature names, but LGBMClassifier was fitted with feature names\n",
      "  warnings.warn(\n"
     ]
    },
    {
     "name": "stdout",
     "output_type": "stream",
     "text": [
      "Early stopping, best iteration is:\n",
      "[86]\tvalid_0's auc: 0.933474\tvalid_0's binary_logloss: 0.0949893\n",
      "[OF(mw)] fold 6/10 ...\n",
      "[LightGBM] [Info] Number of positive: 285, number of negative: 12589\n",
      "[LightGBM] [Info] Auto-choosing col-wise multi-threading, the overhead of testing was 0.001526 seconds.\n",
      "You can set `force_col_wise=true` to remove the overhead.\n",
      "[LightGBM] [Info] Total Bins 6851\n",
      "[LightGBM] [Info] Number of data points in the train set: 12874, number of used features: 28\n",
      "[LightGBM] [Info] [binary:BoostFromScore]: pavg=0.500000 -> initscore=-0.000000\n",
      "[LightGBM] [Info] Start training from score -0.000000\n",
      "Training until validation scores don't improve for 50 rounds\n"
     ]
    },
    {
     "name": "stderr",
     "output_type": "stream",
     "text": [
      "c:\\Users\\User\\AppData\\Local\\Programs\\Python\\Python39\\lib\\site-packages\\sklearn\\utils\\validation.py:2739: UserWarning: X does not have valid feature names, but LGBMClassifier was fitted with feature names\n",
      "  warnings.warn(\n"
     ]
    },
    {
     "name": "stdout",
     "output_type": "stream",
     "text": [
      "Early stopping, best iteration is:\n",
      "[112]\tvalid_0's auc: 0.937345\tvalid_0's binary_logloss: 0.0728643\n",
      "[OF(mw)] fold 7/10 ...\n",
      "[LightGBM] [Info] Number of positive: 285, number of negative: 12589\n",
      "[LightGBM] [Info] Auto-choosing col-wise multi-threading, the overhead of testing was 0.001077 seconds.\n",
      "You can set `force_col_wise=true` to remove the overhead.\n",
      "[LightGBM] [Info] Total Bins 6858\n",
      "[LightGBM] [Info] Number of data points in the train set: 12874, number of used features: 28\n",
      "[LightGBM] [Info] [binary:BoostFromScore]: pavg=0.500000 -> initscore=-0.000000\n",
      "[LightGBM] [Info] Start training from score -0.000000\n",
      "Training until validation scores don't improve for 50 rounds\n"
     ]
    },
    {
     "name": "stderr",
     "output_type": "stream",
     "text": [
      "c:\\Users\\User\\AppData\\Local\\Programs\\Python\\Python39\\lib\\site-packages\\sklearn\\utils\\validation.py:2739: UserWarning: X does not have valid feature names, but LGBMClassifier was fitted with feature names\n",
      "  warnings.warn(\n"
     ]
    },
    {
     "name": "stdout",
     "output_type": "stream",
     "text": [
      "Early stopping, best iteration is:\n",
      "[86]\tvalid_0's auc: 0.952261\tvalid_0's binary_logloss: 0.0855371\n",
      "[OF(mw)] fold 8/10 ...\n",
      "[LightGBM] [Info] Number of positive: 285, number of negative: 12589\n",
      "[LightGBM] [Info] Auto-choosing col-wise multi-threading, the overhead of testing was 0.001472 seconds.\n",
      "You can set `force_col_wise=true` to remove the overhead.\n",
      "[LightGBM] [Info] Total Bins 6854\n",
      "[LightGBM] [Info] Number of data points in the train set: 12874, number of used features: 28\n",
      "[LightGBM] [Info] [binary:BoostFromScore]: pavg=0.500000 -> initscore=-0.000000\n",
      "[LightGBM] [Info] Start training from score -0.000000\n",
      "Training until validation scores don't improve for 50 rounds\n"
     ]
    },
    {
     "name": "stderr",
     "output_type": "stream",
     "text": [
      "c:\\Users\\User\\AppData\\Local\\Programs\\Python\\Python39\\lib\\site-packages\\sklearn\\utils\\validation.py:2739: UserWarning: X does not have valid feature names, but LGBMClassifier was fitted with feature names\n",
      "  warnings.warn(\n"
     ]
    },
    {
     "name": "stdout",
     "output_type": "stream",
     "text": [
      "Early stopping, best iteration is:\n",
      "[20]\tvalid_0's auc: 0.924618\tvalid_0's binary_logloss: 0.302052\n",
      "[OF(mw)] fold 9/10 ...\n",
      "[LightGBM] [Info] Number of positive: 285, number of negative: 12589\n",
      "[LightGBM] [Info] Auto-choosing col-wise multi-threading, the overhead of testing was 0.001297 seconds.\n",
      "You can set `force_col_wise=true` to remove the overhead.\n",
      "[LightGBM] [Info] Total Bins 6850\n",
      "[LightGBM] [Info] Number of data points in the train set: 12874, number of used features: 28\n",
      "[LightGBM] [Info] [binary:BoostFromScore]: pavg=0.500000 -> initscore=-0.000000\n",
      "[LightGBM] [Info] Start training from score -0.000000\n",
      "Training until validation scores don't improve for 50 rounds\n"
     ]
    },
    {
     "name": "stderr",
     "output_type": "stream",
     "text": [
      "c:\\Users\\User\\AppData\\Local\\Programs\\Python\\Python39\\lib\\site-packages\\sklearn\\utils\\validation.py:2739: UserWarning: X does not have valid feature names, but LGBMClassifier was fitted with feature names\n",
      "  warnings.warn(\n"
     ]
    },
    {
     "name": "stdout",
     "output_type": "stream",
     "text": [
      "Early stopping, best iteration is:\n",
      "[122]\tvalid_0's auc: 0.92573\tvalid_0's binary_logloss: 0.0797077\n",
      "[OF(mw)] fold 10/10 ...\n",
      "[LightGBM] [Info] Number of positive: 285, number of negative: 12589\n",
      "[LightGBM] [Info] Auto-choosing col-wise multi-threading, the overhead of testing was 0.001007 seconds.\n",
      "You can set `force_col_wise=true` to remove the overhead.\n",
      "[LightGBM] [Info] Total Bins 6858\n",
      "[LightGBM] [Info] Number of data points in the train set: 12874, number of used features: 28\n",
      "[LightGBM] [Info] [binary:BoostFromScore]: pavg=0.500000 -> initscore=-0.000000\n",
      "[LightGBM] [Info] Start training from score -0.000000\n",
      "Training until validation scores don't improve for 50 rounds\n"
     ]
    },
    {
     "name": "stderr",
     "output_type": "stream",
     "text": [
      "c:\\Users\\User\\AppData\\Local\\Programs\\Python\\Python39\\lib\\site-packages\\sklearn\\utils\\validation.py:2739: UserWarning: X does not have valid feature names, but LGBMClassifier was fitted with feature names\n",
      "  warnings.warn(\n"
     ]
    },
    {
     "name": "stdout",
     "output_type": "stream",
     "text": [
      "Early stopping, best iteration is:\n",
      "[81]\tvalid_0's auc: 0.929211\tvalid_0's binary_logloss: 0.102006\n",
      "[F(m+mw)] fold 1/10 ...\n",
      "[LightGBM] [Info] Number of positive: 285, number of negative: 12588\n",
      "[LightGBM] [Info] Auto-choosing col-wise multi-threading, the overhead of testing was 0.001270 seconds.\n",
      "You can set `force_col_wise=true` to remove the overhead.\n",
      "[LightGBM] [Info] Total Bins 7650\n",
      "[LightGBM] [Info] Number of data points in the train set: 12873, number of used features: 30\n",
      "[LightGBM] [Info] [binary:BoostFromScore]: pavg=0.500000 -> initscore=0.000000\n",
      "[LightGBM] [Info] Start training from score 0.000000\n",
      "Training until validation scores don't improve for 50 rounds\n"
     ]
    },
    {
     "name": "stderr",
     "output_type": "stream",
     "text": [
      "c:\\Users\\User\\AppData\\Local\\Programs\\Python\\Python39\\lib\\site-packages\\sklearn\\utils\\validation.py:2739: UserWarning: X does not have valid feature names, but LGBMClassifier was fitted with feature names\n",
      "  warnings.warn(\n"
     ]
    },
    {
     "name": "stdout",
     "output_type": "stream",
     "text": [
      "Early stopping, best iteration is:\n",
      "[56]\tvalid_0's auc: 0.919851\tvalid_0's binary_logloss: 0.170122\n",
      "[F(m+mw)] fold 2/10 ...\n",
      "[LightGBM] [Info] Number of positive: 286, number of negative: 12588\n",
      "[LightGBM] [Info] Auto-choosing col-wise multi-threading, the overhead of testing was 0.001405 seconds.\n",
      "You can set `force_col_wise=true` to remove the overhead.\n",
      "[LightGBM] [Info] Total Bins 7650\n",
      "[LightGBM] [Info] Number of data points in the train set: 12874, number of used features: 30\n",
      "[LightGBM] [Info] [binary:BoostFromScore]: pavg=0.500000 -> initscore=-0.000000\n",
      "[LightGBM] [Info] Start training from score -0.000000\n",
      "Training until validation scores don't improve for 50 rounds\n"
     ]
    },
    {
     "name": "stderr",
     "output_type": "stream",
     "text": [
      "c:\\Users\\User\\AppData\\Local\\Programs\\Python\\Python39\\lib\\site-packages\\sklearn\\utils\\validation.py:2739: UserWarning: X does not have valid feature names, but LGBMClassifier was fitted with feature names\n",
      "  warnings.warn(\n"
     ]
    },
    {
     "name": "stdout",
     "output_type": "stream",
     "text": [
      "Early stopping, best iteration is:\n",
      "[108]\tvalid_0's auc: 0.870184\tvalid_0's binary_logloss: 0.114246\n",
      "[F(m+mw)] fold 3/10 ...\n",
      "[LightGBM] [Info] Number of positive: 286, number of negative: 12588\n",
      "[LightGBM] [Info] Auto-choosing col-wise multi-threading, the overhead of testing was 0.001203 seconds.\n",
      "You can set `force_col_wise=true` to remove the overhead.\n",
      "[LightGBM] [Info] Total Bins 7650\n",
      "[LightGBM] [Info] Number of data points in the train set: 12874, number of used features: 30\n",
      "[LightGBM] [Info] [binary:BoostFromScore]: pavg=0.500000 -> initscore=-0.000000\n",
      "[LightGBM] [Info] Start training from score -0.000000\n",
      "Training until validation scores don't improve for 50 rounds\n"
     ]
    },
    {
     "name": "stderr",
     "output_type": "stream",
     "text": [
      "c:\\Users\\User\\AppData\\Local\\Programs\\Python\\Python39\\lib\\site-packages\\sklearn\\utils\\validation.py:2739: UserWarning: X does not have valid feature names, but LGBMClassifier was fitted with feature names\n",
      "  warnings.warn(\n"
     ]
    },
    {
     "name": "stdout",
     "output_type": "stream",
     "text": [
      "Early stopping, best iteration is:\n",
      "[44]\tvalid_0's auc: 0.928296\tvalid_0's binary_logloss: 0.208883\n",
      "[F(m+mw)] fold 4/10 ...\n",
      "[LightGBM] [Info] Number of positive: 286, number of negative: 12588\n",
      "[LightGBM] [Info] Auto-choosing col-wise multi-threading, the overhead of testing was 0.001130 seconds.\n",
      "You can set `force_col_wise=true` to remove the overhead.\n",
      "[LightGBM] [Info] Total Bins 7650\n",
      "[LightGBM] [Info] Number of data points in the train set: 12874, number of used features: 30\n",
      "[LightGBM] [Info] [binary:BoostFromScore]: pavg=0.500000 -> initscore=-0.000000\n",
      "[LightGBM] [Info] Start training from score -0.000000\n",
      "Training until validation scores don't improve for 50 rounds\n"
     ]
    },
    {
     "name": "stderr",
     "output_type": "stream",
     "text": [
      "c:\\Users\\User\\AppData\\Local\\Programs\\Python\\Python39\\lib\\site-packages\\sklearn\\utils\\validation.py:2739: UserWarning: X does not have valid feature names, but LGBMClassifier was fitted with feature names\n",
      "  warnings.warn(\n"
     ]
    },
    {
     "name": "stdout",
     "output_type": "stream",
     "text": [
      "Early stopping, best iteration is:\n",
      "[37]\tvalid_0's auc: 0.889494\tvalid_0's binary_logloss: 0.233902\n",
      "[F(m+mw)] fold 5/10 ...\n",
      "[LightGBM] [Info] Number of positive: 286, number of negative: 12588\n",
      "[LightGBM] [Info] Auto-choosing col-wise multi-threading, the overhead of testing was 0.001088 seconds.\n",
      "You can set `force_col_wise=true` to remove the overhead.\n",
      "[LightGBM] [Info] Total Bins 7650\n",
      "[LightGBM] [Info] Number of data points in the train set: 12874, number of used features: 30\n",
      "[LightGBM] [Info] [binary:BoostFromScore]: pavg=0.500000 -> initscore=-0.000000\n",
      "[LightGBM] [Info] Start training from score -0.000000\n",
      "Training until validation scores don't improve for 50 rounds\n"
     ]
    },
    {
     "name": "stderr",
     "output_type": "stream",
     "text": [
      "c:\\Users\\User\\AppData\\Local\\Programs\\Python\\Python39\\lib\\site-packages\\sklearn\\utils\\validation.py:2739: UserWarning: X does not have valid feature names, but LGBMClassifier was fitted with feature names\n",
      "  warnings.warn(\n"
     ]
    },
    {
     "name": "stdout",
     "output_type": "stream",
     "text": [
      "Early stopping, best iteration is:\n",
      "[172]\tvalid_0's auc: 0.913663\tvalid_0's binary_logloss: 0.0961634\n",
      "[F(m+mw)] fold 6/10 ...\n",
      "[LightGBM] [Info] Number of positive: 285, number of negative: 12589\n",
      "[LightGBM] [Info] Auto-choosing col-wise multi-threading, the overhead of testing was 0.001076 seconds.\n",
      "You can set `force_col_wise=true` to remove the overhead.\n",
      "[LightGBM] [Info] Total Bins 7650\n",
      "[LightGBM] [Info] Number of data points in the train set: 12874, number of used features: 30\n",
      "[LightGBM] [Info] [binary:BoostFromScore]: pavg=0.500000 -> initscore=-0.000000\n",
      "[LightGBM] [Info] Start training from score -0.000000\n",
      "Training until validation scores don't improve for 50 rounds\n"
     ]
    },
    {
     "name": "stderr",
     "output_type": "stream",
     "text": [
      "c:\\Users\\User\\AppData\\Local\\Programs\\Python\\Python39\\lib\\site-packages\\sklearn\\utils\\validation.py:2739: UserWarning: X does not have valid feature names, but LGBMClassifier was fitted with feature names\n",
      "  warnings.warn(\n"
     ]
    },
    {
     "name": "stdout",
     "output_type": "stream",
     "text": [
      "Early stopping, best iteration is:\n",
      "[60]\tvalid_0's auc: 0.908491\tvalid_0's binary_logloss: 0.159936\n",
      "[F(m+mw)] fold 7/10 ...\n",
      "[LightGBM] [Info] Number of positive: 285, number of negative: 12589\n",
      "[LightGBM] [Info] Auto-choosing col-wise multi-threading, the overhead of testing was 0.001482 seconds.\n",
      "You can set `force_col_wise=true` to remove the overhead.\n",
      "[LightGBM] [Info] Total Bins 7650\n",
      "[LightGBM] [Info] Number of data points in the train set: 12874, number of used features: 30\n",
      "[LightGBM] [Info] [binary:BoostFromScore]: pavg=0.500000 -> initscore=-0.000000\n",
      "[LightGBM] [Info] Start training from score -0.000000\n",
      "Training until validation scores don't improve for 50 rounds\n"
     ]
    },
    {
     "name": "stderr",
     "output_type": "stream",
     "text": [
      "c:\\Users\\User\\AppData\\Local\\Programs\\Python\\Python39\\lib\\site-packages\\sklearn\\utils\\validation.py:2739: UserWarning: X does not have valid feature names, but LGBMClassifier was fitted with feature names\n",
      "  warnings.warn(\n"
     ]
    },
    {
     "name": "stdout",
     "output_type": "stream",
     "text": [
      "Early stopping, best iteration is:\n",
      "[202]\tvalid_0's auc: 0.908768\tvalid_0's binary_logloss: 0.0867164\n",
      "[F(m+mw)] fold 8/10 ...\n",
      "[LightGBM] [Info] Number of positive: 285, number of negative: 12589\n",
      "[LightGBM] [Info] Auto-choosing col-wise multi-threading, the overhead of testing was 0.001012 seconds.\n",
      "You can set `force_col_wise=true` to remove the overhead.\n",
      "[LightGBM] [Info] Total Bins 7650\n",
      "[LightGBM] [Info] Number of data points in the train set: 12874, number of used features: 30\n",
      "[LightGBM] [Info] [binary:BoostFromScore]: pavg=0.500000 -> initscore=-0.000000\n",
      "[LightGBM] [Info] Start training from score -0.000000\n",
      "Training until validation scores don't improve for 50 rounds\n"
     ]
    },
    {
     "name": "stderr",
     "output_type": "stream",
     "text": [
      "c:\\Users\\User\\AppData\\Local\\Programs\\Python\\Python39\\lib\\site-packages\\sklearn\\utils\\validation.py:2739: UserWarning: X does not have valid feature names, but LGBMClassifier was fitted with feature names\n",
      "  warnings.warn(\n"
     ]
    },
    {
     "name": "stdout",
     "output_type": "stream",
     "text": [
      "Early stopping, best iteration is:\n",
      "[61]\tvalid_0's auc: 0.889847\tvalid_0's binary_logloss: 0.166142\n",
      "[F(m+mw)] fold 9/10 ...\n",
      "[LightGBM] [Info] Number of positive: 285, number of negative: 12589\n",
      "[LightGBM] [Info] Auto-choosing col-wise multi-threading, the overhead of testing was 0.001449 seconds.\n",
      "You can set `force_col_wise=true` to remove the overhead.\n",
      "[LightGBM] [Info] Total Bins 7650\n",
      "[LightGBM] [Info] Number of data points in the train set: 12874, number of used features: 30\n",
      "[LightGBM] [Info] [binary:BoostFromScore]: pavg=0.500000 -> initscore=-0.000000\n",
      "[LightGBM] [Info] Start training from score -0.000000\n",
      "Training until validation scores don't improve for 50 rounds\n"
     ]
    },
    {
     "name": "stderr",
     "output_type": "stream",
     "text": [
      "c:\\Users\\User\\AppData\\Local\\Programs\\Python\\Python39\\lib\\site-packages\\sklearn\\utils\\validation.py:2739: UserWarning: X does not have valid feature names, but LGBMClassifier was fitted with feature names\n",
      "  warnings.warn(\n"
     ]
    },
    {
     "name": "stdout",
     "output_type": "stream",
     "text": [
      "Early stopping, best iteration is:\n",
      "[146]\tvalid_0's auc: 0.90352\tvalid_0's binary_logloss: 0.095121\n",
      "[F(m+mw)] fold 10/10 ...\n"
     ]
    },
    {
     "name": "stderr",
     "output_type": "stream",
     "text": [
      "c:\\Users\\User\\AppData\\Local\\Programs\\Python\\Python39\\lib\\site-packages\\sklearn\\utils\\validation.py:2739: UserWarning: X does not have valid feature names, but LGBMClassifier was fitted with feature names\n",
      "  warnings.warn(\n"
     ]
    },
    {
     "name": "stdout",
     "output_type": "stream",
     "text": [
      "[LightGBM] [Info] Number of positive: 285, number of negative: 12589\n",
      "[LightGBM] [Info] Auto-choosing col-wise multi-threading, the overhead of testing was 0.001395 seconds.\n",
      "You can set `force_col_wise=true` to remove the overhead.\n",
      "[LightGBM] [Info] Total Bins 7650\n",
      "[LightGBM] [Info] Number of data points in the train set: 12874, number of used features: 30\n",
      "[LightGBM] [Info] [binary:BoostFromScore]: pavg=0.500000 -> initscore=-0.000000\n",
      "[LightGBM] [Info] Start training from score -0.000000\n",
      "Training until validation scores don't improve for 50 rounds\n",
      "Early stopping, best iteration is:\n",
      "[29]\tvalid_0's auc: 0.885279\tvalid_0's binary_logloss: 0.279717\n",
      "[OF(m+mw)] fold 1/10 ...\n",
      "[LightGBM] [Info] Number of positive: 285, number of negative: 12588\n",
      "[LightGBM] [Info] Auto-choosing col-wise multi-threading, the overhead of testing was 0.001471 seconds.\n",
      "You can set `force_col_wise=true` to remove the overhead.\n",
      "[LightGBM] [Info] Total Bins 10680\n",
      "[LightGBM] [Info] Number of data points in the train set: 12873, number of used features: 43\n",
      "[LightGBM] [Info] [binary:BoostFromScore]: pavg=0.500000 -> initscore=0.000000\n",
      "[LightGBM] [Info] Start training from score 0.000000\n",
      "Training until validation scores don't improve for 50 rounds\n"
     ]
    },
    {
     "name": "stderr",
     "output_type": "stream",
     "text": [
      "c:\\Users\\User\\AppData\\Local\\Programs\\Python\\Python39\\lib\\site-packages\\sklearn\\utils\\validation.py:2739: UserWarning: X does not have valid feature names, but LGBMClassifier was fitted with feature names\n",
      "  warnings.warn(\n"
     ]
    },
    {
     "name": "stdout",
     "output_type": "stream",
     "text": [
      "Early stopping, best iteration is:\n",
      "[48]\tvalid_0's auc: 0.934085\tvalid_0's binary_logloss: 0.146954\n",
      "[OF(m+mw)] fold 2/10 ...\n",
      "[LightGBM] [Info] Number of positive: 286, number of negative: 12588\n",
      "[LightGBM] [Info] Auto-choosing col-wise multi-threading, the overhead of testing was 0.001599 seconds.\n",
      "You can set `force_col_wise=true` to remove the overhead.\n",
      "[LightGBM] [Info] Total Bins 10676\n",
      "[LightGBM] [Info] Number of data points in the train set: 12874, number of used features: 43\n",
      "[LightGBM] [Info] [binary:BoostFromScore]: pavg=0.500000 -> initscore=-0.000000\n",
      "[LightGBM] [Info] Start training from score -0.000000\n",
      "Training until validation scores don't improve for 50 rounds\n"
     ]
    },
    {
     "name": "stderr",
     "output_type": "stream",
     "text": [
      "c:\\Users\\User\\AppData\\Local\\Programs\\Python\\Python39\\lib\\site-packages\\sklearn\\utils\\validation.py:2739: UserWarning: X does not have valid feature names, but LGBMClassifier was fitted with feature names\n",
      "  warnings.warn(\n"
     ]
    },
    {
     "name": "stdout",
     "output_type": "stream",
     "text": [
      "Early stopping, best iteration is:\n",
      "[98]\tvalid_0's auc: 0.913341\tvalid_0's binary_logloss: 0.0940578\n",
      "[OF(m+mw)] fold 3/10 ...\n",
      "[LightGBM] [Info] Number of positive: 286, number of negative: 12588\n",
      "[LightGBM] [Info] Auto-choosing col-wise multi-threading, the overhead of testing was 0.001769 seconds.\n",
      "You can set `force_col_wise=true` to remove the overhead.\n",
      "[LightGBM] [Info] Total Bins 10675\n",
      "[LightGBM] [Info] Number of data points in the train set: 12874, number of used features: 43\n",
      "[LightGBM] [Info] [binary:BoostFromScore]: pavg=0.500000 -> initscore=-0.000000\n",
      "[LightGBM] [Info] Start training from score -0.000000\n",
      "Training until validation scores don't improve for 50 rounds\n"
     ]
    },
    {
     "name": "stderr",
     "output_type": "stream",
     "text": [
      "c:\\Users\\User\\AppData\\Local\\Programs\\Python\\Python39\\lib\\site-packages\\sklearn\\utils\\validation.py:2739: UserWarning: X does not have valid feature names, but LGBMClassifier was fitted with feature names\n",
      "  warnings.warn(\n"
     ]
    },
    {
     "name": "stdout",
     "output_type": "stream",
     "text": [
      "Early stopping, best iteration is:\n",
      "[31]\tvalid_0's auc: 0.951621\tvalid_0's binary_logloss: 0.222205\n",
      "[OF(m+mw)] fold 4/10 ...\n",
      "[LightGBM] [Info] Number of positive: 286, number of negative: 12588\n",
      "[LightGBM] [Info] Auto-choosing col-wise multi-threading, the overhead of testing was 0.002089 seconds.\n",
      "You can set `force_col_wise=true` to remove the overhead.\n",
      "[LightGBM] [Info] Total Bins 10684\n",
      "[LightGBM] [Info] Number of data points in the train set: 12874, number of used features: 43\n",
      "[LightGBM] [Info] [binary:BoostFromScore]: pavg=0.500000 -> initscore=-0.000000\n",
      "[LightGBM] [Info] Start training from score -0.000000\n",
      "Training until validation scores don't improve for 50 rounds\n"
     ]
    },
    {
     "name": "stderr",
     "output_type": "stream",
     "text": [
      "c:\\Users\\User\\AppData\\Local\\Programs\\Python\\Python39\\lib\\site-packages\\sklearn\\utils\\validation.py:2739: UserWarning: X does not have valid feature names, but LGBMClassifier was fitted with feature names\n",
      "  warnings.warn(\n"
     ]
    },
    {
     "name": "stdout",
     "output_type": "stream",
     "text": [
      "Early stopping, best iteration is:\n",
      "[54]\tvalid_0's auc: 0.928571\tvalid_0's binary_logloss: 0.137631\n",
      "[OF(m+mw)] fold 5/10 ...\n",
      "[LightGBM] [Info] Number of positive: 286, number of negative: 12588\n",
      "[LightGBM] [Info] Auto-choosing col-wise multi-threading, the overhead of testing was 0.002204 seconds.\n",
      "You can set `force_col_wise=true` to remove the overhead.\n",
      "[LightGBM] [Info] Total Bins 10682\n",
      "[LightGBM] [Info] Number of data points in the train set: 12874, number of used features: 43\n",
      "[LightGBM] [Info] [binary:BoostFromScore]: pavg=0.500000 -> initscore=-0.000000\n",
      "[LightGBM] [Info] Start training from score -0.000000\n",
      "Training until validation scores don't improve for 50 rounds\n"
     ]
    },
    {
     "name": "stderr",
     "output_type": "stream",
     "text": [
      "c:\\Users\\User\\AppData\\Local\\Programs\\Python\\Python39\\lib\\site-packages\\sklearn\\utils\\validation.py:2739: UserWarning: X does not have valid feature names, but LGBMClassifier was fitted with feature names\n",
      "  warnings.warn(\n"
     ]
    },
    {
     "name": "stdout",
     "output_type": "stream",
     "text": [
      "Early stopping, best iteration is:\n",
      "[135]\tvalid_0's auc: 0.927036\tvalid_0's binary_logloss: 0.0787689\n",
      "[OF(m+mw)] fold 6/10 ...\n",
      "[LightGBM] [Info] Number of positive: 285, number of negative: 12589\n",
      "[LightGBM] [Info] Auto-choosing col-wise multi-threading, the overhead of testing was 0.001491 seconds.\n",
      "You can set `force_col_wise=true` to remove the overhead.\n",
      "[LightGBM] [Info] Total Bins 10676\n",
      "[LightGBM] [Info] Number of data points in the train set: 12874, number of used features: 43\n",
      "[LightGBM] [Info] [binary:BoostFromScore]: pavg=0.500000 -> initscore=-0.000000\n",
      "[LightGBM] [Info] Start training from score -0.000000\n",
      "Training until validation scores don't improve for 50 rounds\n"
     ]
    },
    {
     "name": "stderr",
     "output_type": "stream",
     "text": [
      "c:\\Users\\User\\AppData\\Local\\Programs\\Python\\Python39\\lib\\site-packages\\sklearn\\utils\\validation.py:2739: UserWarning: X does not have valid feature names, but LGBMClassifier was fitted with feature names\n",
      "  warnings.warn(\n"
     ]
    },
    {
     "name": "stdout",
     "output_type": "stream",
     "text": [
      "Early stopping, best iteration is:\n",
      "[105]\tvalid_0's auc: 0.935837\tvalid_0's binary_logloss: 0.0763401\n",
      "[OF(m+mw)] fold 7/10 ...\n",
      "[LightGBM] [Info] Number of positive: 285, number of negative: 12589\n",
      "[LightGBM] [Info] Auto-choosing col-wise multi-threading, the overhead of testing was 0.001677 seconds.\n",
      "You can set `force_col_wise=true` to remove the overhead.\n",
      "[LightGBM] [Info] Total Bins 10683\n",
      "[LightGBM] [Info] Number of data points in the train set: 12874, number of used features: 43\n",
      "[LightGBM] [Info] [binary:BoostFromScore]: pavg=0.500000 -> initscore=-0.000000\n",
      "[LightGBM] [Info] Start training from score -0.000000\n",
      "Training until validation scores don't improve for 50 rounds\n"
     ]
    },
    {
     "name": "stderr",
     "output_type": "stream",
     "text": [
      "c:\\Users\\User\\AppData\\Local\\Programs\\Python\\Python39\\lib\\site-packages\\sklearn\\utils\\validation.py:2739: UserWarning: X does not have valid feature names, but LGBMClassifier was fitted with feature names\n",
      "  warnings.warn(\n"
     ]
    },
    {
     "name": "stdout",
     "output_type": "stream",
     "text": [
      "Early stopping, best iteration is:\n",
      "[56]\tvalid_0's auc: 0.944722\tvalid_0's binary_logloss: 0.121798\n",
      "[OF(m+mw)] fold 8/10 ...\n",
      "[LightGBM] [Info] Number of positive: 285, number of negative: 12589\n",
      "[LightGBM] [Info] Auto-choosing col-wise multi-threading, the overhead of testing was 0.001406 seconds.\n",
      "You can set `force_col_wise=true` to remove the overhead.\n",
      "[LightGBM] [Info] Total Bins 10679\n",
      "[LightGBM] [Info] Number of data points in the train set: 12874, number of used features: 43\n",
      "[LightGBM] [Info] [binary:BoostFromScore]: pavg=0.500000 -> initscore=-0.000000\n",
      "[LightGBM] [Info] Start training from score -0.000000\n",
      "Training until validation scores don't improve for 50 rounds\n"
     ]
    },
    {
     "name": "stderr",
     "output_type": "stream",
     "text": [
      "c:\\Users\\User\\AppData\\Local\\Programs\\Python\\Python39\\lib\\site-packages\\sklearn\\utils\\validation.py:2739: UserWarning: X does not have valid feature names, but LGBMClassifier was fitted with feature names\n",
      "  warnings.warn(\n"
     ]
    },
    {
     "name": "stdout",
     "output_type": "stream",
     "text": [
      "Early stopping, best iteration is:\n",
      "[80]\tvalid_0's auc: 0.92785\tvalid_0's binary_logloss: 0.10258\n",
      "[OF(m+mw)] fold 9/10 ...\n",
      "[LightGBM] [Info] Number of positive: 285, number of negative: 12589\n",
      "[LightGBM] [Info] Auto-choosing col-wise multi-threading, the overhead of testing was 0.001708 seconds.\n",
      "You can set `force_col_wise=true` to remove the overhead.\n",
      "[LightGBM] [Info] Total Bins 10675\n",
      "[LightGBM] [Info] Number of data points in the train set: 12874, number of used features: 43\n",
      "[LightGBM] [Info] [binary:BoostFromScore]: pavg=0.500000 -> initscore=-0.000000\n",
      "[LightGBM] [Info] Start training from score -0.000000\n",
      "Training until validation scores don't improve for 50 rounds\n"
     ]
    },
    {
     "name": "stderr",
     "output_type": "stream",
     "text": [
      "c:\\Users\\User\\AppData\\Local\\Programs\\Python\\Python39\\lib\\site-packages\\sklearn\\utils\\validation.py:2739: UserWarning: X does not have valid feature names, but LGBMClassifier was fitted with feature names\n",
      "  warnings.warn(\n"
     ]
    },
    {
     "name": "stdout",
     "output_type": "stream",
     "text": [
      "Early stopping, best iteration is:\n",
      "[119]\tvalid_0's auc: 0.922307\tvalid_0's binary_logloss: 0.0815163\n",
      "[OF(m+mw)] fold 10/10 ...\n",
      "[LightGBM] [Info] Number of positive: 285, number of negative: 12589\n",
      "[LightGBM] [Info] Auto-choosing col-wise multi-threading, the overhead of testing was 0.001892 seconds.\n",
      "You can set `force_col_wise=true` to remove the overhead.\n",
      "[LightGBM] [Info] Total Bins 10683\n",
      "[LightGBM] [Info] Number of data points in the train set: 12874, number of used features: 43\n",
      "[LightGBM] [Info] [binary:BoostFromScore]: pavg=0.500000 -> initscore=-0.000000\n",
      "[LightGBM] [Info] Start training from score -0.000000\n",
      "Training until validation scores don't improve for 50 rounds\n"
     ]
    },
    {
     "name": "stderr",
     "output_type": "stream",
     "text": [
      "c:\\Users\\User\\AppData\\Local\\Programs\\Python\\Python39\\lib\\site-packages\\sklearn\\utils\\validation.py:2739: UserWarning: X does not have valid feature names, but LGBMClassifier was fitted with feature names\n",
      "  warnings.warn(\n"
     ]
    },
    {
     "name": "stdout",
     "output_type": "stream",
     "text": [
      "Early stopping, best iteration is:\n",
      "[91]\tvalid_0's auc: 0.922495\tvalid_0's binary_logloss: 0.0972147\n",
      "               O                                      F                  \\\n",
      "              f1   AUPRC   AUROC  Brier     ECE      f1   AUPRC   AUROC   \n",
      "original  0.3923  0.4337  0.9152  0.042  0.0952     NaN     NaN     NaN   \n",
      "m         0.3923  0.4337  0.9152  0.042  0.0952  0.2869  0.2621  0.8719   \n",
      "mw        0.3923  0.4337  0.9152  0.042  0.0952  0.2868  0.2674  0.8742   \n",
      "m+mw      0.3923  0.4337  0.9152  0.042  0.0952  0.2833  0.2645  0.8744   \n",
      "\n",
      "                              OF                                  \n",
      "           Brier     ECE      f1   AUPRC   AUROC   Brier     ECE  \n",
      "original     NaN     NaN     NaN     NaN     NaN     NaN     NaN  \n",
      "m         0.0479  0.1034  0.4018  0.4472  0.9118  0.0467  0.1054  \n",
      "mw        0.0462  0.0975  0.3970  0.4372  0.9089  0.0424  0.1074  \n",
      "m+mw      0.0434  0.0858  0.4020  0.4665  0.9146  0.0298  0.0572  \n"
     ]
    },
    {
     "name": "stderr",
     "output_type": "stream",
     "text": [
      "c:\\Users\\User\\AppData\\Local\\Programs\\Python\\Python39\\lib\\site-packages\\sklearn\\utils\\validation.py:2739: UserWarning: X does not have valid feature names, but LGBMClassifier was fitted with feature names\n",
      "  warnings.warn(\n"
     ]
    }
   ],
   "source": [
    "# ============================================\n",
    "# Random DAG → Top-15 → mul/mulw → LightGBM → O/F/OF\n",
    "# 10-fold CV, O는 1회만 → 총 70회 학습\n",
    "# 결과: 행[original, m, mw, m+mw] × 열[O,F,OF × f1,AUPRC,AUROC,Brier,ECE]\n",
    "# ============================================\n",
    "\n",
    "import numpy as np\n",
    "import pandas as pd\n",
    "from pathlib import Path\n",
    "from typing import List, Dict\n",
    "\n",
    "from sklearn.model_selection import StratifiedKFold, train_test_split\n",
    "from sklearn.metrics import f1_score, roc_auc_score, average_precision_score, brier_score_loss\n",
    "from sklearn.preprocessing import StandardScaler\n",
    "\n",
    "# LightGBM\n",
    "from lightgbm import LGBMClassifier, early_stopping, log_evaluation\n",
    "\n",
    "# ---------------- 설정 ----------------\n",
    "DATA_PATH = \"./training_data.csv\"   # 입력 파일\n",
    "LABEL_COL = \"label\"\n",
    "ID_PREFIX = \"Unnamed\"               # 식별자 접두사(예: 'Unnamed: 0')\n",
    "\n",
    "TOP_K_EDGES   = 15\n",
    "N_SPLITS      = 10\n",
    "RANDOM_STATE  = 42\n",
    "PRINT_PROGRESS = True\n",
    "\n",
    "LGBM_PARAMS = dict(\n",
    "    n_estimators=300,\n",
    "    learning_rate=0.05,\n",
    "    num_leaves=63,\n",
    "    max_depth=-1,\n",
    "    subsample=0.8,\n",
    "    colsample_bytree=0.8,\n",
    "    reg_lambda=1.0,\n",
    "    reg_alpha=0.0,\n",
    "    objective=\"binary\",\n",
    "    class_weight=\"balanced\",\n",
    "    random_state=RANDOM_STATE,\n",
    "    n_jobs=-1\n",
    ")\n",
    "EARLY_STOPPING_ROUNDS = 50\n",
    "# -------------------------------------\n",
    "\n",
    "\n",
    "# 1) 데이터 로드\n",
    "path = Path(DATA_PATH)\n",
    "assert path.exists(), f\"파일을 찾을 수 없습니다: {path}\"\n",
    "df = pd.read_csv(path)\n",
    "\n",
    "assert LABEL_COL in df.columns, f\"'{LABEL_COL}' 컬럼이 없습니다.\"\n",
    "id_cols = [c for c in df.columns if c.startswith(ID_PREFIX)]\n",
    "feature_cols = [c for c in df.columns if c not in id_cols + [LABEL_COL]]\n",
    "\n",
    "X_base = df[feature_cols].copy()\n",
    "y = df[LABEL_COL].astype(int).copy()\n",
    "\n",
    "# 표준화 (랜덤 W 실험 시 scale 통일용)\n",
    "Z = StandardScaler().fit_transform(X_base.values)\n",
    "cols_used = feature_cols\n",
    "p = len(cols_used)\n",
    "\n",
    "# 2) 랜덤 DAG + 랜덤 가중치 생성\n",
    "rng = np.random.default_rng(RANDOM_STATE)\n",
    "\n",
    "# 무작위 방향 그래프 (상삼각만 허용하여 DAG 보장)\n",
    "A = np.zeros((p, p), dtype=float)\n",
    "for i in range(p):\n",
    "    for j in range(i+1, p):  # i < j → i→j 혹은 j→i 중 하나 가능\n",
    "        if rng.random() < 0.2:   # 20% 확률로 간선 생성\n",
    "            if rng.random() < 0.5:\n",
    "                A[j, i] = 1.0   # i → j\n",
    "            else:\n",
    "                A[i, j] = 1.0   # j → i\n",
    "\n",
    "# 랜덤 가중치 행렬 (연결된 edge만)\n",
    "W_used = np.zeros_like(A, dtype=float)\n",
    "for child in range(p):\n",
    "    parents = np.where(A[child, :] == 1.0)[0]\n",
    "    if parents.size == 0:\n",
    "        continue\n",
    "    rand_weights = rng.uniform(-1.0, 1.0, size=parents.size)\n",
    "    W_used[child, parents] = rand_weights\n",
    "\n",
    "\n",
    "# === 유틸 ===\n",
    "def pick_top_k_edges(W: np.ndarray, cols: List[str], top_k: int = 15):\n",
    "    n = W.shape[0]\n",
    "    flat = []\n",
    "    for i in range(n):\n",
    "        for j in range(n):\n",
    "            if i == j:\n",
    "                continue\n",
    "            w = W[i, j]\n",
    "            if w == 0.0:\n",
    "                continue\n",
    "            flat.append((i, j, w))\n",
    "    flat.sort(key=lambda t: (abs(t[2]), t[2]), reverse=True)\n",
    "    return flat[:top_k]\n",
    "\n",
    "def expected_calibration_error(y_true, y_prob, n_bins: int = 10):\n",
    "    y_true = np.asarray(y_true)\n",
    "    y_prob = np.asarray(y_prob)\n",
    "    bins = np.linspace(0.0, 1.0, n_bins + 1)\n",
    "    ece = 0.0\n",
    "    total = len(y_true)\n",
    "    for b in range(n_bins):\n",
    "        left, right = bins[b], bins[b+1]\n",
    "        mask = (y_prob >= left) & (y_prob < right) if b < n_bins-1 else (y_prob >= left) & (y_prob <= right)\n",
    "        if not np.any(mask):\n",
    "            continue\n",
    "        acc = y_true[mask].mean()\n",
    "        conf = y_prob[mask].mean()\n",
    "        ece += (mask.sum() / total) * abs(acc - conf)\n",
    "    return float(ece)\n",
    "\n",
    "def build_feature_df(X_base: pd.DataFrame, cols: List[str], W: np.ndarray, feature_type: str = \"mul\", top_k: int = 15):\n",
    "    edges = pick_top_k_edges(W, cols, top_k=top_k)\n",
    "    feats = {}\n",
    "    for i, j, w_ij in edges:\n",
    "        A_name = cols[j]; B_name = cols[i]\n",
    "        if feature_type == \"mul\":\n",
    "            name = f\"{A_name}_mul_{B_name}\"\n",
    "            val = X_base[A_name] * X_base[B_name]\n",
    "        elif feature_type == \"mulw\":\n",
    "            name = f\"{A_name}_mulw_{B_name}\"\n",
    "            val = w_ij * (X_base[A_name] * X_base[B_name])\n",
    "        else:\n",
    "            raise ValueError(\"feature_type must be 'mul' or 'mulw'\")\n",
    "        feats[name] = val.values\n",
    "    return pd.DataFrame(feats, index=X_base.index)\n",
    "\n",
    "\n",
    "# === LightGBM 교차검증 ===\n",
    "def run_cv_lgbm(X: pd.DataFrame, y: pd.Series, n_splits=10, random_state=42, tag: str = \"\") -> Dict[str, float]:\n",
    "    skf = StratifiedKFold(n_splits=n_splits, shuffle=True, random_state=random_state)\n",
    "    f1s, auprcs, aurocs, briers, eces = [], [], [], [], []\n",
    "\n",
    "    X_np = X.values.astype(np.float32)\n",
    "    y_np = y.values.astype(int)\n",
    "\n",
    "    for fold, (tr_idx, te_idx) in enumerate(skf.split(X_np, y_np), start=1):\n",
    "        if PRINT_PROGRESS and tag:\n",
    "            print(f\"[{tag}] fold {fold}/{n_splits} ...\", flush=True)\n",
    "\n",
    "        X_tr, X_te = X_np[tr_idx], X_np[te_idx]\n",
    "        y_tr, y_te = y_np[tr_idx], y_np[te_idx]\n",
    "\n",
    "        # 내부 검증(조기 종료)\n",
    "        X_tr_sub, X_val, y_tr_sub, y_val = train_test_split(\n",
    "            X_tr, y_tr, test_size=0.2, random_state=random_state, stratify=y_tr\n",
    "        )\n",
    "\n",
    "        clf = LGBMClassifier(**LGBM_PARAMS)\n",
    "        clf.fit(\n",
    "            X_tr_sub, y_tr_sub,\n",
    "            eval_set=[(X_val, y_val)],\n",
    "            eval_metric=\"auc\",\n",
    "            callbacks=[\n",
    "                early_stopping(EARLY_STOPPING_ROUNDS),\n",
    "                log_evaluation(-1)\n",
    "            ]\n",
    "        )\n",
    "\n",
    "        y_proba = clf.predict_proba(X_te)[:, 1]\n",
    "        y_pred  = (y_proba >= 0.5).astype(int)\n",
    "\n",
    "        f1s.append(f1_score(y_te, y_pred, zero_division=0))\n",
    "        try:\n",
    "            aurocs.append(roc_auc_score(y_te, y_proba))\n",
    "        except Exception:\n",
    "            aurocs.append(np.nan)\n",
    "        try:\n",
    "            auprcs.append(average_precision_score(y_te, y_proba))\n",
    "        except Exception:\n",
    "            auprcs.append(np.nan)\n",
    "        briers.append(brier_score_loss(y_te, y_proba))\n",
    "        eces.append(expected_calibration_error(y_te, y_proba, n_bins=10))\n",
    "\n",
    "    return {\n",
    "        \"f1\": float(np.nanmean(f1s)),\n",
    "        \"AUPRC\": float(np.nanmean(auprcs)),\n",
    "        \"AUROC\": float(np.nanmean(aurocs)),\n",
    "        \"Brier\": float(np.nanmean(briers)),\n",
    "        \"ECE\": float(np.nanmean(eces)),\n",
    "    }\n",
    "\n",
    "\n",
    "# 3) 파생 피처 생성 (랜덤 W 기반)\n",
    "Xf_m   = build_feature_df(X_base[cols_used], cols_used, W_used, feature_type=\"mul\",  top_k=TOP_K_EDGES)\n",
    "Xf_mw  = build_feature_df(X_base[cols_used], cols_used, W_used, feature_type=\"mulw\", top_k=TOP_K_EDGES)\n",
    "Xf_mmw = pd.concat([Xf_m, Xf_mw], axis=1)\n",
    "\n",
    "# 4) 평가\n",
    "res_O      = run_cv_lgbm(X_base, y, n_splits=N_SPLITS, random_state=RANDOM_STATE, tag=\"O(original)\")\n",
    "res_F_m    = run_cv_lgbm(Xf_m,  y, n_splits=N_SPLITS, random_state=RANDOM_STATE, tag=\"F(m)\")\n",
    "res_OF_m   = run_cv_lgbm(pd.concat([X_base, Xf_m], axis=1),  y, n_splits=N_SPLITS, random_state=RANDOM_STATE, tag=\"OF(m)\")\n",
    "\n",
    "res_F_mw   = run_cv_lgbm(Xf_mw, y, n_splits=N_SPLITS, random_state=RANDOM_STATE, tag=\"F(mw)\")\n",
    "res_OF_mw  = run_cv_lgbm(pd.concat([X_base, Xf_mw], axis=1), y, n_splits=N_SPLITS, random_state=RANDOM_STATE, tag=\"OF(mw)\")\n",
    "\n",
    "res_F_mmw  = run_cv_lgbm(Xf_mmw, y, n_splits=N_SPLITS, random_state=RANDOM_STATE, tag=\"F(m+mw)\")\n",
    "res_OF_mmw = run_cv_lgbm(pd.concat([X_base, Xf_mmw], axis=1), y, n_splits=N_SPLITS, random_state=RANDOM_STATE, tag=\"OF(m+mw)\")\n",
    "\n",
    "# 5) 결과 표\n",
    "col_top = [\"O\", \"F\", \"OF\"]\n",
    "col_metrics = [\"f1\", \"AUPRC\", \"AUROC\", \"Brier\", \"ECE\"]\n",
    "multi_cols = pd.MultiIndex.from_product([col_top, col_metrics])\n",
    "index_rows = [\"original\", \"m\", \"mw\", \"m+mw\"]\n",
    "\n",
    "report = pd.DataFrame(index=index_rows, columns=multi_cols, dtype=float)\n",
    "\n",
    "# original 행: O만\n",
    "for met in col_metrics:\n",
    "    report.loc[\"original\", (\"O\", met)] = res_O[met]\n",
    "\n",
    "# m / mw / m+mw 행\n",
    "def put(row, res_F, res_OF):\n",
    "    for met in col_metrics:\n",
    "        report.loc[row, (\"O\", met)]  = res_O[met]\n",
    "        report.loc[row, (\"F\", met)]  = res_F[met]\n",
    "        report.loc[row, (\"OF\", met)] = res_OF[met]\n",
    "\n",
    "put(\"m\",    res_F_m,   res_OF_m)\n",
    "put(\"mw\",   res_F_mw,  res_OF_mw)\n",
    "put(\"m+mw\", res_F_mmw, res_OF_mmw)\n",
    "\n",
    "report = report.astype(float).round(4)\n",
    "print(report)\n"
   ]
  },
  {
   "cell_type": "code",
   "execution_count": null,
   "id": "dad2173c",
   "metadata": {},
   "outputs": [
    {
     "name": "stdout",
     "output_type": "stream",
     "text": [
      "Saved: report_ges_lightgbm_rand_edge_w.csv (format=multi)\n"
     ]
    }
   ],
   "source": [
    "# report: MultiIndex 컬럼의 결과 DataFrame이 이미 존재한다고 가정\n",
    "# format 옵션: \"multi\" | \"flat\" | \"long\"\n",
    "save_format = \"multi\"  # 원하는 포맷으로 변경\n",
    "\n",
    "if save_format == \"multi\":\n",
    "    out_path = \"report_ges_lightgbm_rand_edge_w.csv\"\n",
    "    report.to_csv(out_path, encoding=\"utf-8-sig\")\n",
    "\n",
    "elif save_format == \"flat\":\n",
    "    out_path = \"report_ges_lightgbm_rand_edge_w.csv\"\n",
    "    flat_cols = [f\"{top}_{met}\" for top, met in report.columns.to_list()]\n",
    "    report_flat = report.copy()\n",
    "    report_flat.columns = flat_cols\n",
    "    report_flat.to_csv(out_path, encoding=\"utf-8-sig\")\n",
    "\n",
    "elif save_format == \"long\":\n",
    "    out_path = \"report_ges_lightgbm_rand_edge_w.csv\"\n",
    "    report_long = (\n",
    "        report\n",
    "        .rename_axis(index=\"row\", columns=[\"set\", \"metric\"])\n",
    "        .stack([\"set\", \"metric\"])\n",
    "        .to_frame(\"value\")\n",
    "        .reset_index()[[\"row\", \"set\", \"metric\", \"value\"]]\n",
    "    )\n",
    "    report_long.to_csv(out_path, index=False, encoding=\"utf-8-sig\")\n",
    "else:\n",
    "    raise ValueError(\"save_format must be one of: 'multi', 'flat', 'long'\")\n",
    "\n",
    "print(f\"Saved: {out_path} (format={save_format})\")\n"
   ]
  }
 ],
 "metadata": {
  "kernelspec": {
   "display_name": "Python 3",
   "language": "python",
   "name": "python3"
  },
  "language_info": {
   "codemirror_mode": {
    "name": "ipython",
    "version": 3
   },
   "file_extension": ".py",
   "mimetype": "text/x-python",
   "name": "python",
   "nbconvert_exporter": "python",
   "pygments_lexer": "ipython3",
   "version": "3.9.1"
  }
 },
 "nbformat": 4,
 "nbformat_minor": 5
}
